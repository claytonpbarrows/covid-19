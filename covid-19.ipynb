{
 "cells": [
  {
   "cell_type": "markdown",
   "metadata": {},
   "source": [
    "#  *This is a very simple estimate of COVID-19 impacts, and I don't claim to know anything other than how to produce a nice figure and do simple math*"
   ]
  },
  {
   "cell_type": "code",
   "execution_count": 1,
   "metadata": {},
   "outputs": [
    {
     "data": {
      "text/html": [
       "<script>\n",
       "// Immediately-invoked-function-expression to avoid global variables.\n",
       "(function() {\n",
       "    var warning_div = document.getElementById(\"webio-warning-17772316287167429344\");\n",
       "    var hide = function () {\n",
       "        var script = document.getElementById(\"webio-setup-3920177953639290476\");\n",
       "        var parent = script && script.parentElement;\n",
       "        var grandparent = parent && parent.parentElement;\n",
       "        if (grandparent) {\n",
       "            grandparent.style.display = \"none\";\n",
       "        }\n",
       "        warning_div.style.display = \"none\";\n",
       "    };\n",
       "    if (typeof Jupyter !== \"undefined\") {\n",
       "        console.log(\"WebIO detected Jupyter notebook environment.\");\n",
       "        // Jupyter notebook.\n",
       "        var extensions = (\n",
       "            Jupyter\n",
       "            && Jupyter.notebook.config.data\n",
       "            && Jupyter.notebook.config.data.load_extensions\n",
       "        );\n",
       "        if (extensions && extensions[\"webio-jupyter-notebook\"]) {\n",
       "            // Extension already loaded.\n",
       "            console.log(\"Jupyter WebIO nbextension detected; not loading ad-hoc.\");\n",
       "            hide();\n",
       "            return;\n",
       "        }\n",
       "    } else if (window.location.pathname.includes(\"/lab\")) {\n",
       "        // Guessing JupyterLa\n",
       "        console.log(\"Jupyter Lab detected; make sure the @webio/jupyter-lab-provider labextension is installed.\");\n",
       "        hide();\n",
       "        return;\n",
       "    }\n",
       "})();\n",
       "\n",
       "</script>\n",
       "<p\n",
       "    id=\"webio-warning-17772316287167429344\"\n",
       "    class=\"output_text output_stderr\"\n",
       "    style=\"padding: 1em; font-weight: bold;\"\n",
       ">\n",
       "    Unable to load WebIO. Please make sure WebIO works for your Jupyter client.\n",
       "    For troubleshooting, please see <a href=\"https://juliagizmos.github.io/WebIO.jl/latest/providers/ijulia/\">\n",
       "    the WebIO/IJulia documentation</a>.\n",
       "    <!-- TODO: link to installation docs. -->\n",
       "</p>\n"
      ],
      "text/plain": [
       "HTML{String}(\"<script>\\n// Immediately-invoked-function-expression to avoid global variables.\\n(function() {\\n    var warning_div = document.getElementById(\\\"webio-warning-17772316287167429344\\\");\\n    var hide = function () {\\n        var script = document.getElementById(\\\"webio-setup-3920177953639290476\\\");\\n        var parent = script && script.parentElement;\\n        var grandparent = parent && parent.parentElement;\\n        if (grandparent) {\\n            grandparent.style.display = \\\"none\\\";\\n        }\\n        warning_div.style.display = \\\"none\\\";\\n    };\\n    if (typeof Jupyter !== \\\"undefined\\\") {\\n        console.log(\\\"WebIO detected Jupyter notebook environment.\\\");\\n        // Jupyter notebook.\\n        var extensions = (\\n            Jupyter\\n            && Jupyter.notebook.config.data\\n            && Jupyter.notebook.config.data.load_extensions\\n        );\\n        if (extensions && extensions[\\\"webio-jupyter-notebook\\\"]) {\\n            // Extension already loaded.\\n            console.log(\\\"Jupyter WebIO nbextension detected; not loading ad-hoc.\\\");\\n            hide();\\n            return;\\n        }\\n    } else if (window.location.pathname.includes(\\\"/lab\\\")) {\\n        // Guessing JupyterLa\\n        console.log(\\\"Jupyter Lab detected; make sure the @webio/jupyter-lab-provider labextension is installed.\\\");\\n        hide();\\n        return;\\n    }\\n})();\\n\\n</script>\\n<p\\n    id=\\\"webio-warning-17772316287167429344\\\"\\n    class=\\\"output_text output_stderr\\\"\\n    style=\\\"padding: 1em; font-weight: bold;\\\"\\n>\\n    Unable to load WebIO. Please make sure WebIO works for your Jupyter client.\\n    For troubleshooting, please see <a href=\\\"https://juliagizmos.github.io/WebIO.jl/latest/providers/ijulia/\\\">\\n    the WebIO/IJulia documentation</a>.\\n    <!-- TODO: link to installation docs. -->\\n</p>\\n\")"
      ]
     },
     "metadata": {},
     "output_type": "display_data"
    }
   ],
   "source": [
    "using Dates\n",
    "using PlotlyJS"
   ]
  },
  {
   "cell_type": "code",
   "execution_count": 2,
   "metadata": {},
   "outputs": [
    {
     "data": {
      "text/plain": [
       "cases (generic function with 1 method)"
      ]
     },
     "execution_count": 2,
     "metadata": {},
     "output_type": "execute_result"
    }
   ],
   "source": [
    "function cases(days::Day, current_cases, doubling_time)\n",
    "    dbl_period = days/doubling_time\n",
    "    return current_cases * (2 ^ dbl_period)\n",
    "end"
   ]
  },
  {
   "cell_type": "code",
   "execution_count": 3,
   "metadata": {},
   "outputs": [
    {
     "data": {
      "text/plain": [
       "plot_covid (generic function with 4 methods)"
      ]
     },
     "execution_count": 3,
     "metadata": {},
     "output_type": "execute_result"
    }
   ],
   "source": [
    "function plot_covid(days, current_cases, doubling_time = Day(6), hosp_rate = 0.1, death_rate = 0.03)\n",
    "    td = today()\n",
    "    dates = td:doubling_time:(td+days)\n",
    "    case_count = [cases(d-td, current_cases, doubling_time) for d in dates]\n",
    "    total_cases = scatter(x = dates, y = case_count, name = \"Infections\")\n",
    "    hosp = scatter(x = dates, y = case_count.*hosp_rate, name = \"Hospitalizations\")\n",
    "    deaths = scatter(x = dates, y = case_count.*death_rate, name = \"Deaths\")\n",
    "    plot([total_cases, hosp, deaths])\n",
    "end"
   ]
  },
  {
   "cell_type": "markdown",
   "metadata": {},
   "source": [
    "## COVID-19 parameters\n",
    " - According to [this article](https://wwwnc.cdc.gov/eid/article/26/5/20-0146_article), the estimated doubling time of COVID-19 is ~7 days.\n",
    " - According to [the WHO](https://www.who.int/docs/default-source/coronaviruse/situation-reports/20200306-sitrep-46-covid-19.pdf?sfvrsn=96b04adf_2), the mortality rate of COVID-19 is ~3%.\n",
    " - I don't know where the 10% hospitalization rate comes from.\n"
   ]
  },
  {
   "cell_type": "markdown",
   "metadata": {},
   "source": [
    "## Colorado\n",
    "According to [CDPHE](https://docs.google.com/document/d/e/2PACX-1vRSxDeeJEaDxir0cCd9Sfji8ZPKzNaCPZnvRCbG63Oa1ztz4B4r7xG_wsoC9ucd_ei3--Pz7UD50yQD/pub) there are currently 33 positive cases in Colorado"
   ]
  },
  {
   "cell_type": "code",
   "execution_count": 6,
   "metadata": {},
   "outputs": [
    {
     "data": {
      "application/vnd.plotly.v1+json": {
       "data": [
        {
         "name": "Infections",
         "type": "scatter",
         "x": [
          "2020-03-12",
          "2020-03-18",
          "2020-03-24",
          "2020-03-30",
          "2020-04-05",
          "2020-04-11",
          "2020-04-17",
          "2020-04-23",
          "2020-04-29",
          "2020-05-05",
          "2020-05-11"
         ],
         "y": [
          33,
          66,
          132,
          264,
          528,
          1056,
          2112,
          4224,
          8448,
          16896,
          33792
         ]
        },
        {
         "name": "Hospitalizations",
         "type": "scatter",
         "x": [
          "2020-03-12",
          "2020-03-18",
          "2020-03-24",
          "2020-03-30",
          "2020-04-05",
          "2020-04-11",
          "2020-04-17",
          "2020-04-23",
          "2020-04-29",
          "2020-05-05",
          "2020-05-11"
         ],
         "y": [
          3.3000000000000003,
          6.6000000000000005,
          13.200000000000001,
          26.400000000000002,
          52.800000000000004,
          105.60000000000001,
          211.20000000000002,
          422.40000000000003,
          844.8000000000001,
          1689.6000000000001,
          3379.2000000000003
         ]
        },
        {
         "name": "Deaths",
         "type": "scatter",
         "x": [
          "2020-03-12",
          "2020-03-18",
          "2020-03-24",
          "2020-03-30",
          "2020-04-05",
          "2020-04-11",
          "2020-04-17",
          "2020-04-23",
          "2020-04-29",
          "2020-05-05",
          "2020-05-11"
         ],
         "y": [
          0.99,
          1.98,
          3.96,
          7.92,
          15.84,
          31.68,
          63.36,
          126.72,
          253.44,
          506.88,
          1013.76
         ]
        }
       ],
       "layout": {
        "margin": {
         "b": 50,
         "l": 50,
         "r": 50,
         "t": 60
        }
       }
      },
      "application/vnd.webio.node+json": {
       "children": [
        {
         "children": [],
         "instanceArgs": {
          "namespace": "html",
          "tag": "div"
         },
         "nodeType": "DOM",
         "props": {
          "id": "plot-46ddec1c-7c62-47e6-9ac3-2383b5090c59"
         },
         "type": "node"
        }
       ],
       "instanceArgs": {
        "handlers": {
         "__get_gd_contents": [
          "(function (prop){prop==\"data\" ? (WebIO.setval({\"name\":\"__gd_contents\",\"scope\":\"72383458633702010\",\"id\":\"15765075706343210240\",\"type\":\"observable\"},this.plotElem.data)) : undefined; return prop==\"layout\" ? (WebIO.setval({\"name\":\"__gd_contents\",\"scope\":\"72383458633702010\",\"id\":\"15765075706343210240\",\"type\":\"observable\"},this.plotElem.layout)) : undefined})"
         ],
         "_commands": [
          "(function (args){var fn=args.shift(); var elem=this.plotElem; var Plotly=this.Plotly; args.unshift(elem); return Plotly[fn].apply(this,args)})"
         ],
         "_downloadImage": [
          "(function (options){return this.Plotly.downloadImage(this.plotElem,options)})"
         ],
         "_toImage": [
          "(function (options){return this.Plotly.toImage(this.plotElem,options).then((function (data){return WebIO.setval({\"name\":\"image\",\"scope\":\"72383458633702010\",\"id\":\"6590245312581022386\",\"type\":\"observable\"},data)}))})"
         ]
        },
        "id": "72383458633702010",
        "imports": {
         "data": [
          {
           "name": "Plotly",
           "type": "js",
           "url": "/assetserver/dd499eeafffc246529ce8ce9204890d7f4da8e7b-plotly-latest.min.js"
          },
          {
           "name": null,
           "type": "js",
           "url": "/assetserver/919d5bdad3adb46aadc35f1289d4eb0a5e295e6b-plotly_webio.bundle.js"
          }
         ],
         "type": "async_block"
        },
        "mount_callbacks": [
         "function () {\n    var handler = ((function (Plotly,PlotlyWebIO){PlotlyWebIO.init(WebIO); var gd=this.dom.querySelector(\"#plot-46ddec1c-7c62-47e6-9ac3-2383b5090c59\"); this.plotElem=gd; this.Plotly=Plotly; (window.Blink!==undefined) ? (gd.style.width=\"100%\", gd.style.height=\"100vh\", gd.style.marginLeft=\"0%\", gd.style.marginTop=\"0vh\") : undefined; window.onresize=(function (){return Plotly.Plots.resize(gd)}); Plotly.newPlot(gd,[{\"y\":[33.0,66.0,132.0,264.0,528.0,1056.0,2112.0,4224.0,8448.0,16896.0,33792.0],\"type\":\"scatter\",\"name\":\"Infections\",\"x\":[\"2020-03-12\",\"2020-03-18\",\"2020-03-24\",\"2020-03-30\",\"2020-04-05\",\"2020-04-11\",\"2020-04-17\",\"2020-04-23\",\"2020-04-29\",\"2020-05-05\",\"2020-05-11\"]},{\"y\":[3.3000000000000003,6.6000000000000005,13.200000000000001,26.400000000000002,52.800000000000004,105.60000000000001,211.20000000000002,422.40000000000003,844.8000000000001,1689.6000000000001,3379.2000000000003],\"type\":\"scatter\",\"name\":\"Hospitalizations\",\"x\":[\"2020-03-12\",\"2020-03-18\",\"2020-03-24\",\"2020-03-30\",\"2020-04-05\",\"2020-04-11\",\"2020-04-17\",\"2020-04-23\",\"2020-04-29\",\"2020-05-05\",\"2020-05-11\"]},{\"y\":[0.99,1.98,3.96,7.92,15.84,31.68,63.36,126.72,253.44,506.88,1013.76],\"type\":\"scatter\",\"name\":\"Deaths\",\"x\":[\"2020-03-12\",\"2020-03-18\",\"2020-03-24\",\"2020-03-30\",\"2020-04-05\",\"2020-04-11\",\"2020-04-17\",\"2020-04-23\",\"2020-04-29\",\"2020-05-05\",\"2020-05-11\"]}],{\"margin\":{\"l\":50,\"b\":50,\"r\":50,\"t\":60}},{}); gd.on(\"plotly_hover\",(function (data){var filtered_data=WebIO.PlotlyCommands.filterEventData(gd,data,\"hover\"); return !(filtered_data.isnil) ? (WebIO.setval({\"name\":\"hover\",\"scope\":\"72383458633702010\",\"id\":\"6241060786171676094\",\"type\":\"observable\"},filtered_data.out)) : undefined})); gd.on(\"plotly_unhover\",(function (){return WebIO.setval({\"name\":\"hover\",\"scope\":\"72383458633702010\",\"id\":\"6241060786171676094\",\"type\":\"observable\"},{})})); gd.on(\"plotly_selected\",(function (data){var filtered_data=WebIO.PlotlyCommands.filterEventData(gd,data,\"selected\"); return !(filtered_data.isnil) ? (WebIO.setval({\"name\":\"selected\",\"scope\":\"72383458633702010\",\"id\":\"13445503047108701198\",\"type\":\"observable\"},filtered_data.out)) : undefined})); gd.on(\"plotly_deselect\",(function (){return WebIO.setval({\"name\":\"selected\",\"scope\":\"72383458633702010\",\"id\":\"13445503047108701198\",\"type\":\"observable\"},{})})); gd.on(\"plotly_relayout\",(function (data){var filtered_data=WebIO.PlotlyCommands.filterEventData(gd,data,\"relayout\"); return !(filtered_data.isnil) ? (WebIO.setval({\"name\":\"relayout\",\"scope\":\"72383458633702010\",\"id\":\"18129680784164638616\",\"type\":\"observable\"},filtered_data.out)) : undefined})); return gd.on(\"plotly_click\",(function (data){var filtered_data=WebIO.PlotlyCommands.filterEventData(gd,data,\"click\"); return !(filtered_data.isnil) ? (WebIO.setval({\"name\":\"click\",\"scope\":\"72383458633702010\",\"id\":\"3846098089214006014\",\"type\":\"observable\"},filtered_data.out)) : undefined}))}));\n    (WebIO.importBlock({\"data\":[{\"name\":\"Plotly\",\"type\":\"js\",\"url\":\"/assetserver/dd499eeafffc246529ce8ce9204890d7f4da8e7b-plotly-latest.min.js\"},{\"name\":null,\"type\":\"js\",\"url\":\"/assetserver/919d5bdad3adb46aadc35f1289d4eb0a5e295e6b-plotly_webio.bundle.js\"}],\"type\":\"async_block\"})).then((imports) => handler.apply(this, imports));\n}\n"
        ],
        "observables": {
         "__gd_contents": {
          "id": "15765075706343210240",
          "sync": false,
          "value": {}
         },
         "__get_gd_contents": {
          "id": "17273219766132556060",
          "sync": false,
          "value": ""
         },
         "_commands": {
          "id": "5402843558713366725",
          "sync": false,
          "value": []
         },
         "_downloadImage": {
          "id": "14687779216583530018",
          "sync": false,
          "value": {}
         },
         "_toImage": {
          "id": "6532105514941547233",
          "sync": false,
          "value": {}
         },
         "click": {
          "id": "3846098089214006014",
          "sync": false,
          "value": {}
         },
         "hover": {
          "id": "6241060786171676094",
          "sync": false,
          "value": {}
         },
         "image": {
          "id": "6590245312581022386",
          "sync": true,
          "value": ""
         },
         "relayout": {
          "id": "18129680784164638616",
          "sync": false,
          "value": {}
         },
         "selected": {
          "id": "13445503047108701198",
          "sync": false,
          "value": {}
         }
        },
        "systemjs_options": null
       },
       "nodeType": "Scope",
       "props": {},
       "type": "node"
      },
      "text/html": [
       "<div\n",
       "    class=\"webio-mountpoint\"\n",
       "    data-webio-mountpoint=\"4640756911511588068\"\n",
       ">\n",
       "    <script>\n",
       "    if (window.require && require.defined && require.defined(\"nbextensions/webio-jupyter-notebook\")) {\n",
       "        console.log(\"Jupyter WebIO extension detected, not mounting.\");\n",
       "    } else if (window.WebIO) {\n",
       "        WebIO.mount(\n",
       "            document.querySelector('[data-webio-mountpoint=\"4640756911511588068\"]'),\n",
       "            {\"props\":{},\"nodeType\":\"Scope\",\"type\":\"node\",\"instanceArgs\":{\"imports\":{\"data\":[{\"name\":\"Plotly\",\"type\":\"js\",\"url\":\"\\/assetserver\\/dd499eeafffc246529ce8ce9204890d7f4da8e7b-plotly-latest.min.js\"},{\"name\":null,\"type\":\"js\",\"url\":\"\\/assetserver\\/919d5bdad3adb46aadc35f1289d4eb0a5e295e6b-plotly_webio.bundle.js\"}],\"type\":\"async_block\"},\"id\":\"72383458633702010\",\"handlers\":{\"_toImage\":[\"(function (options){return this.Plotly.toImage(this.plotElem,options).then((function (data){return WebIO.setval({\\\"name\\\":\\\"image\\\",\\\"scope\\\":\\\"72383458633702010\\\",\\\"id\\\":\\\"6590245312581022386\\\",\\\"type\\\":\\\"observable\\\"},data)}))})\"],\"__get_gd_contents\":[\"(function (prop){prop==\\\"data\\\" ? (WebIO.setval({\\\"name\\\":\\\"__gd_contents\\\",\\\"scope\\\":\\\"72383458633702010\\\",\\\"id\\\":\\\"15765075706343210240\\\",\\\"type\\\":\\\"observable\\\"},this.plotElem.data)) : undefined; return prop==\\\"layout\\\" ? (WebIO.setval({\\\"name\\\":\\\"__gd_contents\\\",\\\"scope\\\":\\\"72383458633702010\\\",\\\"id\\\":\\\"15765075706343210240\\\",\\\"type\\\":\\\"observable\\\"},this.plotElem.layout)) : undefined})\"],\"_downloadImage\":[\"(function (options){return this.Plotly.downloadImage(this.plotElem,options)})\"],\"_commands\":[\"(function (args){var fn=args.shift(); var elem=this.plotElem; var Plotly=this.Plotly; args.unshift(elem); return Plotly[fn].apply(this,args)})\"]},\"systemjs_options\":null,\"mount_callbacks\":[\"function () {\\n    var handler = ((function (Plotly,PlotlyWebIO){PlotlyWebIO.init(WebIO); var gd=this.dom.querySelector(\\\"#plot-46ddec1c-7c62-47e6-9ac3-2383b5090c59\\\"); this.plotElem=gd; this.Plotly=Plotly; (window.Blink!==undefined) ? (gd.style.width=\\\"100%\\\", gd.style.height=\\\"100vh\\\", gd.style.marginLeft=\\\"0%\\\", gd.style.marginTop=\\\"0vh\\\") : undefined; window.onresize=(function (){return Plotly.Plots.resize(gd)}); Plotly.newPlot(gd,[{\\\"y\\\":[33.0,66.0,132.0,264.0,528.0,1056.0,2112.0,4224.0,8448.0,16896.0,33792.0],\\\"type\\\":\\\"scatter\\\",\\\"name\\\":\\\"Infections\\\",\\\"x\\\":[\\\"2020-03-12\\\",\\\"2020-03-18\\\",\\\"2020-03-24\\\",\\\"2020-03-30\\\",\\\"2020-04-05\\\",\\\"2020-04-11\\\",\\\"2020-04-17\\\",\\\"2020-04-23\\\",\\\"2020-04-29\\\",\\\"2020-05-05\\\",\\\"2020-05-11\\\"]},{\\\"y\\\":[3.3000000000000003,6.6000000000000005,13.200000000000001,26.400000000000002,52.800000000000004,105.60000000000001,211.20000000000002,422.40000000000003,844.8000000000001,1689.6000000000001,3379.2000000000003],\\\"type\\\":\\\"scatter\\\",\\\"name\\\":\\\"Hospitalizations\\\",\\\"x\\\":[\\\"2020-03-12\\\",\\\"2020-03-18\\\",\\\"2020-03-24\\\",\\\"2020-03-30\\\",\\\"2020-04-05\\\",\\\"2020-04-11\\\",\\\"2020-04-17\\\",\\\"2020-04-23\\\",\\\"2020-04-29\\\",\\\"2020-05-05\\\",\\\"2020-05-11\\\"]},{\\\"y\\\":[0.99,1.98,3.96,7.92,15.84,31.68,63.36,126.72,253.44,506.88,1013.76],\\\"type\\\":\\\"scatter\\\",\\\"name\\\":\\\"Deaths\\\",\\\"x\\\":[\\\"2020-03-12\\\",\\\"2020-03-18\\\",\\\"2020-03-24\\\",\\\"2020-03-30\\\",\\\"2020-04-05\\\",\\\"2020-04-11\\\",\\\"2020-04-17\\\",\\\"2020-04-23\\\",\\\"2020-04-29\\\",\\\"2020-05-05\\\",\\\"2020-05-11\\\"]}],{\\\"margin\\\":{\\\"l\\\":50,\\\"b\\\":50,\\\"r\\\":50,\\\"t\\\":60}},{}); gd.on(\\\"plotly_hover\\\",(function (data){var filtered_data=WebIO.PlotlyCommands.filterEventData(gd,data,\\\"hover\\\"); return !(filtered_data.isnil) ? (WebIO.setval({\\\"name\\\":\\\"hover\\\",\\\"scope\\\":\\\"72383458633702010\\\",\\\"id\\\":\\\"6241060786171676094\\\",\\\"type\\\":\\\"observable\\\"},filtered_data.out)) : undefined})); gd.on(\\\"plotly_unhover\\\",(function (){return WebIO.setval({\\\"name\\\":\\\"hover\\\",\\\"scope\\\":\\\"72383458633702010\\\",\\\"id\\\":\\\"6241060786171676094\\\",\\\"type\\\":\\\"observable\\\"},{})})); gd.on(\\\"plotly_selected\\\",(function (data){var filtered_data=WebIO.PlotlyCommands.filterEventData(gd,data,\\\"selected\\\"); return !(filtered_data.isnil) ? (WebIO.setval({\\\"name\\\":\\\"selected\\\",\\\"scope\\\":\\\"72383458633702010\\\",\\\"id\\\":\\\"13445503047108701198\\\",\\\"type\\\":\\\"observable\\\"},filtered_data.out)) : undefined})); gd.on(\\\"plotly_deselect\\\",(function (){return WebIO.setval({\\\"name\\\":\\\"selected\\\",\\\"scope\\\":\\\"72383458633702010\\\",\\\"id\\\":\\\"13445503047108701198\\\",\\\"type\\\":\\\"observable\\\"},{})})); gd.on(\\\"plotly_relayout\\\",(function (data){var filtered_data=WebIO.PlotlyCommands.filterEventData(gd,data,\\\"relayout\\\"); return !(filtered_data.isnil) ? (WebIO.setval({\\\"name\\\":\\\"relayout\\\",\\\"scope\\\":\\\"72383458633702010\\\",\\\"id\\\":\\\"18129680784164638616\\\",\\\"type\\\":\\\"observable\\\"},filtered_data.out)) : undefined})); return gd.on(\\\"plotly_click\\\",(function (data){var filtered_data=WebIO.PlotlyCommands.filterEventData(gd,data,\\\"click\\\"); return !(filtered_data.isnil) ? (WebIO.setval({\\\"name\\\":\\\"click\\\",\\\"scope\\\":\\\"72383458633702010\\\",\\\"id\\\":\\\"3846098089214006014\\\",\\\"type\\\":\\\"observable\\\"},filtered_data.out)) : undefined}))}));\\n    (WebIO.importBlock({\\\"data\\\":[{\\\"name\\\":\\\"Plotly\\\",\\\"type\\\":\\\"js\\\",\\\"url\\\":\\\"\\/assetserver\\/dd499eeafffc246529ce8ce9204890d7f4da8e7b-plotly-latest.min.js\\\"},{\\\"name\\\":null,\\\"type\\\":\\\"js\\\",\\\"url\\\":\\\"\\/assetserver\\/919d5bdad3adb46aadc35f1289d4eb0a5e295e6b-plotly_webio.bundle.js\\\"}],\\\"type\\\":\\\"async_block\\\"})).then((imports) => handler.apply(this, imports));\\n}\\n\"],\"observables\":{\"_toImage\":{\"sync\":false,\"id\":\"6532105514941547233\",\"value\":{}},\"hover\":{\"sync\":false,\"id\":\"6241060786171676094\",\"value\":{}},\"selected\":{\"sync\":false,\"id\":\"13445503047108701198\",\"value\":{}},\"__gd_contents\":{\"sync\":false,\"id\":\"15765075706343210240\",\"value\":{}},\"click\":{\"sync\":false,\"id\":\"3846098089214006014\",\"value\":{}},\"image\":{\"sync\":true,\"id\":\"6590245312581022386\",\"value\":\"\"},\"__get_gd_contents\":{\"sync\":false,\"id\":\"17273219766132556060\",\"value\":\"\"},\"_downloadImage\":{\"sync\":false,\"id\":\"14687779216583530018\",\"value\":{}},\"relayout\":{\"sync\":false,\"id\":\"18129680784164638616\",\"value\":{}},\"_commands\":{\"sync\":false,\"id\":\"5402843558713366725\",\"value\":[]}}},\"children\":[{\"props\":{\"id\":\"plot-46ddec1c-7c62-47e6-9ac3-2383b5090c59\"},\"nodeType\":\"DOM\",\"type\":\"node\",\"instanceArgs\":{\"namespace\":\"html\",\"tag\":\"div\"},\"children\":[]}]},\n",
       "            window,\n",
       "        );\n",
       "    } else {\n",
       "        document\n",
       "            .querySelector('[data-webio-mountpoint=\"4640756911511588068\"]')\n",
       "            .innerHTML = (\n",
       "                '<strong>WebIO not detected. Please read ' +\n",
       "                '<a href=\"https://juliagizmos.github.io/WebIO.jl/latest/troubleshooting/not-detected/\">the troubleshooting guide</a> ' +\n",
       "                'for more information on how to resolve this issue.' +\n",
       "                '</strong>'\n",
       "            );\n",
       "    }\n",
       "    </script>\n",
       "</div>\n"
      ],
      "text/plain": [
       "data: [\n",
       "  \"scatter with fields name, type, x, and y\",\n",
       "  \"scatter with fields name, type, x, and y\",\n",
       "  \"scatter with fields name, type, x, and y\"\n",
       "]\n",
       "\n",
       "layout: \"layout with field margin\"\n",
       "\n"
      ]
     },
     "execution_count": 6,
     "metadata": {
      "application/vnd.webio.node+json": {
       "kernelId": "6477c83b-daeb-4041-abad-b0dd9f047179"
      }
     },
     "output_type": "execute_result"
    }
   ],
   "source": [
    "plot_covid(Day(60), 33)"
   ]
  },
  {
   "cell_type": "markdown",
   "metadata": {},
   "source": [
    "## US\n",
    "According to the [CDC](https://www.cdc.gov/coronavirus/2019-ncov/cases-in-us.html) there are currently 1219 cases in the US."
   ]
  },
  {
   "cell_type": "code",
   "execution_count": 5,
   "metadata": {},
   "outputs": [
    {
     "data": {
      "application/vnd.plotly.v1+json": {
       "data": [
        {
         "name": "Infections",
         "type": "scatter",
         "x": [
          "2020-03-12",
          "2020-03-18",
          "2020-03-24",
          "2020-03-30",
          "2020-04-05",
          "2020-04-11",
          "2020-04-17",
          "2020-04-23",
          "2020-04-29",
          "2020-05-05",
          "2020-05-11",
          "2020-05-17",
          "2020-05-23",
          "2020-05-29",
          "2020-06-04",
          "2020-06-10"
         ],
         "y": [
          1219,
          2438,
          4876,
          9752,
          19504,
          39008,
          78016,
          156032,
          312064,
          624128,
          1248256,
          2496512,
          4993024,
          9986048,
          19972096,
          39944192
         ]
        },
        {
         "name": "Hospitalizations",
         "type": "scatter",
         "x": [
          "2020-03-12",
          "2020-03-18",
          "2020-03-24",
          "2020-03-30",
          "2020-04-05",
          "2020-04-11",
          "2020-04-17",
          "2020-04-23",
          "2020-04-29",
          "2020-05-05",
          "2020-05-11",
          "2020-05-17",
          "2020-05-23",
          "2020-05-29",
          "2020-06-04",
          "2020-06-10"
         ],
         "y": [
          121.9,
          243.8,
          487.6,
          975.2,
          1950.4,
          3900.8,
          7801.6,
          15603.2,
          31206.4,
          62412.8,
          124825.6,
          249651.2,
          499302.4,
          998604.8,
          1997209.6,
          3994419.2
         ]
        },
        {
         "name": "Deaths",
         "type": "scatter",
         "x": [
          "2020-03-12",
          "2020-03-18",
          "2020-03-24",
          "2020-03-30",
          "2020-04-05",
          "2020-04-11",
          "2020-04-17",
          "2020-04-23",
          "2020-04-29",
          "2020-05-05",
          "2020-05-11",
          "2020-05-17",
          "2020-05-23",
          "2020-05-29",
          "2020-06-04",
          "2020-06-10"
         ],
         "y": [
          36.57,
          73.14,
          146.28,
          292.56,
          585.12,
          1170.24,
          2340.48,
          4680.96,
          9361.92,
          18723.84,
          37447.68,
          74895.36,
          149790.72,
          299581.44,
          599162.88,
          1198325.76
         ]
        }
       ],
       "layout": {
        "margin": {
         "b": 50,
         "l": 50,
         "r": 50,
         "t": 60
        }
       }
      },
      "application/vnd.webio.node+json": {
       "children": [
        {
         "children": [],
         "instanceArgs": {
          "namespace": "html",
          "tag": "div"
         },
         "nodeType": "DOM",
         "props": {
          "id": "plot-9a998e21-a8bf-4c6c-a84f-4f2c7b894641"
         },
         "type": "node"
        }
       ],
       "instanceArgs": {
        "handlers": {
         "__get_gd_contents": [
          "(function (prop){prop==\"data\" ? (WebIO.setval({\"name\":\"__gd_contents\",\"scope\":\"16149853187244785609\",\"id\":\"6719994028357321000\",\"type\":\"observable\"},this.plotElem.data)) : undefined; return prop==\"layout\" ? (WebIO.setval({\"name\":\"__gd_contents\",\"scope\":\"16149853187244785609\",\"id\":\"6719994028357321000\",\"type\":\"observable\"},this.plotElem.layout)) : undefined})"
         ],
         "_commands": [
          "(function (args){var fn=args.shift(); var elem=this.plotElem; var Plotly=this.Plotly; args.unshift(elem); return Plotly[fn].apply(this,args)})"
         ],
         "_downloadImage": [
          "(function (options){return this.Plotly.downloadImage(this.plotElem,options)})"
         ],
         "_toImage": [
          "(function (options){return this.Plotly.toImage(this.plotElem,options).then((function (data){return WebIO.setval({\"name\":\"image\",\"scope\":\"16149853187244785609\",\"id\":\"11304391179635398942\",\"type\":\"observable\"},data)}))})"
         ]
        },
        "id": "16149853187244785609",
        "imports": {
         "data": [
          {
           "name": "Plotly",
           "type": "js",
           "url": "/assetserver/dd499eeafffc246529ce8ce9204890d7f4da8e7b-plotly-latest.min.js"
          },
          {
           "name": null,
           "type": "js",
           "url": "/assetserver/919d5bdad3adb46aadc35f1289d4eb0a5e295e6b-plotly_webio.bundle.js"
          }
         ],
         "type": "async_block"
        },
        "mount_callbacks": [
         "function () {\n    var handler = ((function (Plotly,PlotlyWebIO){PlotlyWebIO.init(WebIO); var gd=this.dom.querySelector(\"#plot-9a998e21-a8bf-4c6c-a84f-4f2c7b894641\"); this.plotElem=gd; this.Plotly=Plotly; (window.Blink!==undefined) ? (gd.style.width=\"100%\", gd.style.height=\"100vh\", gd.style.marginLeft=\"0%\", gd.style.marginTop=\"0vh\") : undefined; window.onresize=(function (){return Plotly.Plots.resize(gd)}); Plotly.newPlot(gd,[{\"y\":[1219.0,2438.0,4876.0,9752.0,19504.0,39008.0,78016.0,156032.0,312064.0,624128.0,1.248256e6,2.496512e6,4.993024e6,9.986048e6,1.9972096e7,3.9944192e7],\"type\":\"scatter\",\"name\":\"Infections\",\"x\":[\"2020-03-12\",\"2020-03-18\",\"2020-03-24\",\"2020-03-30\",\"2020-04-05\",\"2020-04-11\",\"2020-04-17\",\"2020-04-23\",\"2020-04-29\",\"2020-05-05\",\"2020-05-11\",\"2020-05-17\",\"2020-05-23\",\"2020-05-29\",\"2020-06-04\",\"2020-06-10\"]},{\"y\":[121.9,243.8,487.6,975.2,1950.4,3900.8,7801.6,15603.2,31206.4,62412.8,124825.6,249651.2,499302.4,998604.8,1.9972096e6,3.9944192e6],\"type\":\"scatter\",\"name\":\"Hospitalizations\",\"x\":[\"2020-03-12\",\"2020-03-18\",\"2020-03-24\",\"2020-03-30\",\"2020-04-05\",\"2020-04-11\",\"2020-04-17\",\"2020-04-23\",\"2020-04-29\",\"2020-05-05\",\"2020-05-11\",\"2020-05-17\",\"2020-05-23\",\"2020-05-29\",\"2020-06-04\",\"2020-06-10\"]},{\"y\":[36.57,73.14,146.28,292.56,585.12,1170.24,2340.48,4680.96,9361.92,18723.84,37447.68,74895.36,149790.72,299581.44,599162.88,1.19832576e6],\"type\":\"scatter\",\"name\":\"Deaths\",\"x\":[\"2020-03-12\",\"2020-03-18\",\"2020-03-24\",\"2020-03-30\",\"2020-04-05\",\"2020-04-11\",\"2020-04-17\",\"2020-04-23\",\"2020-04-29\",\"2020-05-05\",\"2020-05-11\",\"2020-05-17\",\"2020-05-23\",\"2020-05-29\",\"2020-06-04\",\"2020-06-10\"]}],{\"margin\":{\"l\":50,\"b\":50,\"r\":50,\"t\":60}},{}); gd.on(\"plotly_hover\",(function (data){var filtered_data=WebIO.PlotlyCommands.filterEventData(gd,data,\"hover\"); return !(filtered_data.isnil) ? (WebIO.setval({\"name\":\"hover\",\"scope\":\"16149853187244785609\",\"id\":\"5341442300321359056\",\"type\":\"observable\"},filtered_data.out)) : undefined})); gd.on(\"plotly_unhover\",(function (){return WebIO.setval({\"name\":\"hover\",\"scope\":\"16149853187244785609\",\"id\":\"5341442300321359056\",\"type\":\"observable\"},{})})); gd.on(\"plotly_selected\",(function (data){var filtered_data=WebIO.PlotlyCommands.filterEventData(gd,data,\"selected\"); return !(filtered_data.isnil) ? (WebIO.setval({\"name\":\"selected\",\"scope\":\"16149853187244785609\",\"id\":\"12887473459473059590\",\"type\":\"observable\"},filtered_data.out)) : undefined})); gd.on(\"plotly_deselect\",(function (){return WebIO.setval({\"name\":\"selected\",\"scope\":\"16149853187244785609\",\"id\":\"12887473459473059590\",\"type\":\"observable\"},{})})); gd.on(\"plotly_relayout\",(function (data){var filtered_data=WebIO.PlotlyCommands.filterEventData(gd,data,\"relayout\"); return !(filtered_data.isnil) ? (WebIO.setval({\"name\":\"relayout\",\"scope\":\"16149853187244785609\",\"id\":\"10681459102089993389\",\"type\":\"observable\"},filtered_data.out)) : undefined})); return gd.on(\"plotly_click\",(function (data){var filtered_data=WebIO.PlotlyCommands.filterEventData(gd,data,\"click\"); return !(filtered_data.isnil) ? (WebIO.setval({\"name\":\"click\",\"scope\":\"16149853187244785609\",\"id\":\"8361633735569607575\",\"type\":\"observable\"},filtered_data.out)) : undefined}))}));\n    (WebIO.importBlock({\"data\":[{\"name\":\"Plotly\",\"type\":\"js\",\"url\":\"/assetserver/dd499eeafffc246529ce8ce9204890d7f4da8e7b-plotly-latest.min.js\"},{\"name\":null,\"type\":\"js\",\"url\":\"/assetserver/919d5bdad3adb46aadc35f1289d4eb0a5e295e6b-plotly_webio.bundle.js\"}],\"type\":\"async_block\"})).then((imports) => handler.apply(this, imports));\n}\n"
        ],
        "observables": {
         "__gd_contents": {
          "id": "6719994028357321000",
          "sync": false,
          "value": {}
         },
         "__get_gd_contents": {
          "id": "16634674509620439738",
          "sync": false,
          "value": ""
         },
         "_commands": {
          "id": "4263400743254147013",
          "sync": false,
          "value": []
         },
         "_downloadImage": {
          "id": "18036185659660724164",
          "sync": false,
          "value": {}
         },
         "_toImage": {
          "id": "9998547196342668628",
          "sync": false,
          "value": {}
         },
         "click": {
          "id": "8361633735569607575",
          "sync": false,
          "value": {}
         },
         "hover": {
          "id": "5341442300321359056",
          "sync": false,
          "value": {}
         },
         "image": {
          "id": "11304391179635398942",
          "sync": true,
          "value": ""
         },
         "relayout": {
          "id": "10681459102089993389",
          "sync": false,
          "value": {}
         },
         "selected": {
          "id": "12887473459473059590",
          "sync": false,
          "value": {}
         }
        },
        "systemjs_options": null
       },
       "nodeType": "Scope",
       "props": {},
       "type": "node"
      },
      "text/html": [
       "<div\n",
       "    class=\"webio-mountpoint\"\n",
       "    data-webio-mountpoint=\"16739685392429172289\"\n",
       ">\n",
       "    <script>\n",
       "    if (window.require && require.defined && require.defined(\"nbextensions/webio-jupyter-notebook\")) {\n",
       "        console.log(\"Jupyter WebIO extension detected, not mounting.\");\n",
       "    } else if (window.WebIO) {\n",
       "        WebIO.mount(\n",
       "            document.querySelector('[data-webio-mountpoint=\"16739685392429172289\"]'),\n",
       "            {\"props\":{},\"nodeType\":\"Scope\",\"type\":\"node\",\"instanceArgs\":{\"imports\":{\"data\":[{\"name\":\"Plotly\",\"type\":\"js\",\"url\":\"\\/assetserver\\/dd499eeafffc246529ce8ce9204890d7f4da8e7b-plotly-latest.min.js\"},{\"name\":null,\"type\":\"js\",\"url\":\"\\/assetserver\\/919d5bdad3adb46aadc35f1289d4eb0a5e295e6b-plotly_webio.bundle.js\"}],\"type\":\"async_block\"},\"id\":\"16149853187244785609\",\"handlers\":{\"_toImage\":[\"(function (options){return this.Plotly.toImage(this.plotElem,options).then((function (data){return WebIO.setval({\\\"name\\\":\\\"image\\\",\\\"scope\\\":\\\"16149853187244785609\\\",\\\"id\\\":\\\"11304391179635398942\\\",\\\"type\\\":\\\"observable\\\"},data)}))})\"],\"__get_gd_contents\":[\"(function (prop){prop==\\\"data\\\" ? (WebIO.setval({\\\"name\\\":\\\"__gd_contents\\\",\\\"scope\\\":\\\"16149853187244785609\\\",\\\"id\\\":\\\"6719994028357321000\\\",\\\"type\\\":\\\"observable\\\"},this.plotElem.data)) : undefined; return prop==\\\"layout\\\" ? (WebIO.setval({\\\"name\\\":\\\"__gd_contents\\\",\\\"scope\\\":\\\"16149853187244785609\\\",\\\"id\\\":\\\"6719994028357321000\\\",\\\"type\\\":\\\"observable\\\"},this.plotElem.layout)) : undefined})\"],\"_downloadImage\":[\"(function (options){return this.Plotly.downloadImage(this.plotElem,options)})\"],\"_commands\":[\"(function (args){var fn=args.shift(); var elem=this.plotElem; var Plotly=this.Plotly; args.unshift(elem); return Plotly[fn].apply(this,args)})\"]},\"systemjs_options\":null,\"mount_callbacks\":[\"function () {\\n    var handler = ((function (Plotly,PlotlyWebIO){PlotlyWebIO.init(WebIO); var gd=this.dom.querySelector(\\\"#plot-9a998e21-a8bf-4c6c-a84f-4f2c7b894641\\\"); this.plotElem=gd; this.Plotly=Plotly; (window.Blink!==undefined) ? (gd.style.width=\\\"100%\\\", gd.style.height=\\\"100vh\\\", gd.style.marginLeft=\\\"0%\\\", gd.style.marginTop=\\\"0vh\\\") : undefined; window.onresize=(function (){return Plotly.Plots.resize(gd)}); Plotly.newPlot(gd,[{\\\"y\\\":[1219.0,2438.0,4876.0,9752.0,19504.0,39008.0,78016.0,156032.0,312064.0,624128.0,1.248256e6,2.496512e6,4.993024e6,9.986048e6,1.9972096e7,3.9944192e7],\\\"type\\\":\\\"scatter\\\",\\\"name\\\":\\\"Infections\\\",\\\"x\\\":[\\\"2020-03-12\\\",\\\"2020-03-18\\\",\\\"2020-03-24\\\",\\\"2020-03-30\\\",\\\"2020-04-05\\\",\\\"2020-04-11\\\",\\\"2020-04-17\\\",\\\"2020-04-23\\\",\\\"2020-04-29\\\",\\\"2020-05-05\\\",\\\"2020-05-11\\\",\\\"2020-05-17\\\",\\\"2020-05-23\\\",\\\"2020-05-29\\\",\\\"2020-06-04\\\",\\\"2020-06-10\\\"]},{\\\"y\\\":[121.9,243.8,487.6,975.2,1950.4,3900.8,7801.6,15603.2,31206.4,62412.8,124825.6,249651.2,499302.4,998604.8,1.9972096e6,3.9944192e6],\\\"type\\\":\\\"scatter\\\",\\\"name\\\":\\\"Hospitalizations\\\",\\\"x\\\":[\\\"2020-03-12\\\",\\\"2020-03-18\\\",\\\"2020-03-24\\\",\\\"2020-03-30\\\",\\\"2020-04-05\\\",\\\"2020-04-11\\\",\\\"2020-04-17\\\",\\\"2020-04-23\\\",\\\"2020-04-29\\\",\\\"2020-05-05\\\",\\\"2020-05-11\\\",\\\"2020-05-17\\\",\\\"2020-05-23\\\",\\\"2020-05-29\\\",\\\"2020-06-04\\\",\\\"2020-06-10\\\"]},{\\\"y\\\":[36.57,73.14,146.28,292.56,585.12,1170.24,2340.48,4680.96,9361.92,18723.84,37447.68,74895.36,149790.72,299581.44,599162.88,1.19832576e6],\\\"type\\\":\\\"scatter\\\",\\\"name\\\":\\\"Deaths\\\",\\\"x\\\":[\\\"2020-03-12\\\",\\\"2020-03-18\\\",\\\"2020-03-24\\\",\\\"2020-03-30\\\",\\\"2020-04-05\\\",\\\"2020-04-11\\\",\\\"2020-04-17\\\",\\\"2020-04-23\\\",\\\"2020-04-29\\\",\\\"2020-05-05\\\",\\\"2020-05-11\\\",\\\"2020-05-17\\\",\\\"2020-05-23\\\",\\\"2020-05-29\\\",\\\"2020-06-04\\\",\\\"2020-06-10\\\"]}],{\\\"margin\\\":{\\\"l\\\":50,\\\"b\\\":50,\\\"r\\\":50,\\\"t\\\":60}},{}); gd.on(\\\"plotly_hover\\\",(function (data){var filtered_data=WebIO.PlotlyCommands.filterEventData(gd,data,\\\"hover\\\"); return !(filtered_data.isnil) ? (WebIO.setval({\\\"name\\\":\\\"hover\\\",\\\"scope\\\":\\\"16149853187244785609\\\",\\\"id\\\":\\\"5341442300321359056\\\",\\\"type\\\":\\\"observable\\\"},filtered_data.out)) : undefined})); gd.on(\\\"plotly_unhover\\\",(function (){return WebIO.setval({\\\"name\\\":\\\"hover\\\",\\\"scope\\\":\\\"16149853187244785609\\\",\\\"id\\\":\\\"5341442300321359056\\\",\\\"type\\\":\\\"observable\\\"},{})})); gd.on(\\\"plotly_selected\\\",(function (data){var filtered_data=WebIO.PlotlyCommands.filterEventData(gd,data,\\\"selected\\\"); return !(filtered_data.isnil) ? (WebIO.setval({\\\"name\\\":\\\"selected\\\",\\\"scope\\\":\\\"16149853187244785609\\\",\\\"id\\\":\\\"12887473459473059590\\\",\\\"type\\\":\\\"observable\\\"},filtered_data.out)) : undefined})); gd.on(\\\"plotly_deselect\\\",(function (){return WebIO.setval({\\\"name\\\":\\\"selected\\\",\\\"scope\\\":\\\"16149853187244785609\\\",\\\"id\\\":\\\"12887473459473059590\\\",\\\"type\\\":\\\"observable\\\"},{})})); gd.on(\\\"plotly_relayout\\\",(function (data){var filtered_data=WebIO.PlotlyCommands.filterEventData(gd,data,\\\"relayout\\\"); return !(filtered_data.isnil) ? (WebIO.setval({\\\"name\\\":\\\"relayout\\\",\\\"scope\\\":\\\"16149853187244785609\\\",\\\"id\\\":\\\"10681459102089993389\\\",\\\"type\\\":\\\"observable\\\"},filtered_data.out)) : undefined})); return gd.on(\\\"plotly_click\\\",(function (data){var filtered_data=WebIO.PlotlyCommands.filterEventData(gd,data,\\\"click\\\"); return !(filtered_data.isnil) ? (WebIO.setval({\\\"name\\\":\\\"click\\\",\\\"scope\\\":\\\"16149853187244785609\\\",\\\"id\\\":\\\"8361633735569607575\\\",\\\"type\\\":\\\"observable\\\"},filtered_data.out)) : undefined}))}));\\n    (WebIO.importBlock({\\\"data\\\":[{\\\"name\\\":\\\"Plotly\\\",\\\"type\\\":\\\"js\\\",\\\"url\\\":\\\"\\/assetserver\\/dd499eeafffc246529ce8ce9204890d7f4da8e7b-plotly-latest.min.js\\\"},{\\\"name\\\":null,\\\"type\\\":\\\"js\\\",\\\"url\\\":\\\"\\/assetserver\\/919d5bdad3adb46aadc35f1289d4eb0a5e295e6b-plotly_webio.bundle.js\\\"}],\\\"type\\\":\\\"async_block\\\"})).then((imports) => handler.apply(this, imports));\\n}\\n\"],\"observables\":{\"_toImage\":{\"sync\":false,\"id\":\"9998547196342668628\",\"value\":{}},\"hover\":{\"sync\":false,\"id\":\"5341442300321359056\",\"value\":{}},\"selected\":{\"sync\":false,\"id\":\"12887473459473059590\",\"value\":{}},\"__gd_contents\":{\"sync\":false,\"id\":\"6719994028357321000\",\"value\":{}},\"click\":{\"sync\":false,\"id\":\"8361633735569607575\",\"value\":{}},\"image\":{\"sync\":true,\"id\":\"11304391179635398942\",\"value\":\"\"},\"__get_gd_contents\":{\"sync\":false,\"id\":\"16634674509620439738\",\"value\":\"\"},\"_downloadImage\":{\"sync\":false,\"id\":\"18036185659660724164\",\"value\":{}},\"relayout\":{\"sync\":false,\"id\":\"10681459102089993389\",\"value\":{}},\"_commands\":{\"sync\":false,\"id\":\"4263400743254147013\",\"value\":[]}}},\"children\":[{\"props\":{\"id\":\"plot-9a998e21-a8bf-4c6c-a84f-4f2c7b894641\"},\"nodeType\":\"DOM\",\"type\":\"node\",\"instanceArgs\":{\"namespace\":\"html\",\"tag\":\"div\"},\"children\":[]}]},\n",
       "            window,\n",
       "        );\n",
       "    } else {\n",
       "        document\n",
       "            .querySelector('[data-webio-mountpoint=\"16739685392429172289\"]')\n",
       "            .innerHTML = (\n",
       "                '<strong>WebIO not detected. Please read ' +\n",
       "                '<a href=\"https://juliagizmos.github.io/WebIO.jl/latest/troubleshooting/not-detected/\">the troubleshooting guide</a> ' +\n",
       "                'for more information on how to resolve this issue.' +\n",
       "                '</strong>'\n",
       "            );\n",
       "    }\n",
       "    </script>\n",
       "</div>\n"
      ],
      "text/plain": [
       "data: [\n",
       "  \"scatter with fields name, type, x, and y\",\n",
       "  \"scatter with fields name, type, x, and y\",\n",
       "  \"scatter with fields name, type, x, and y\"\n",
       "]\n",
       "\n",
       "layout: \"layout with field margin\"\n",
       "\n"
      ]
     },
     "execution_count": 5,
     "metadata": {
      "application/vnd.webio.node+json": {
       "kernelId": "6477c83b-daeb-4041-abad-b0dd9f047179"
      }
     },
     "output_type": "execute_result"
    }
   ],
   "source": [
    "plot_covid(Day(90), 1219)"
   ]
  },
  {
   "cell_type": "code",
   "execution_count": null,
   "metadata": {},
   "outputs": [],
   "source": []
  }
 ],
 "metadata": {
  "@webio": {
   "lastCommId": "adc3b23ba2404e5f907789e23dda44e0",
   "lastKernelId": "6477c83b-daeb-4041-abad-b0dd9f047179"
  },
  "kernelspec": {
   "display_name": "Julia 1.3.1",
   "language": "julia",
   "name": "julia-1.3"
  },
  "language_info": {
   "file_extension": ".jl",
   "mimetype": "application/julia",
   "name": "julia",
   "version": "1.3.1"
  }
 },
 "nbformat": 4,
 "nbformat_minor": 4
}
