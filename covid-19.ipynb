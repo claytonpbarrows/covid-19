{
 "cells": [
  {
   "outputs": [],
   "cell_type": "markdown",
   "source": [
    "# COVID-19 Analysis\n",
    "Checkout the [webpage with live plots](https://claytonpbarrows.github.io/covid-19/).\n",
    "And if you're intereested:\n",
    "- [the github repository](https://github.com/claytonpbarrows/covid-19/).\n",
    "- [the notebook](https://nbviewer.jupyter.org/github/claytonpbarrows/covid-19/blob/master/covid-19.ipynb).\n",
    "- And if you want to run the notebook interactively through binder (slow), you can do so [here](https://mybinder.org/v2/gh/claytonpbarrows/covid-19/master/).\n",
    "\n",
    "*This is a very simple estimate of COVID-19 impacts, and I don't claim to know anything other than how to produce a nice figure and do simple math. __So please don't misinterpret anything here__.*\n",
    "\n",
    "### Dependencies"
   ],
   "metadata": {}
  },
  {
   "outputs": [],
   "cell_type": "code",
   "source": [
    "using Dates\n",
    "using PlotlyJS\n",
    "using DataFrames\n",
    "using CSV"
   ],
   "metadata": {},
   "execution_count": 1
  },
  {
   "outputs": [],
   "cell_type": "markdown",
   "source": [
    "A simple model for calculating cases based on a constatnt doubling time:"
   ],
   "metadata": {}
  },
  {
   "outputs": [
    {
     "output_type": "execute_result",
     "data": {
      "text/plain": "cases (generic function with 1 method)"
     },
     "metadata": {},
     "execution_count": 2
    }
   ],
   "cell_type": "code",
   "source": [
    "function cases(days::Day, current_cases, doubling_time)\n",
    "    dbl_period = days/doubling_time\n",
    "    return current_cases * (2 ^ dbl_period)\n",
    "end"
   ],
   "metadata": {},
   "execution_count": 2
  },
  {
   "outputs": [],
   "cell_type": "markdown",
   "source": [
    "Here is a function to generate plotly figures based on the simple virus model parameters."
   ],
   "metadata": {}
  },
  {
   "outputs": [
    {
     "output_type": "execute_result",
     "data": {
      "text/plain": "plot_covid (generic function with 4 methods)"
     },
     "metadata": {},
     "execution_count": 3
    }
   ],
   "cell_type": "code",
   "source": [
    "function plot_covid(days, current_cases, doubling_time = Day(7), hosp_rate = 0.1, death_rate = 0.03)\n",
    "    td = today()\n",
    "    dates = td:doubling_time:(td+days)\n",
    "    case_count = [cases(d-td, current_cases, doubling_time) for d in dates]\n",
    "    total_cases = scatter(x = dates, y = case_count, name = \"Infections\")\n",
    "    hosp = scatter(x = dates, y = case_count.*hosp_rate, name = \"Hospitalizations\")\n",
    "    deaths = scatter(x = dates, y = case_count.*death_rate, name = \"Deaths\")\n",
    "    plot([total_cases, hosp, deaths])\n",
    "end"
   ],
   "metadata": {},
   "execution_count": 3
  },
  {
   "outputs": [],
   "cell_type": "markdown",
   "source": [
    "## COVID-19 parameters\n",
    "- According to [this article](https://www.jhsph.edu/news/news-releases/2020/new-study-on-COVID-19-estimates-5-days-for-incubation-period.html), the estimated doubling time of COVID-19 is ~5 days.\n",
    "- According to [the WHO](https://www.who.int/docs/default-source/coronaviruse/situation-reports/20200306-sitrep-46-covid-19.pdf?sfvrsn=96b04adf_2), the mortality rate of COVID-19 is ~3%.\n",
    "- I don't know where the 10% hospitalization rate comes from."
   ],
   "metadata": {}
  },
  {
   "outputs": [],
   "cell_type": "markdown",
   "source": [
    "JHU has put together some more detailed data, and [HDX has put it in a useful format](https://data.humdata.org/dataset/novel-coronavirus-2019-ncov-cases)."
   ],
   "metadata": {}
  },
  {
   "outputs": [
    {
     "output_type": "execute_result",
     "data": {
      "text/plain": "406×55 DataFrame. Omitted printing of 50 columns\n│ Row │ Province/State   │ Country/Region │ Lat      │ Long     │ 1/22/20 │\n│     │ \u001b[90mString⍰\u001b[39m          │ \u001b[90mString\u001b[39m         │ \u001b[90mFloat64\u001b[39m  │ \u001b[90mFloat64\u001b[39m  │ \u001b[90mInt64\u001b[39m   │\n├─────┼──────────────────┼────────────────┼──────────┼──────────┼─────────┤\n│ 1   │ \u001b[90mmissing\u001b[39m          │ Thailand       │ 15.0     │ 101.0    │ 2       │\n│ 2   │ \u001b[90mmissing\u001b[39m          │ Japan          │ 36.0     │ 138.0    │ 2       │\n│ 3   │ \u001b[90mmissing\u001b[39m          │ Singapore      │ 1.2833   │ 103.833  │ 0       │\n│ 4   │ \u001b[90mmissing\u001b[39m          │ Nepal          │ 28.1667  │ 84.25    │ 0       │\n│ 5   │ \u001b[90mmissing\u001b[39m          │ Malaysia       │ 2.5      │ 112.5    │ 0       │\n│ 6   │ British Columbia │ Canada         │ 49.2827  │ -123.121 │ 0       │\n│ 7   │ New South Wales  │ Australia      │ -33.8688 │ 151.209  │ 0       │\n⋮\n│ 399 │ Bon Homme, SD    │ US             │ 42.9815  │ -97.8722 │ 0       │\n│ 400 │ Socorro, NM      │ US             │ 33.8837  │ -106.724 │ 0       │\n│ 401 │ Bernalillo, NM   │ US             │ 35.0178  │ -106.629 │ 0       │\n│ 402 │ Oakland, MI      │ US             │ 42.5922  │ -83.3362 │ 0       │\n│ 403 │ Wayne, MI        │ US             │ 42.2791  │ -83.3362 │ 0       │\n│ 404 │ New Castle, DE   │ US             │ 39.5393  │ -75.6674 │ 0       │\n│ 405 │ \u001b[90mmissing\u001b[39m          │ Cuba           │ 22.0     │ -80.0    │ 0       │\n│ 406 │ \u001b[90mmissing\u001b[39m          │ Guyana         │ 5.0      │ -58.75   │ 0       │",
      "text/html": [
       "<table class=\"data-frame\"><thead><tr><th></th><th>Province/State</th><th>Country/Region</th><th>Lat</th><th>Long</th><th>1/22/20</th><th>1/23/20</th></tr><tr><th></th><th>String⍰</th><th>String</th><th>Float64</th><th>Float64</th><th>Int64</th><th>Int64</th></tr></thead><tbody><p>406 rows × 55 columns (omitted printing of 49 columns)</p><tr><th>1</th><td>missing</td><td>Thailand</td><td>15.0</td><td>101.0</td><td>2</td><td>3</td></tr><tr><th>2</th><td>missing</td><td>Japan</td><td>36.0</td><td>138.0</td><td>2</td><td>1</td></tr><tr><th>3</th><td>missing</td><td>Singapore</td><td>1.2833</td><td>103.833</td><td>0</td><td>1</td></tr><tr><th>4</th><td>missing</td><td>Nepal</td><td>28.1667</td><td>84.25</td><td>0</td><td>0</td></tr><tr><th>5</th><td>missing</td><td>Malaysia</td><td>2.5</td><td>112.5</td><td>0</td><td>0</td></tr><tr><th>6</th><td>British Columbia</td><td>Canada</td><td>49.2827</td><td>-123.121</td><td>0</td><td>0</td></tr><tr><th>7</th><td>New South Wales</td><td>Australia</td><td>-33.8688</td><td>151.209</td><td>0</td><td>0</td></tr><tr><th>8</th><td>Victoria</td><td>Australia</td><td>-37.8136</td><td>144.963</td><td>0</td><td>0</td></tr><tr><th>9</th><td>Queensland</td><td>Australia</td><td>-28.0167</td><td>153.4</td><td>0</td><td>0</td></tr><tr><th>10</th><td>missing</td><td>Cambodia</td><td>11.55</td><td>104.917</td><td>0</td><td>0</td></tr><tr><th>11</th><td>missing</td><td>Sri Lanka</td><td>7.0</td><td>81.0</td><td>0</td><td>0</td></tr><tr><th>12</th><td>missing</td><td>Germany</td><td>51.0</td><td>9.0</td><td>0</td><td>0</td></tr><tr><th>13</th><td>missing</td><td>Finland</td><td>64.0</td><td>26.0</td><td>0</td><td>0</td></tr><tr><th>14</th><td>missing</td><td>United Arab Emirates</td><td>24.0</td><td>54.0</td><td>0</td><td>0</td></tr><tr><th>15</th><td>missing</td><td>Philippines</td><td>13.0</td><td>122.0</td><td>0</td><td>0</td></tr><tr><th>16</th><td>missing</td><td>India</td><td>21.0</td><td>78.0</td><td>0</td><td>0</td></tr><tr><th>17</th><td>missing</td><td>Italy</td><td>43.0</td><td>12.0</td><td>0</td><td>0</td></tr><tr><th>18</th><td>missing</td><td>Sweden</td><td>63.0</td><td>16.0</td><td>0</td><td>0</td></tr><tr><th>19</th><td>missing</td><td>Spain</td><td>40.0</td><td>-4.0</td><td>0</td><td>0</td></tr><tr><th>20</th><td>South Australia</td><td>Australia</td><td>-34.9285</td><td>138.601</td><td>0</td><td>0</td></tr><tr><th>21</th><td>missing</td><td>Belgium</td><td>50.8333</td><td>4.0</td><td>0</td><td>0</td></tr><tr><th>22</th><td>missing</td><td>Egypt</td><td>26.0</td><td>30.0</td><td>0</td><td>0</td></tr><tr><th>23</th><td>From Diamond Princess</td><td>Australia</td><td>35.4437</td><td>139.638</td><td>0</td><td>0</td></tr><tr><th>24</th><td>missing</td><td>Lebanon</td><td>33.8547</td><td>35.8623</td><td>0</td><td>0</td></tr><tr><th>&vellip;</th><td>&vellip;</td><td>&vellip;</td><td>&vellip;</td><td>&vellip;</td><td>&vellip;</td><td>&vellip;</td></tr></tbody></table>"
      ]
     },
     "metadata": {},
     "execution_count": 4
    }
   ],
   "cell_type": "code",
   "source": [
    "jh_data = DataFrame(CSV.read(download(\"https://data.humdata.org/hxlproxy/api/data-preview.csv?url=https%3A%2F%2Fraw.githubusercontent.com%2FCSSEGISandData%2FCOVID-19%2Fmaster%2Fcsse_covid_19_data%2Fcsse_covid_19_time_series%2Ftime_series_19-covid-Confirmed.csv\")))"
   ],
   "metadata": {},
   "execution_count": 4
  },
  {
   "outputs": [],
   "cell_type": "markdown",
   "source": [
    "## Colorado\n",
    "data processing"
   ],
   "metadata": {}
  },
  {
   "outputs": [
    {
     "name": "stdout",
     "output_type": "stream",
     "text": [
      "┌ Warning: `melt(df::AbstractDataFrame, id_vars; variable_name::Symbol=:variable, value_name::Symbol=:value, view::Bool=false)` is deprecated, use `stack(df, Not(id_vars); variable_name=variable_name, value_name=value_name, view=view)` instead.\n",
      "│   caller = ip:0x0\n",
      "└ @ Core :-1\n"
     ]
    },
    {
     "output_type": "execute_result",
     "data": {
      "text/plain": "45"
     },
     "metadata": {},
     "execution_count": 5
    }
   ],
   "cell_type": "code",
   "source": [
    "co_data = jh_data[.!ismissing.(jh_data[!,Symbol(\"Province/State\")]) .& (jh_data[!,Symbol(\"Province/State\")].==\"Colorado\"),:]\n",
    "co_data = melt(co_data,names(co_data)[1:4],variable_name = :Date, value_name =:cases)\n",
    "co_data.Date = Date.(String.(co_data.Date),\"m/d/y\") + Year(2000)\n",
    "recent_cases = co_data[co_data.Date .== maximum(co_data.Date),:cases][1]"
   ],
   "metadata": {},
   "execution_count": 5
  },
  {
   "outputs": [],
   "cell_type": "markdown",
   "source": [
    "Plot the colorado projection using the most recent case count"
   ],
   "metadata": {}
  },
  {
   "outputs": [
    {
     "name": "stdout",
     "output_type": "stream",
     "text": [
      "┌ Warning: Accessing `scope.id` is deprecated, use `scopeid(scope)` instead.\n",
      "│   caller = ip:0x0\n",
      "└ @ Core :-1\n"
     ]
    },
    {
     "output_type": "execute_result",
     "data": {
      "text/plain": "data: [\n  \"scatter with fields name, type, x, and y\",\n  \"scatter with fields name, type, x, and y\",\n  \"scatter with fields name, type, x, and y\"\n]\n\nlayout: \"layout with field margin\"\n\n",
      "text/html": [
       "<div\n",
       "    class=\"webio-mountpoint\"\n",
       "    data-webio-mountpoint=\"4901036739648818783\"\n",
       ">\n",
       "    <script>\n",
       "    if (window.require && require.defined && require.defined(\"nbextensions/webio-jupyter-notebook\")) {\n",
       "        console.log(\"Jupyter WebIO extension detected, not mounting.\");\n",
       "    } else if (window.WebIO) {\n",
       "        WebIO.mount(\n",
       "            document.querySelector('[data-webio-mountpoint=\"4901036739648818783\"]'),\n",
       "            {\"props\":{},\"nodeType\":\"Scope\",\"type\":\"node\",\"instanceArgs\":{\"imports\":{\"data\":[{\"name\":\"Plotly\",\"type\":\"js\",\"url\":\"\\/assetserver\\/dd499eeafffc246529ce8ce9204890d7f4da8e7b-plotly-latest.min.js\"},{\"name\":null,\"type\":\"js\",\"url\":\"\\/assetserver\\/919d5bdad3adb46aadc35f1289d4eb0a5e295e6b-plotly_webio.bundle.js\"}],\"type\":\"async_block\"},\"id\":\"6933535481287559264\",\"handlers\":{\"_toImage\":[\"(function (options){return this.Plotly.toImage(this.plotElem,options).then((function (data){return WebIO.setval({\\\"name\\\":\\\"image\\\",\\\"scope\\\":\\\"6933535481287559264\\\",\\\"id\\\":\\\"12093291524254238372\\\",\\\"type\\\":\\\"observable\\\"},data)}))})\"],\"__get_gd_contents\":[\"(function (prop){prop==\\\"data\\\" ? (WebIO.setval({\\\"name\\\":\\\"__gd_contents\\\",\\\"scope\\\":\\\"6933535481287559264\\\",\\\"id\\\":\\\"11306317880193364156\\\",\\\"type\\\":\\\"observable\\\"},this.plotElem.data)) : undefined; return prop==\\\"layout\\\" ? (WebIO.setval({\\\"name\\\":\\\"__gd_contents\\\",\\\"scope\\\":\\\"6933535481287559264\\\",\\\"id\\\":\\\"11306317880193364156\\\",\\\"type\\\":\\\"observable\\\"},this.plotElem.layout)) : undefined})\"],\"_downloadImage\":[\"(function (options){return this.Plotly.downloadImage(this.plotElem,options)})\"],\"_commands\":[\"(function (args){var fn=args.shift(); var elem=this.plotElem; var Plotly=this.Plotly; args.unshift(elem); return Plotly[fn].apply(this,args)})\"]},\"systemjs_options\":null,\"mount_callbacks\":[\"function () {\\n    var handler = ((function (Plotly,PlotlyWebIO){PlotlyWebIO.init(WebIO); var gd=this.dom.querySelector(\\\"#plot-d5f4e5fa-7b10-4576-82c7-a61b53fc732f\\\"); this.plotElem=gd; this.Plotly=Plotly; (window.Blink!==undefined) ? (gd.style.width=\\\"100%\\\", gd.style.height=\\\"100vh\\\", gd.style.marginLeft=\\\"0%\\\", gd.style.marginTop=\\\"0vh\\\") : undefined; window.onresize=(function (){return Plotly.Plots.resize(gd)}); Plotly.newPlot(gd,[{\\\"y\\\":[45.0,90.0,180.0,360.0,720.0,1440.0,2880.0,5760.0,11520.0,23040.0,46080.0,92160.0,184320.0],\\\"type\\\":\\\"scatter\\\",\\\"name\\\":\\\"Infections\\\",\\\"x\\\":[\\\"2020-03-13\\\",\\\"2020-03-18\\\",\\\"2020-03-23\\\",\\\"2020-03-28\\\",\\\"2020-04-02\\\",\\\"2020-04-07\\\",\\\"2020-04-12\\\",\\\"2020-04-17\\\",\\\"2020-04-22\\\",\\\"2020-04-27\\\",\\\"2020-05-02\\\",\\\"2020-05-07\\\",\\\"2020-05-12\\\"]},{\\\"y\\\":[4.5,9.0,18.0,36.0,72.0,144.0,288.0,576.0,1152.0,2304.0,4608.0,9216.0,18432.0],\\\"type\\\":\\\"scatter\\\",\\\"name\\\":\\\"Hospitalizations\\\",\\\"x\\\":[\\\"2020-03-13\\\",\\\"2020-03-18\\\",\\\"2020-03-23\\\",\\\"2020-03-28\\\",\\\"2020-04-02\\\",\\\"2020-04-07\\\",\\\"2020-04-12\\\",\\\"2020-04-17\\\",\\\"2020-04-22\\\",\\\"2020-04-27\\\",\\\"2020-05-02\\\",\\\"2020-05-07\\\",\\\"2020-05-12\\\"]},{\\\"y\\\":[1.3499999999999999,2.6999999999999997,5.3999999999999995,10.799999999999999,21.599999999999998,43.199999999999996,86.39999999999999,172.79999999999998,345.59999999999997,691.1999999999999,1382.3999999999999,2764.7999999999997,5529.599999999999],\\\"type\\\":\\\"scatter\\\",\\\"name\\\":\\\"Deaths\\\",\\\"x\\\":[\\\"2020-03-13\\\",\\\"2020-03-18\\\",\\\"2020-03-23\\\",\\\"2020-03-28\\\",\\\"2020-04-02\\\",\\\"2020-04-07\\\",\\\"2020-04-12\\\",\\\"2020-04-17\\\",\\\"2020-04-22\\\",\\\"2020-04-27\\\",\\\"2020-05-02\\\",\\\"2020-05-07\\\",\\\"2020-05-12\\\"]}],{\\\"margin\\\":{\\\"l\\\":50,\\\"b\\\":50,\\\"r\\\":50,\\\"t\\\":60}},{}); gd.on(\\\"plotly_hover\\\",(function (data){var filtered_data=WebIO.PlotlyCommands.filterEventData(gd,data,\\\"hover\\\"); return !(filtered_data.isnil) ? (WebIO.setval({\\\"name\\\":\\\"hover\\\",\\\"scope\\\":\\\"6933535481287559264\\\",\\\"id\\\":\\\"15656423356332253899\\\",\\\"type\\\":\\\"observable\\\"},filtered_data.out)) : undefined})); gd.on(\\\"plotly_unhover\\\",(function (){return WebIO.setval({\\\"name\\\":\\\"hover\\\",\\\"scope\\\":\\\"6933535481287559264\\\",\\\"id\\\":\\\"15656423356332253899\\\",\\\"type\\\":\\\"observable\\\"},{})})); gd.on(\\\"plotly_selected\\\",(function (data){var filtered_data=WebIO.PlotlyCommands.filterEventData(gd,data,\\\"selected\\\"); return !(filtered_data.isnil) ? (WebIO.setval({\\\"name\\\":\\\"selected\\\",\\\"scope\\\":\\\"6933535481287559264\\\",\\\"id\\\":\\\"16714192762239194010\\\",\\\"type\\\":\\\"observable\\\"},filtered_data.out)) : undefined})); gd.on(\\\"plotly_deselect\\\",(function (){return WebIO.setval({\\\"name\\\":\\\"selected\\\",\\\"scope\\\":\\\"6933535481287559264\\\",\\\"id\\\":\\\"16714192762239194010\\\",\\\"type\\\":\\\"observable\\\"},{})})); gd.on(\\\"plotly_relayout\\\",(function (data){var filtered_data=WebIO.PlotlyCommands.filterEventData(gd,data,\\\"relayout\\\"); return !(filtered_data.isnil) ? (WebIO.setval({\\\"name\\\":\\\"relayout\\\",\\\"scope\\\":\\\"6933535481287559264\\\",\\\"id\\\":\\\"12334963520874461221\\\",\\\"type\\\":\\\"observable\\\"},filtered_data.out)) : undefined})); return gd.on(\\\"plotly_click\\\",(function (data){var filtered_data=WebIO.PlotlyCommands.filterEventData(gd,data,\\\"click\\\"); return !(filtered_data.isnil) ? (WebIO.setval({\\\"name\\\":\\\"click\\\",\\\"scope\\\":\\\"6933535481287559264\\\",\\\"id\\\":\\\"6560460643904353591\\\",\\\"type\\\":\\\"observable\\\"},filtered_data.out)) : undefined}))}));\\n    (WebIO.importBlock({\\\"data\\\":[{\\\"name\\\":\\\"Plotly\\\",\\\"type\\\":\\\"js\\\",\\\"url\\\":\\\"\\/assetserver\\/dd499eeafffc246529ce8ce9204890d7f4da8e7b-plotly-latest.min.js\\\"},{\\\"name\\\":null,\\\"type\\\":\\\"js\\\",\\\"url\\\":\\\"\\/assetserver\\/919d5bdad3adb46aadc35f1289d4eb0a5e295e6b-plotly_webio.bundle.js\\\"}],\\\"type\\\":\\\"async_block\\\"})).then((imports) => handler.apply(this, imports));\\n}\\n\"],\"observables\":{\"_toImage\":{\"sync\":false,\"id\":\"11099805357752963469\",\"value\":{}},\"hover\":{\"sync\":false,\"id\":\"15656423356332253899\",\"value\":{}},\"selected\":{\"sync\":false,\"id\":\"16714192762239194010\",\"value\":{}},\"__gd_contents\":{\"sync\":false,\"id\":\"11306317880193364156\",\"value\":{}},\"click\":{\"sync\":false,\"id\":\"6560460643904353591\",\"value\":{}},\"image\":{\"sync\":true,\"id\":\"12093291524254238372\",\"value\":\"\"},\"__get_gd_contents\":{\"sync\":false,\"id\":\"13372345745662485571\",\"value\":\"\"},\"_downloadImage\":{\"sync\":false,\"id\":\"16000219582125789544\",\"value\":{}},\"relayout\":{\"sync\":false,\"id\":\"12334963520874461221\",\"value\":{}},\"_commands\":{\"sync\":false,\"id\":\"5488562773419430457\",\"value\":[]}}},\"children\":[{\"props\":{\"id\":\"plot-d5f4e5fa-7b10-4576-82c7-a61b53fc732f\"},\"nodeType\":\"DOM\",\"type\":\"node\",\"instanceArgs\":{\"namespace\":\"html\",\"tag\":\"div\"},\"children\":[]}]},\n",
       "            window,\n",
       "        );\n",
       "    } else {\n",
       "        document\n",
       "            .querySelector('[data-webio-mountpoint=\"4901036739648818783\"]')\n",
       "            .innerHTML = (\n",
       "                '<strong>WebIO not detected. Please read ' +\n",
       "                '<a href=\"https://juliagizmos.github.io/WebIO.jl/latest/troubleshooting/not-detected/\">the troubleshooting guide</a> ' +\n",
       "                'for more information on how to resolve this issue.' +\n",
       "                '</strong>'\n",
       "            );\n",
       "    }\n",
       "    </script>\n",
       "</div>\n"
      ]
     },
     "metadata": {},
     "execution_count": 6
    }
   ],
   "cell_type": "code",
   "source": [
    "plot_covid(Day(60), recent_cases, Day(5))"
   ],
   "metadata": {},
   "execution_count": 6
  },
  {
   "outputs": [],
   "cell_type": "markdown",
   "source": [
    "## US\n",
    "data processing"
   ],
   "metadata": {}
  },
  {
   "outputs": [
    {
     "name": "stdout",
     "output_type": "stream",
     "text": [
      "┌ Warning: `melt(df::AbstractDataFrame, id_vars; variable_name::Symbol=:variable, value_name::Symbol=:value, view::Bool=false)` is deprecated, use `stack(df, Not(id_vars); variable_name=variable_name, value_name=value_name, view=view)` instead.\n",
      "│   caller = ip:0x0\n",
      "└ @ Core :-1\n"
     ]
    },
    {
     "output_type": "execute_result",
     "data": {
      "text/plain": "1663"
     },
     "metadata": {},
     "execution_count": 7
    }
   ],
   "cell_type": "code",
   "source": [
    "us_data = jh_data[.!ismissing.(jh_data[!,Symbol(\"Country/Region\")]) .& (jh_data[!,Symbol(\"Country/Region\")].==\"US\"),:]\n",
    "us_data = us_data[.!occursin.(\",\", us_data[!,Symbol(\"Province/State\")]), :]\n",
    "us_data = melt(us_data,names(us_data)[1:4],variable_name = :Date, value_name =:cases)\n",
    "us_data.Date = Date.(String.(us_data.Date),\"m/d/y\") + Year(2000)\n",
    "us_data = aggregate(us_data[!,[:Date,:cases]], :Date, sum)\n",
    "recent_us_cases = us_data[us_data.Date .== maximum(us_data.Date),:cases_sum][1]"
   ],
   "metadata": {},
   "execution_count": 7
  },
  {
   "outputs": [],
   "cell_type": "markdown",
   "source": [
    "Plot the US projection based on the most recent case  count"
   ],
   "metadata": {}
  },
  {
   "outputs": [
    {
     "name": "stdout",
     "output_type": "stream",
     "text": [
      "┌ Warning: Accessing `scope.id` is deprecated, use `scopeid(scope)` instead.\n",
      "│   caller = ip:0x0\n",
      "└ @ Core :-1\n"
     ]
    },
    {
     "output_type": "execute_result",
     "data": {
      "text/plain": "data: [\n  \"scatter with fields name, type, x, and y\",\n  \"scatter with fields name, type, x, and y\",\n  \"scatter with fields name, type, x, and y\"\n]\n\nlayout: \"layout with field margin\"\n\n",
      "text/html": [
       "<div\n",
       "    class=\"webio-mountpoint\"\n",
       "    data-webio-mountpoint=\"11349108361604159010\"\n",
       ">\n",
       "    <script>\n",
       "    if (window.require && require.defined && require.defined(\"nbextensions/webio-jupyter-notebook\")) {\n",
       "        console.log(\"Jupyter WebIO extension detected, not mounting.\");\n",
       "    } else if (window.WebIO) {\n",
       "        WebIO.mount(\n",
       "            document.querySelector('[data-webio-mountpoint=\"11349108361604159010\"]'),\n",
       "            {\"props\":{},\"nodeType\":\"Scope\",\"type\":\"node\",\"instanceArgs\":{\"imports\":{\"data\":[{\"name\":\"Plotly\",\"type\":\"js\",\"url\":\"\\/assetserver\\/dd499eeafffc246529ce8ce9204890d7f4da8e7b-plotly-latest.min.js\"},{\"name\":null,\"type\":\"js\",\"url\":\"\\/assetserver\\/919d5bdad3adb46aadc35f1289d4eb0a5e295e6b-plotly_webio.bundle.js\"}],\"type\":\"async_block\"},\"id\":\"11738316189849874613\",\"handlers\":{\"_toImage\":[\"(function (options){return this.Plotly.toImage(this.plotElem,options).then((function (data){return WebIO.setval({\\\"name\\\":\\\"image\\\",\\\"scope\\\":\\\"11738316189849874613\\\",\\\"id\\\":\\\"2495483920450023242\\\",\\\"type\\\":\\\"observable\\\"},data)}))})\"],\"__get_gd_contents\":[\"(function (prop){prop==\\\"data\\\" ? (WebIO.setval({\\\"name\\\":\\\"__gd_contents\\\",\\\"scope\\\":\\\"11738316189849874613\\\",\\\"id\\\":\\\"8585546501594801706\\\",\\\"type\\\":\\\"observable\\\"},this.plotElem.data)) : undefined; return prop==\\\"layout\\\" ? (WebIO.setval({\\\"name\\\":\\\"__gd_contents\\\",\\\"scope\\\":\\\"11738316189849874613\\\",\\\"id\\\":\\\"8585546501594801706\\\",\\\"type\\\":\\\"observable\\\"},this.plotElem.layout)) : undefined})\"],\"_downloadImage\":[\"(function (options){return this.Plotly.downloadImage(this.plotElem,options)})\"],\"_commands\":[\"(function (args){var fn=args.shift(); var elem=this.plotElem; var Plotly=this.Plotly; args.unshift(elem); return Plotly[fn].apply(this,args)})\"]},\"systemjs_options\":null,\"mount_callbacks\":[\"function () {\\n    var handler = ((function (Plotly,PlotlyWebIO){PlotlyWebIO.init(WebIO); var gd=this.dom.querySelector(\\\"#plot-b03258f3-d024-4f3d-9d80-21ecbad4d622\\\"); this.plotElem=gd; this.Plotly=Plotly; (window.Blink!==undefined) ? (gd.style.width=\\\"100%\\\", gd.style.height=\\\"100vh\\\", gd.style.marginLeft=\\\"0%\\\", gd.style.marginTop=\\\"0vh\\\") : undefined; window.onresize=(function (){return Plotly.Plots.resize(gd)}); Plotly.newPlot(gd,[{\\\"y\\\":[1663.0,3326.0,6652.0,13304.0,26608.0,53216.0,106432.0,212864.0,425728.0,851456.0,1.702912e6,3.405824e6,6.811648e6,1.3623296e7,2.7246592e7,5.4493184e7,1.08986368e8,2.17972736e8,4.35945472e8,8.71890944e8,1.743781888e9],\\\"type\\\":\\\"scatter\\\",\\\"name\\\":\\\"Infections\\\",\\\"x\\\":[\\\"2020-03-13\\\",\\\"2020-03-18\\\",\\\"2020-03-23\\\",\\\"2020-03-28\\\",\\\"2020-04-02\\\",\\\"2020-04-07\\\",\\\"2020-04-12\\\",\\\"2020-04-17\\\",\\\"2020-04-22\\\",\\\"2020-04-27\\\",\\\"2020-05-02\\\",\\\"2020-05-07\\\",\\\"2020-05-12\\\",\\\"2020-05-17\\\",\\\"2020-05-22\\\",\\\"2020-05-27\\\",\\\"2020-06-01\\\",\\\"2020-06-06\\\",\\\"2020-06-11\\\",\\\"2020-06-16\\\",\\\"2020-06-21\\\"]},{\\\"y\\\":[166.3,332.6,665.2,1330.4,2660.8,5321.6,10643.2,21286.4,42572.8,85145.6,170291.2,340582.4,681164.8,1.3623296e6,2.7246592e6,5.4493184e6,1.08986368e7,2.17972736e7,4.35945472e7,8.71890944e7,1.743781888e8],\\\"type\\\":\\\"scatter\\\",\\\"name\\\":\\\"Hospitalizations\\\",\\\"x\\\":[\\\"2020-03-13\\\",\\\"2020-03-18\\\",\\\"2020-03-23\\\",\\\"2020-03-28\\\",\\\"2020-04-02\\\",\\\"2020-04-07\\\",\\\"2020-04-12\\\",\\\"2020-04-17\\\",\\\"2020-04-22\\\",\\\"2020-04-27\\\",\\\"2020-05-02\\\",\\\"2020-05-07\\\",\\\"2020-05-12\\\",\\\"2020-05-17\\\",\\\"2020-05-22\\\",\\\"2020-05-27\\\",\\\"2020-06-01\\\",\\\"2020-06-06\\\",\\\"2020-06-11\\\",\\\"2020-06-16\\\",\\\"2020-06-21\\\"]},{\\\"y\\\":[49.89,99.78,199.56,399.12,798.24,1596.48,3192.96,6385.92,12771.84,25543.68,51087.36,102174.72,204349.44,408698.88,817397.76,1.63479552e6,3.26959104e6,6.53918208e6,1.307836416e7,2.615672832e7,5.231345664e7],\\\"type\\\":\\\"scatter\\\",\\\"name\\\":\\\"Deaths\\\",\\\"x\\\":[\\\"2020-03-13\\\",\\\"2020-03-18\\\",\\\"2020-03-23\\\",\\\"2020-03-28\\\",\\\"2020-04-02\\\",\\\"2020-04-07\\\",\\\"2020-04-12\\\",\\\"2020-04-17\\\",\\\"2020-04-22\\\",\\\"2020-04-27\\\",\\\"2020-05-02\\\",\\\"2020-05-07\\\",\\\"2020-05-12\\\",\\\"2020-05-17\\\",\\\"2020-05-22\\\",\\\"2020-05-27\\\",\\\"2020-06-01\\\",\\\"2020-06-06\\\",\\\"2020-06-11\\\",\\\"2020-06-16\\\",\\\"2020-06-21\\\"]}],{\\\"margin\\\":{\\\"l\\\":50,\\\"b\\\":50,\\\"r\\\":50,\\\"t\\\":60}},{}); gd.on(\\\"plotly_hover\\\",(function (data){var filtered_data=WebIO.PlotlyCommands.filterEventData(gd,data,\\\"hover\\\"); return !(filtered_data.isnil) ? (WebIO.setval({\\\"name\\\":\\\"hover\\\",\\\"scope\\\":\\\"11738316189849874613\\\",\\\"id\\\":\\\"5516806448224087571\\\",\\\"type\\\":\\\"observable\\\"},filtered_data.out)) : undefined})); gd.on(\\\"plotly_unhover\\\",(function (){return WebIO.setval({\\\"name\\\":\\\"hover\\\",\\\"scope\\\":\\\"11738316189849874613\\\",\\\"id\\\":\\\"5516806448224087571\\\",\\\"type\\\":\\\"observable\\\"},{})})); gd.on(\\\"plotly_selected\\\",(function (data){var filtered_data=WebIO.PlotlyCommands.filterEventData(gd,data,\\\"selected\\\"); return !(filtered_data.isnil) ? (WebIO.setval({\\\"name\\\":\\\"selected\\\",\\\"scope\\\":\\\"11738316189849874613\\\",\\\"id\\\":\\\"15519069571915557323\\\",\\\"type\\\":\\\"observable\\\"},filtered_data.out)) : undefined})); gd.on(\\\"plotly_deselect\\\",(function (){return WebIO.setval({\\\"name\\\":\\\"selected\\\",\\\"scope\\\":\\\"11738316189849874613\\\",\\\"id\\\":\\\"15519069571915557323\\\",\\\"type\\\":\\\"observable\\\"},{})})); gd.on(\\\"plotly_relayout\\\",(function (data){var filtered_data=WebIO.PlotlyCommands.filterEventData(gd,data,\\\"relayout\\\"); return !(filtered_data.isnil) ? (WebIO.setval({\\\"name\\\":\\\"relayout\\\",\\\"scope\\\":\\\"11738316189849874613\\\",\\\"id\\\":\\\"16713677269444445193\\\",\\\"type\\\":\\\"observable\\\"},filtered_data.out)) : undefined})); return gd.on(\\\"plotly_click\\\",(function (data){var filtered_data=WebIO.PlotlyCommands.filterEventData(gd,data,\\\"click\\\"); return !(filtered_data.isnil) ? (WebIO.setval({\\\"name\\\":\\\"click\\\",\\\"scope\\\":\\\"11738316189849874613\\\",\\\"id\\\":\\\"11741079247681056794\\\",\\\"type\\\":\\\"observable\\\"},filtered_data.out)) : undefined}))}));\\n    (WebIO.importBlock({\\\"data\\\":[{\\\"name\\\":\\\"Plotly\\\",\\\"type\\\":\\\"js\\\",\\\"url\\\":\\\"\\/assetserver\\/dd499eeafffc246529ce8ce9204890d7f4da8e7b-plotly-latest.min.js\\\"},{\\\"name\\\":null,\\\"type\\\":\\\"js\\\",\\\"url\\\":\\\"\\/assetserver\\/919d5bdad3adb46aadc35f1289d4eb0a5e295e6b-plotly_webio.bundle.js\\\"}],\\\"type\\\":\\\"async_block\\\"})).then((imports) => handler.apply(this, imports));\\n}\\n\"],\"observables\":{\"_toImage\":{\"sync\":false,\"id\":\"7509362122750014795\",\"value\":{}},\"hover\":{\"sync\":false,\"id\":\"5516806448224087571\",\"value\":{}},\"selected\":{\"sync\":false,\"id\":\"15519069571915557323\",\"value\":{}},\"__gd_contents\":{\"sync\":false,\"id\":\"8585546501594801706\",\"value\":{}},\"click\":{\"sync\":false,\"id\":\"11741079247681056794\",\"value\":{}},\"image\":{\"sync\":true,\"id\":\"2495483920450023242\",\"value\":\"\"},\"__get_gd_contents\":{\"sync\":false,\"id\":\"3755335164827781834\",\"value\":\"\"},\"_downloadImage\":{\"sync\":false,\"id\":\"11710837006398849941\",\"value\":{}},\"relayout\":{\"sync\":false,\"id\":\"16713677269444445193\",\"value\":{}},\"_commands\":{\"sync\":false,\"id\":\"13253059666750248302\",\"value\":[]}}},\"children\":[{\"props\":{\"id\":\"plot-b03258f3-d024-4f3d-9d80-21ecbad4d622\"},\"nodeType\":\"DOM\",\"type\":\"node\",\"instanceArgs\":{\"namespace\":\"html\",\"tag\":\"div\"},\"children\":[]}]},\n",
       "            window,\n",
       "        );\n",
       "    } else {\n",
       "        document\n",
       "            .querySelector('[data-webio-mountpoint=\"11349108361604159010\"]')\n",
       "            .innerHTML = (\n",
       "                '<strong>WebIO not detected. Please read ' +\n",
       "                '<a href=\"https://juliagizmos.github.io/WebIO.jl/latest/troubleshooting/not-detected/\">the troubleshooting guide</a> ' +\n",
       "                'for more information on how to resolve this issue.' +\n",
       "                '</strong>'\n",
       "            );\n",
       "    }\n",
       "    </script>\n",
       "</div>\n"
      ]
     },
     "metadata": {},
     "execution_count": 8
    }
   ],
   "cell_type": "code",
   "source": [
    "plot_covid(Day(100), recent_us_cases, Day(5))"
   ],
   "metadata": {},
   "execution_count": 8
  },
  {
   "outputs": [],
   "cell_type": "markdown",
   "source": [
    "---\n",
    "\n",
    "*This notebook was generated using [Literate.jl](https://github.com/fredrikekre/Literate.jl).*"
   ],
   "metadata": {}
  }
 ],
 "nbformat_minor": 3,
 "metadata": {
  "language_info": {
   "file_extension": ".jl",
   "mimetype": "application/julia",
   "name": "julia",
   "version": "1.3.1"
  },
  "kernelspec": {
   "name": "julia-1.3",
   "display_name": "Julia 1.3.1",
   "language": "julia"
  }
 },
 "nbformat": 4
}
