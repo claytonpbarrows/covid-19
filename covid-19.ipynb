{
 "cells": [
  {
   "outputs": [],
   "cell_type": "markdown",
   "source": [
    "# COVID-19 Analysis\n",
    "Checkout the [webpage with live plots](https://claytonpbarrows.github.io/covid-19/).\n",
    "And if you're interested:\n",
    "- [the github repository](https://github.com/claytonpbarrows/covid-19/).\n",
    "- [the notebook](https://nbviewer.jupyter.org/github/claytonpbarrows/covid-19/blob/master/covid-19.ipynb).\n",
    "- And if you want to run the notebook interactively through binder (slow), you can do so [here](https://mybinder.org/v2/gh/claytonpbarrows/covid-19/master/).\n",
    "\n",
    "*This is a very simple estimate of COVID-19 impacts, and I don't claim to know anything other than how to produce a nice figure and do simple math. __So please don't misinterpret anything here__.*\n",
    "\n",
    "### Dependencies"
   ],
   "metadata": {}
  },
  {
   "outputs": [],
   "cell_type": "code",
   "source": [
    "using Dates\n",
    "using PlotlyJS\n",
    "using DataFrames\n",
    "using CSV"
   ],
   "metadata": {},
   "execution_count": 1
  },
  {
   "outputs": [],
   "cell_type": "markdown",
   "source": [
    "A simple model for calculating cases based on a constant doubling time:"
   ],
   "metadata": {}
  },
  {
   "outputs": [
    {
     "output_type": "execute_result",
     "data": {
      "text/plain": "cases (generic function with 1 method)"
     },
     "metadata": {},
     "execution_count": 2
    }
   ],
   "cell_type": "code",
   "source": [
    "function cases(days::Day, current_cases, doubling_time::Day)\n",
    "    dbl_period = days/doubling_time\n",
    "    return current_cases * (2 ^ dbl_period)\n",
    "end"
   ],
   "metadata": {},
   "execution_count": 2
  },
  {
   "outputs": [],
   "cell_type": "markdown",
   "source": [
    "A simple model for calculating instantaneous case load given a recovery time:\n",
    "*note that the instantaneous case calculation assumes that the death time is the same as the recovery time*"
   ],
   "metadata": {}
  },
  {
   "outputs": [
    {
     "output_type": "execute_result",
     "data": {
      "text/plain": "instantanious_cases (generic function with 1 method)"
     },
     "metadata": {},
     "execution_count": 3
    }
   ],
   "cell_type": "code",
   "source": [
    "function instantanious_cases(dates, cumulative_cases, hosp_rate, death_rate, recovery_time)\n",
    "    recovery_dates = dates .+ recovery_time\n",
    "    recovery_lag = length(dates[dates .< recovery_dates[1]])\n",
    "    recovered_cases = vcat(zeros(recovery_lag), cumulative_cases[1:end-recovery_lag])\n",
    "    instant_cases = cumulative_cases - recovered_cases - recovered_cases .* death_rate\n",
    "    instant_hosp = instant_cases .* hosp_rate\n",
    "    return instant_cases, instant_hosp\n",
    "end"
   ],
   "metadata": {},
   "execution_count": 3
  },
  {
   "outputs": [],
   "cell_type": "markdown",
   "source": [
    "Here is a function to generate plotly figures based on the simple virus model parameters."
   ],
   "metadata": {}
  },
  {
   "outputs": [
    {
     "output_type": "execute_result",
     "data": {
      "text/plain": "plot_covid (generic function with 5 methods)"
     },
     "metadata": {},
     "execution_count": 4
    }
   ],
   "cell_type": "code",
   "source": [
    "function plot_covid(days, current_cases, doubling_time = Day(7), hosp_rate = 0.1, death_rate = 0.03, recovery_time = Day(10))\n",
    "    td = today()\n",
    "    dates = td:doubling_time:(td+days)\n",
    "    cumulative_cases = [cases(d-td, current_cases, doubling_time) for d in dates]\n",
    "    instant_cases, instant_hosp = instantanious_cases(dates, cumulative_cases, hosp_rate, death_rate, recovery_time)\n",
    "    total_cases = scatter(x = dates, y = cumulative_cases, name = \"Cumulative Infections\")\n",
    "    #total_hosp = scatter(x = dates, y = cumulative_cases.*hosp_rate, name = \"Cumulative Hospitalizations\")\n",
    "    total_deaths = scatter(x = dates, y = cumulative_cases.*death_rate, name = \"Cumulative Deaths\")\n",
    "    inst_cases = scatter(x = dates, y = instant_cases, name = \"Instantaneous Infections\")\n",
    "    inst_hosp = scatter(x = dates, y= instant_hosp, name = \"Instantaneous Hospitalizations\")\n",
    "    plot([total_cases, total_deaths, inst_cases, inst_hosp])\n",
    "end"
   ],
   "metadata": {},
   "execution_count": 4
  },
  {
   "outputs": [],
   "cell_type": "markdown",
   "source": [
    "## COVID-19 parameters\n",
    "- According to [this article](https://www.jhsph.edu/news/news-releases/2020/new-study-on-COVID-19-estimates-5-days-for-incubation-period.html), the estimated doubling time of COVID-19 is ~5 days.\n",
    "- According to [the WHO](https://www.who.int/docs/default-source/coronaviruse/situation-reports/20200306-sitrep-46-covid-19.pdf?sfvrsn=96b04adf_2), the mortality rate of COVID-19 is ~3%.\n",
    "- The 10% hospitalization rate comes from [this article](https://www.statnews.com/2020/03/10/simple-math-alarming-answers-covid-19/), but the sources for that figure in the article are dubious at best."
   ],
   "metadata": {}
  },
  {
   "outputs": [],
   "cell_type": "markdown",
   "source": [
    "JHU has put together some more detailed data, and [HDX has put it in a useful format](https://data.humdata.org/dataset/novel-coronavirus-2019-ncov-cases)."
   ],
   "metadata": {}
  },
  {
   "outputs": [
    {
     "output_type": "execute_result",
     "data": {
      "text/plain": "442×57 DataFrame. Omitted printing of 54 columns\n│ Row │ Province/State       │ Country/Region                   │ Lat      │\n│     │ \u001b[90mString⍰\u001b[39m              │ \u001b[90mString\u001b[39m                           │ \u001b[90mFloat64\u001b[39m  │\n├─────┼──────────────────────┼──────────────────────────────────┼──────────┤\n│ 1   │ \u001b[90mmissing\u001b[39m              │ Thailand                         │ 15.0     │\n│ 2   │ \u001b[90mmissing\u001b[39m              │ Japan                            │ 36.0     │\n│ 3   │ \u001b[90mmissing\u001b[39m              │ Singapore                        │ 1.2833   │\n│ 4   │ \u001b[90mmissing\u001b[39m              │ Nepal                            │ 28.1667  │\n│ 5   │ \u001b[90mmissing\u001b[39m              │ Malaysia                         │ 2.5      │\n│ 6   │ British Columbia     │ Canada                           │ 49.2827  │\n│ 7   │ New South Wales      │ Australia                        │ -33.8688 │\n⋮\n│ 435 │ \u001b[90mmissing\u001b[39m              │ Guernsey                         │ 49.45    │\n│ 436 │ \u001b[90mmissing\u001b[39m              │ Mauritania                       │ 21.0079  │\n│ 437 │ \u001b[90mmissing\u001b[39m              │ Rwanda                           │ -1.9403  │\n│ 438 │ \u001b[90mmissing\u001b[39m              │ Saint Lucia                      │ 13.9094  │\n│ 439 │ \u001b[90mmissing\u001b[39m              │ Saint Vincent and the Grenadines │ 12.9843  │\n│ 440 │ \u001b[90mmissing\u001b[39m              │ Suriname                         │ 3.9193   │\n│ 441 │ Virgin Islands, U.S. │ US                               │ 18.3358  │\n│ 442 │ \u001b[90mmissing\u001b[39m              │ occupied Palestinian territory   │ 31.9522  │",
      "text/html": [
       "<table class=\"data-frame\"><thead><tr><th></th><th>Province/State</th><th>Country/Region</th><th>Lat</th><th>Long</th><th>1/22/20</th><th>1/23/20</th></tr><tr><th></th><th>String⍰</th><th>String</th><th>Float64</th><th>Float64</th><th>Int64</th><th>Int64</th></tr></thead><tbody><p>442 rows × 57 columns (omitted printing of 51 columns)</p><tr><th>1</th><td>missing</td><td>Thailand</td><td>15.0</td><td>101.0</td><td>2</td><td>3</td></tr><tr><th>2</th><td>missing</td><td>Japan</td><td>36.0</td><td>138.0</td><td>2</td><td>1</td></tr><tr><th>3</th><td>missing</td><td>Singapore</td><td>1.2833</td><td>103.833</td><td>0</td><td>1</td></tr><tr><th>4</th><td>missing</td><td>Nepal</td><td>28.1667</td><td>84.25</td><td>0</td><td>0</td></tr><tr><th>5</th><td>missing</td><td>Malaysia</td><td>2.5</td><td>112.5</td><td>0</td><td>0</td></tr><tr><th>6</th><td>British Columbia</td><td>Canada</td><td>49.2827</td><td>-123.121</td><td>0</td><td>0</td></tr><tr><th>7</th><td>New South Wales</td><td>Australia</td><td>-33.8688</td><td>151.209</td><td>0</td><td>0</td></tr><tr><th>8</th><td>Victoria</td><td>Australia</td><td>-37.8136</td><td>144.963</td><td>0</td><td>0</td></tr><tr><th>9</th><td>Queensland</td><td>Australia</td><td>-28.0167</td><td>153.4</td><td>0</td><td>0</td></tr><tr><th>10</th><td>missing</td><td>Cambodia</td><td>11.55</td><td>104.917</td><td>0</td><td>0</td></tr><tr><th>11</th><td>missing</td><td>Sri Lanka</td><td>7.0</td><td>81.0</td><td>0</td><td>0</td></tr><tr><th>12</th><td>missing</td><td>Germany</td><td>51.0</td><td>9.0</td><td>0</td><td>0</td></tr><tr><th>13</th><td>missing</td><td>Finland</td><td>64.0</td><td>26.0</td><td>0</td><td>0</td></tr><tr><th>14</th><td>missing</td><td>United Arab Emirates</td><td>24.0</td><td>54.0</td><td>0</td><td>0</td></tr><tr><th>15</th><td>missing</td><td>Philippines</td><td>13.0</td><td>122.0</td><td>0</td><td>0</td></tr><tr><th>16</th><td>missing</td><td>India</td><td>21.0</td><td>78.0</td><td>0</td><td>0</td></tr><tr><th>17</th><td>missing</td><td>Italy</td><td>43.0</td><td>12.0</td><td>0</td><td>0</td></tr><tr><th>18</th><td>missing</td><td>Sweden</td><td>63.0</td><td>16.0</td><td>0</td><td>0</td></tr><tr><th>19</th><td>missing</td><td>Spain</td><td>40.0</td><td>-4.0</td><td>0</td><td>0</td></tr><tr><th>20</th><td>South Australia</td><td>Australia</td><td>-34.9285</td><td>138.601</td><td>0</td><td>0</td></tr><tr><th>21</th><td>missing</td><td>Belgium</td><td>50.8333</td><td>4.0</td><td>0</td><td>0</td></tr><tr><th>22</th><td>missing</td><td>Egypt</td><td>26.0</td><td>30.0</td><td>0</td><td>0</td></tr><tr><th>23</th><td>From Diamond Princess</td><td>Australia</td><td>35.4437</td><td>139.638</td><td>0</td><td>0</td></tr><tr><th>24</th><td>missing</td><td>Lebanon</td><td>33.8547</td><td>35.8623</td><td>0</td><td>0</td></tr><tr><th>&vellip;</th><td>&vellip;</td><td>&vellip;</td><td>&vellip;</td><td>&vellip;</td><td>&vellip;</td><td>&vellip;</td></tr></tbody></table>"
      ]
     },
     "metadata": {},
     "execution_count": 5
    }
   ],
   "cell_type": "code",
   "source": [
    "jh_data = DataFrame(CSV.read(download(\"https://data.humdata.org/hxlproxy/api/data-preview.csv?url=https%3A%2F%2Fraw.githubusercontent.com%2FCSSEGISandData%2FCOVID-19%2Fmaster%2Fcsse_covid_19_data%2Fcsse_covid_19_time_series%2Ftime_series_19-covid-Confirmed.csv\")))"
   ],
   "metadata": {},
   "execution_count": 5
  },
  {
   "outputs": [],
   "cell_type": "markdown",
   "source": [
    "## Colorado\n",
    "data processing"
   ],
   "metadata": {}
  },
  {
   "outputs": [
    {
     "name": "stdout",
     "output_type": "stream",
     "text": [
      "┌ Warning: `melt(df::AbstractDataFrame, id_vars; variable_name::Symbol=:variable, value_name::Symbol=:value, view::Bool=false)` is deprecated, use `stack(df, Not(id_vars); variable_name=variable_name, value_name=value_name, view=view)` instead.\n",
      "│   caller = ip:0x0\n",
      "└ @ Core :-1\n"
     ]
    },
    {
     "output_type": "execute_result",
     "data": {
      "text/plain": "101"
     },
     "metadata": {},
     "execution_count": 6
    }
   ],
   "cell_type": "code",
   "source": [
    "co_data = jh_data[.!ismissing.(jh_data[!,Symbol(\"Province/State\")]) .& (jh_data[!,Symbol(\"Province/State\")].==\"Colorado\"),:]\n",
    "co_data = melt(co_data,names(co_data)[1:4],variable_name = :Date, value_name =:cases)\n",
    "co_data.Date = Date.(String.(co_data.Date),\"m/d/y\") + Year(2000)\n",
    "recent_cases = co_data[co_data.Date .== maximum(co_data.Date),:cases][1]"
   ],
   "metadata": {},
   "execution_count": 6
  },
  {
   "outputs": [],
   "cell_type": "markdown",
   "source": [
    "Plot the colorado projection using the most recent case count:"
   ],
   "metadata": {}
  },
  {
   "outputs": [
    {
     "name": "stdout",
     "output_type": "stream",
     "text": [
      "┌ Warning: Accessing `scope.id` is deprecated, use `scopeid(scope)` instead.\n",
      "│   caller = ip:0x0\n",
      "└ @ Core :-1\n"
     ]
    },
    {
     "output_type": "execute_result",
     "data": {
      "text/plain": "data: [\n  \"scatter with fields name, type, x, and y\",\n  \"scatter with fields name, type, x, and y\",\n  \"scatter with fields name, type, x, and y\",\n  \"scatter with fields name, type, x, and y\"\n]\n\nlayout: \"layout with field margin\"\n\n",
      "text/html": [
       "<div\n",
       "    class=\"webio-mountpoint\"\n",
       "    data-webio-mountpoint=\"9972890486992407035\"\n",
       ">\n",
       "    <script>\n",
       "    if (window.require && require.defined && require.defined(\"nbextensions/webio-jupyter-notebook\")) {\n",
       "        console.log(\"Jupyter WebIO extension detected, not mounting.\");\n",
       "    } else if (window.WebIO) {\n",
       "        WebIO.mount(\n",
       "            document.querySelector('[data-webio-mountpoint=\"9972890486992407035\"]'),\n",
       "            {\"props\":{},\"nodeType\":\"Scope\",\"type\":\"node\",\"instanceArgs\":{\"imports\":{\"data\":[{\"name\":\"Plotly\",\"type\":\"js\",\"url\":\"\\/assetserver\\/dd499eeafffc246529ce8ce9204890d7f4da8e7b-plotly-latest.min.js\"},{\"name\":null,\"type\":\"js\",\"url\":\"\\/assetserver\\/919d5bdad3adb46aadc35f1289d4eb0a5e295e6b-plotly_webio.bundle.js\"}],\"type\":\"async_block\"},\"id\":\"2577607146539882506\",\"handlers\":{\"_toImage\":[\"(function (options){return this.Plotly.toImage(this.plotElem,options).then((function (data){return WebIO.setval({\\\"name\\\":\\\"image\\\",\\\"scope\\\":\\\"2577607146539882506\\\",\\\"id\\\":\\\"1001215809335147943\\\",\\\"type\\\":\\\"observable\\\"},data)}))})\"],\"__get_gd_contents\":[\"(function (prop){prop==\\\"data\\\" ? (WebIO.setval({\\\"name\\\":\\\"__gd_contents\\\",\\\"scope\\\":\\\"2577607146539882506\\\",\\\"id\\\":\\\"10615044010445871933\\\",\\\"type\\\":\\\"observable\\\"},this.plotElem.data)) : undefined; return prop==\\\"layout\\\" ? (WebIO.setval({\\\"name\\\":\\\"__gd_contents\\\",\\\"scope\\\":\\\"2577607146539882506\\\",\\\"id\\\":\\\"10615044010445871933\\\",\\\"type\\\":\\\"observable\\\"},this.plotElem.layout)) : undefined})\"],\"_downloadImage\":[\"(function (options){return this.Plotly.downloadImage(this.plotElem,options)})\"],\"_commands\":[\"(function (args){var fn=args.shift(); var elem=this.plotElem; var Plotly=this.Plotly; args.unshift(elem); return Plotly[fn].apply(this,args)})\"]},\"systemjs_options\":null,\"mount_callbacks\":[\"function () {\\n    var handler = ((function (Plotly,PlotlyWebIO){PlotlyWebIO.init(WebIO); var gd=this.dom.querySelector(\\\"#plot-9e5dd05b-0d7b-4a85-9d35-2e0203ffc175\\\"); this.plotElem=gd; this.Plotly=Plotly; (window.Blink!==undefined) ? (gd.style.width=\\\"100%\\\", gd.style.height=\\\"100vh\\\", gd.style.marginLeft=\\\"0%\\\", gd.style.marginTop=\\\"0vh\\\") : undefined; window.onresize=(function (){return Plotly.Plots.resize(gd)}); Plotly.newPlot(gd,[{\\\"y\\\":[101.0,202.0,404.0,808.0,1616.0,3232.0,6464.0,12928.0,25856.0,51712.0,103424.0,206848.0,413696.0],\\\"type\\\":\\\"scatter\\\",\\\"name\\\":\\\"Cumulative Infections\\\",\\\"x\\\":[\\\"2020-03-15\\\",\\\"2020-03-20\\\",\\\"2020-03-25\\\",\\\"2020-03-30\\\",\\\"2020-04-04\\\",\\\"2020-04-09\\\",\\\"2020-04-14\\\",\\\"2020-04-19\\\",\\\"2020-04-24\\\",\\\"2020-04-29\\\",\\\"2020-05-04\\\",\\\"2020-05-09\\\",\\\"2020-05-14\\\"]},{\\\"y\\\":[3.03,6.06,12.12,24.24,48.48,96.96,193.92,387.84,775.68,1551.36,3102.72,6205.44,12410.88],\\\"type\\\":\\\"scatter\\\",\\\"name\\\":\\\"Cumulative Deaths\\\",\\\"x\\\":[\\\"2020-03-15\\\",\\\"2020-03-20\\\",\\\"2020-03-25\\\",\\\"2020-03-30\\\",\\\"2020-04-04\\\",\\\"2020-04-09\\\",\\\"2020-04-14\\\",\\\"2020-04-19\\\",\\\"2020-04-24\\\",\\\"2020-04-29\\\",\\\"2020-05-04\\\",\\\"2020-05-09\\\",\\\"2020-05-14\\\"]},{\\\"y\\\":[101.0,202.0,299.97,599.94,1199.88,2399.76,4799.52,9599.04,19198.08,38396.16,76792.32,153584.64,307169.28],\\\"type\\\":\\\"scatter\\\",\\\"name\\\":\\\"Instantaneous Infections\\\",\\\"x\\\":[\\\"2020-03-15\\\",\\\"2020-03-20\\\",\\\"2020-03-25\\\",\\\"2020-03-30\\\",\\\"2020-04-04\\\",\\\"2020-04-09\\\",\\\"2020-04-14\\\",\\\"2020-04-19\\\",\\\"2020-04-24\\\",\\\"2020-04-29\\\",\\\"2020-05-04\\\",\\\"2020-05-09\\\",\\\"2020-05-14\\\"]},{\\\"y\\\":[10.100000000000001,20.200000000000003,29.997000000000003,59.99400000000001,119.98800000000001,239.97600000000003,479.95200000000006,959.9040000000001,1919.8080000000002,3839.6160000000004,7679.232000000001,15358.464000000002,30716.928000000004],\\\"type\\\":\\\"scatter\\\",\\\"name\\\":\\\"Instantaneous Hospitalizations\\\",\\\"x\\\":[\\\"2020-03-15\\\",\\\"2020-03-20\\\",\\\"2020-03-25\\\",\\\"2020-03-30\\\",\\\"2020-04-04\\\",\\\"2020-04-09\\\",\\\"2020-04-14\\\",\\\"2020-04-19\\\",\\\"2020-04-24\\\",\\\"2020-04-29\\\",\\\"2020-05-04\\\",\\\"2020-05-09\\\",\\\"2020-05-14\\\"]}],{\\\"margin\\\":{\\\"l\\\":50,\\\"b\\\":50,\\\"r\\\":50,\\\"t\\\":60}},{}); gd.on(\\\"plotly_hover\\\",(function (data){var filtered_data=WebIO.PlotlyCommands.filterEventData(gd,data,\\\"hover\\\"); return !(filtered_data.isnil) ? (WebIO.setval({\\\"name\\\":\\\"hover\\\",\\\"scope\\\":\\\"2577607146539882506\\\",\\\"id\\\":\\\"2345489231570062971\\\",\\\"type\\\":\\\"observable\\\"},filtered_data.out)) : undefined})); gd.on(\\\"plotly_unhover\\\",(function (){return WebIO.setval({\\\"name\\\":\\\"hover\\\",\\\"scope\\\":\\\"2577607146539882506\\\",\\\"id\\\":\\\"2345489231570062971\\\",\\\"type\\\":\\\"observable\\\"},{})})); gd.on(\\\"plotly_selected\\\",(function (data){var filtered_data=WebIO.PlotlyCommands.filterEventData(gd,data,\\\"selected\\\"); return !(filtered_data.isnil) ? (WebIO.setval({\\\"name\\\":\\\"selected\\\",\\\"scope\\\":\\\"2577607146539882506\\\",\\\"id\\\":\\\"7242475672607129316\\\",\\\"type\\\":\\\"observable\\\"},filtered_data.out)) : undefined})); gd.on(\\\"plotly_deselect\\\",(function (){return WebIO.setval({\\\"name\\\":\\\"selected\\\",\\\"scope\\\":\\\"2577607146539882506\\\",\\\"id\\\":\\\"7242475672607129316\\\",\\\"type\\\":\\\"observable\\\"},{})})); gd.on(\\\"plotly_relayout\\\",(function (data){var filtered_data=WebIO.PlotlyCommands.filterEventData(gd,data,\\\"relayout\\\"); return !(filtered_data.isnil) ? (WebIO.setval({\\\"name\\\":\\\"relayout\\\",\\\"scope\\\":\\\"2577607146539882506\\\",\\\"id\\\":\\\"3595397594440663232\\\",\\\"type\\\":\\\"observable\\\"},filtered_data.out)) : undefined})); return gd.on(\\\"plotly_click\\\",(function (data){var filtered_data=WebIO.PlotlyCommands.filterEventData(gd,data,\\\"click\\\"); return !(filtered_data.isnil) ? (WebIO.setval({\\\"name\\\":\\\"click\\\",\\\"scope\\\":\\\"2577607146539882506\\\",\\\"id\\\":\\\"51952015555969699\\\",\\\"type\\\":\\\"observable\\\"},filtered_data.out)) : undefined}))}));\\n    (WebIO.importBlock({\\\"data\\\":[{\\\"name\\\":\\\"Plotly\\\",\\\"type\\\":\\\"js\\\",\\\"url\\\":\\\"\\/assetserver\\/dd499eeafffc246529ce8ce9204890d7f4da8e7b-plotly-latest.min.js\\\"},{\\\"name\\\":null,\\\"type\\\":\\\"js\\\",\\\"url\\\":\\\"\\/assetserver\\/919d5bdad3adb46aadc35f1289d4eb0a5e295e6b-plotly_webio.bundle.js\\\"}],\\\"type\\\":\\\"async_block\\\"})).then((imports) => handler.apply(this, imports));\\n}\\n\"],\"observables\":{\"_toImage\":{\"sync\":false,\"id\":\"3962030642390682365\",\"value\":{}},\"hover\":{\"sync\":false,\"id\":\"2345489231570062971\",\"value\":{}},\"selected\":{\"sync\":false,\"id\":\"7242475672607129316\",\"value\":{}},\"__gd_contents\":{\"sync\":false,\"id\":\"10615044010445871933\",\"value\":{}},\"click\":{\"sync\":false,\"id\":\"51952015555969699\",\"value\":{}},\"image\":{\"sync\":true,\"id\":\"1001215809335147943\",\"value\":\"\"},\"__get_gd_contents\":{\"sync\":false,\"id\":\"15215863899048270084\",\"value\":\"\"},\"_downloadImage\":{\"sync\":false,\"id\":\"5697279239175584356\",\"value\":{}},\"relayout\":{\"sync\":false,\"id\":\"3595397594440663232\",\"value\":{}},\"_commands\":{\"sync\":false,\"id\":\"14135298288483972199\",\"value\":[]}}},\"children\":[{\"props\":{\"id\":\"plot-9e5dd05b-0d7b-4a85-9d35-2e0203ffc175\"},\"nodeType\":\"DOM\",\"type\":\"node\",\"instanceArgs\":{\"namespace\":\"html\",\"tag\":\"div\"},\"children\":[]}]},\n",
       "            window,\n",
       "        );\n",
       "    } else {\n",
       "        document\n",
       "            .querySelector('[data-webio-mountpoint=\"9972890486992407035\"]')\n",
       "            .innerHTML = (\n",
       "                '<strong>WebIO not detected. Please read ' +\n",
       "                '<a href=\"https://juliagizmos.github.io/WebIO.jl/latest/troubleshooting/not-detected/\">the troubleshooting guide</a> ' +\n",
       "                'for more information on how to resolve this issue.' +\n",
       "                '</strong>'\n",
       "            );\n",
       "    }\n",
       "    </script>\n",
       "</div>\n"
      ]
     },
     "metadata": {},
     "execution_count": 7
    }
   ],
   "cell_type": "code",
   "source": [
    "plot_covid(Day(60), recent_cases, Day(5))"
   ],
   "metadata": {},
   "execution_count": 7
  },
  {
   "outputs": [],
   "cell_type": "markdown",
   "source": [
    "## US\n",
    "data processing"
   ],
   "metadata": {}
  },
  {
   "outputs": [
    {
     "name": "stdout",
     "output_type": "stream",
     "text": [
      "┌ Warning: `melt(df::AbstractDataFrame, id_vars; variable_name::Symbol=:variable, value_name::Symbol=:value, view::Bool=false)` is deprecated, use `stack(df, Not(id_vars); variable_name=variable_name, value_name=value_name, view=view)` instead.\n",
      "│   caller = ip:0x0\n",
      "└ @ Core :-1\n"
     ]
    },
    {
     "output_type": "execute_result",
     "data": {
      "text/plain": "2726"
     },
     "metadata": {},
     "execution_count": 8
    }
   ],
   "cell_type": "code",
   "source": [
    "us_data = jh_data[.!ismissing.(jh_data[!,Symbol(\"Country/Region\")]) .& (jh_data[!,Symbol(\"Country/Region\")].==\"US\"),:]\n",
    "us_data = us_data[.!occursin.(\",\", us_data[!,Symbol(\"Province/State\")]), :]\n",
    "us_data = melt(us_data,names(us_data)[1:4],variable_name = :Date, value_name =:cases)\n",
    "us_data.Date = Date.(String.(us_data.Date),\"m/d/y\") + Year(2000)\n",
    "us_data = aggregate(us_data[!,[:Date,:cases]], :Date, sum)\n",
    "recent_us_cases = us_data[us_data.Date .== maximum(us_data.Date),:cases_sum][1]"
   ],
   "metadata": {},
   "execution_count": 8
  },
  {
   "outputs": [],
   "cell_type": "markdown",
   "source": [
    "Plot the US projection based on the most recent case  count:"
   ],
   "metadata": {}
  },
  {
   "outputs": [
    {
     "name": "stdout",
     "output_type": "stream",
     "text": [
      "┌ Warning: Accessing `scope.id` is deprecated, use `scopeid(scope)` instead.\n",
      "│   caller = ip:0x0\n",
      "└ @ Core :-1\n"
     ]
    },
    {
     "output_type": "execute_result",
     "data": {
      "text/plain": "data: [\n  \"scatter with fields name, type, x, and y\",\n  \"scatter with fields name, type, x, and y\",\n  \"scatter with fields name, type, x, and y\",\n  \"scatter with fields name, type, x, and y\"\n]\n\nlayout: \"layout with field margin\"\n\n",
      "text/html": [
       "<div\n",
       "    class=\"webio-mountpoint\"\n",
       "    data-webio-mountpoint=\"9669917821083681401\"\n",
       ">\n",
       "    <script>\n",
       "    if (window.require && require.defined && require.defined(\"nbextensions/webio-jupyter-notebook\")) {\n",
       "        console.log(\"Jupyter WebIO extension detected, not mounting.\");\n",
       "    } else if (window.WebIO) {\n",
       "        WebIO.mount(\n",
       "            document.querySelector('[data-webio-mountpoint=\"9669917821083681401\"]'),\n",
       "            {\"props\":{},\"nodeType\":\"Scope\",\"type\":\"node\",\"instanceArgs\":{\"imports\":{\"data\":[{\"name\":\"Plotly\",\"type\":\"js\",\"url\":\"\\/assetserver\\/dd499eeafffc246529ce8ce9204890d7f4da8e7b-plotly-latest.min.js\"},{\"name\":null,\"type\":\"js\",\"url\":\"\\/assetserver\\/919d5bdad3adb46aadc35f1289d4eb0a5e295e6b-plotly_webio.bundle.js\"}],\"type\":\"async_block\"},\"id\":\"4554545776317604752\",\"handlers\":{\"_toImage\":[\"(function (options){return this.Plotly.toImage(this.plotElem,options).then((function (data){return WebIO.setval({\\\"name\\\":\\\"image\\\",\\\"scope\\\":\\\"4554545776317604752\\\",\\\"id\\\":\\\"12033140150583596222\\\",\\\"type\\\":\\\"observable\\\"},data)}))})\"],\"__get_gd_contents\":[\"(function (prop){prop==\\\"data\\\" ? (WebIO.setval({\\\"name\\\":\\\"__gd_contents\\\",\\\"scope\\\":\\\"4554545776317604752\\\",\\\"id\\\":\\\"13595507871862480054\\\",\\\"type\\\":\\\"observable\\\"},this.plotElem.data)) : undefined; return prop==\\\"layout\\\" ? (WebIO.setval({\\\"name\\\":\\\"__gd_contents\\\",\\\"scope\\\":\\\"4554545776317604752\\\",\\\"id\\\":\\\"13595507871862480054\\\",\\\"type\\\":\\\"observable\\\"},this.plotElem.layout)) : undefined})\"],\"_downloadImage\":[\"(function (options){return this.Plotly.downloadImage(this.plotElem,options)})\"],\"_commands\":[\"(function (args){var fn=args.shift(); var elem=this.plotElem; var Plotly=this.Plotly; args.unshift(elem); return Plotly[fn].apply(this,args)})\"]},\"systemjs_options\":null,\"mount_callbacks\":[\"function () {\\n    var handler = ((function (Plotly,PlotlyWebIO){PlotlyWebIO.init(WebIO); var gd=this.dom.querySelector(\\\"#plot-f9ca850d-6f3e-440b-8632-73065ce98279\\\"); this.plotElem=gd; this.Plotly=Plotly; (window.Blink!==undefined) ? (gd.style.width=\\\"100%\\\", gd.style.height=\\\"100vh\\\", gd.style.marginLeft=\\\"0%\\\", gd.style.marginTop=\\\"0vh\\\") : undefined; window.onresize=(function (){return Plotly.Plots.resize(gd)}); Plotly.newPlot(gd,[{\\\"y\\\":[2726.0,5452.0,10904.0,21808.0,43616.0,87232.0,174464.0,348928.0,697856.0,1.395712e6,2.791424e6,5.582848e6,1.1165696e7,2.2331392e7,4.4662784e7,8.9325568e7,1.78651136e8,3.57302272e8,7.14604544e8,1.429209088e9,2.858418176e9],\\\"type\\\":\\\"scatter\\\",\\\"name\\\":\\\"Cumulative Infections\\\",\\\"x\\\":[\\\"2020-03-15\\\",\\\"2020-03-20\\\",\\\"2020-03-25\\\",\\\"2020-03-30\\\",\\\"2020-04-04\\\",\\\"2020-04-09\\\",\\\"2020-04-14\\\",\\\"2020-04-19\\\",\\\"2020-04-24\\\",\\\"2020-04-29\\\",\\\"2020-05-04\\\",\\\"2020-05-09\\\",\\\"2020-05-14\\\",\\\"2020-05-19\\\",\\\"2020-05-24\\\",\\\"2020-05-29\\\",\\\"2020-06-03\\\",\\\"2020-06-08\\\",\\\"2020-06-13\\\",\\\"2020-06-18\\\",\\\"2020-06-23\\\"]},{\\\"y\\\":[81.78,163.56,327.12,654.24,1308.48,2616.96,5233.92,10467.84,20935.68,41871.36,83742.72,167485.44,334970.88,669941.76,1.33988352e6,2.67976704e6,5.35953408e6,1.071906816e7,2.143813632e7,4.287627264e7,8.575254528e7],\\\"type\\\":\\\"scatter\\\",\\\"name\\\":\\\"Cumulative Deaths\\\",\\\"x\\\":[\\\"2020-03-15\\\",\\\"2020-03-20\\\",\\\"2020-03-25\\\",\\\"2020-03-30\\\",\\\"2020-04-04\\\",\\\"2020-04-09\\\",\\\"2020-04-14\\\",\\\"2020-04-19\\\",\\\"2020-04-24\\\",\\\"2020-04-29\\\",\\\"2020-05-04\\\",\\\"2020-05-09\\\",\\\"2020-05-14\\\",\\\"2020-05-19\\\",\\\"2020-05-24\\\",\\\"2020-05-29\\\",\\\"2020-06-03\\\",\\\"2020-06-08\\\",\\\"2020-06-13\\\",\\\"2020-06-18\\\",\\\"2020-06-23\\\"]},{\\\"y\\\":[2726.0,5452.0,8096.22,16192.44,32384.88,64769.76,129539.52,259079.04,518158.08,1.03631616e6,2.07263232e6,4.14526464e6,8.29052928e6,1.658105856e7,3.316211712e7,6.632423424e7,1.3264846848e8,2.6529693696e8,5.3059387392e8,1.06118774784e9,2.12237549568e9],\\\"type\\\":\\\"scatter\\\",\\\"name\\\":\\\"Instantaneous Infections\\\",\\\"x\\\":[\\\"2020-03-15\\\",\\\"2020-03-20\\\",\\\"2020-03-25\\\",\\\"2020-03-30\\\",\\\"2020-04-04\\\",\\\"2020-04-09\\\",\\\"2020-04-14\\\",\\\"2020-04-19\\\",\\\"2020-04-24\\\",\\\"2020-04-29\\\",\\\"2020-05-04\\\",\\\"2020-05-09\\\",\\\"2020-05-14\\\",\\\"2020-05-19\\\",\\\"2020-05-24\\\",\\\"2020-05-29\\\",\\\"2020-06-03\\\",\\\"2020-06-08\\\",\\\"2020-06-13\\\",\\\"2020-06-18\\\",\\\"2020-06-23\\\"]},{\\\"y\\\":[272.6,545.2,809.6220000000001,1619.2440000000001,3238.4880000000003,6476.976000000001,12953.952000000001,25907.904000000002,51815.808000000005,103631.61600000001,207263.23200000002,414526.46400000004,829052.9280000001,1.6581058560000001e6,3.3162117120000003e6,6.632423424000001e6,1.3264846848000001e7,2.6529693696000002e7,5.3059387392000005e7,1.0611877478400001e8,2.1223754956800002e8],\\\"type\\\":\\\"scatter\\\",\\\"name\\\":\\\"Instantaneous Hospitalizations\\\",\\\"x\\\":[\\\"2020-03-15\\\",\\\"2020-03-20\\\",\\\"2020-03-25\\\",\\\"2020-03-30\\\",\\\"2020-04-04\\\",\\\"2020-04-09\\\",\\\"2020-04-14\\\",\\\"2020-04-19\\\",\\\"2020-04-24\\\",\\\"2020-04-29\\\",\\\"2020-05-04\\\",\\\"2020-05-09\\\",\\\"2020-05-14\\\",\\\"2020-05-19\\\",\\\"2020-05-24\\\",\\\"2020-05-29\\\",\\\"2020-06-03\\\",\\\"2020-06-08\\\",\\\"2020-06-13\\\",\\\"2020-06-18\\\",\\\"2020-06-23\\\"]}],{\\\"margin\\\":{\\\"l\\\":50,\\\"b\\\":50,\\\"r\\\":50,\\\"t\\\":60}},{}); gd.on(\\\"plotly_hover\\\",(function (data){var filtered_data=WebIO.PlotlyCommands.filterEventData(gd,data,\\\"hover\\\"); return !(filtered_data.isnil) ? (WebIO.setval({\\\"name\\\":\\\"hover\\\",\\\"scope\\\":\\\"4554545776317604752\\\",\\\"id\\\":\\\"2726854336976943240\\\",\\\"type\\\":\\\"observable\\\"},filtered_data.out)) : undefined})); gd.on(\\\"plotly_unhover\\\",(function (){return WebIO.setval({\\\"name\\\":\\\"hover\\\",\\\"scope\\\":\\\"4554545776317604752\\\",\\\"id\\\":\\\"2726854336976943240\\\",\\\"type\\\":\\\"observable\\\"},{})})); gd.on(\\\"plotly_selected\\\",(function (data){var filtered_data=WebIO.PlotlyCommands.filterEventData(gd,data,\\\"selected\\\"); return !(filtered_data.isnil) ? (WebIO.setval({\\\"name\\\":\\\"selected\\\",\\\"scope\\\":\\\"4554545776317604752\\\",\\\"id\\\":\\\"14253808783916100552\\\",\\\"type\\\":\\\"observable\\\"},filtered_data.out)) : undefined})); gd.on(\\\"plotly_deselect\\\",(function (){return WebIO.setval({\\\"name\\\":\\\"selected\\\",\\\"scope\\\":\\\"4554545776317604752\\\",\\\"id\\\":\\\"14253808783916100552\\\",\\\"type\\\":\\\"observable\\\"},{})})); gd.on(\\\"plotly_relayout\\\",(function (data){var filtered_data=WebIO.PlotlyCommands.filterEventData(gd,data,\\\"relayout\\\"); return !(filtered_data.isnil) ? (WebIO.setval({\\\"name\\\":\\\"relayout\\\",\\\"scope\\\":\\\"4554545776317604752\\\",\\\"id\\\":\\\"5607525187629274200\\\",\\\"type\\\":\\\"observable\\\"},filtered_data.out)) : undefined})); return gd.on(\\\"plotly_click\\\",(function (data){var filtered_data=WebIO.PlotlyCommands.filterEventData(gd,data,\\\"click\\\"); return !(filtered_data.isnil) ? (WebIO.setval({\\\"name\\\":\\\"click\\\",\\\"scope\\\":\\\"4554545776317604752\\\",\\\"id\\\":\\\"14978592733873849375\\\",\\\"type\\\":\\\"observable\\\"},filtered_data.out)) : undefined}))}));\\n    (WebIO.importBlock({\\\"data\\\":[{\\\"name\\\":\\\"Plotly\\\",\\\"type\\\":\\\"js\\\",\\\"url\\\":\\\"\\/assetserver\\/dd499eeafffc246529ce8ce9204890d7f4da8e7b-plotly-latest.min.js\\\"},{\\\"name\\\":null,\\\"type\\\":\\\"js\\\",\\\"url\\\":\\\"\\/assetserver\\/919d5bdad3adb46aadc35f1289d4eb0a5e295e6b-plotly_webio.bundle.js\\\"}],\\\"type\\\":\\\"async_block\\\"})).then((imports) => handler.apply(this, imports));\\n}\\n\"],\"observables\":{\"_toImage\":{\"sync\":false,\"id\":\"9199682097321716058\",\"value\":{}},\"hover\":{\"sync\":false,\"id\":\"2726854336976943240\",\"value\":{}},\"selected\":{\"sync\":false,\"id\":\"14253808783916100552\",\"value\":{}},\"__gd_contents\":{\"sync\":false,\"id\":\"13595507871862480054\",\"value\":{}},\"click\":{\"sync\":false,\"id\":\"14978592733873849375\",\"value\":{}},\"image\":{\"sync\":true,\"id\":\"12033140150583596222\",\"value\":\"\"},\"__get_gd_contents\":{\"sync\":false,\"id\":\"5338485869839265533\",\"value\":\"\"},\"_downloadImage\":{\"sync\":false,\"id\":\"9937448820740440604\",\"value\":{}},\"relayout\":{\"sync\":false,\"id\":\"5607525187629274200\",\"value\":{}},\"_commands\":{\"sync\":false,\"id\":\"15010091933842742989\",\"value\":[]}}},\"children\":[{\"props\":{\"id\":\"plot-f9ca850d-6f3e-440b-8632-73065ce98279\"},\"nodeType\":\"DOM\",\"type\":\"node\",\"instanceArgs\":{\"namespace\":\"html\",\"tag\":\"div\"},\"children\":[]}]},\n",
       "            window,\n",
       "        );\n",
       "    } else {\n",
       "        document\n",
       "            .querySelector('[data-webio-mountpoint=\"9669917821083681401\"]')\n",
       "            .innerHTML = (\n",
       "                '<strong>WebIO not detected. Please read ' +\n",
       "                '<a href=\"https://juliagizmos.github.io/WebIO.jl/latest/troubleshooting/not-detected/\">the troubleshooting guide</a> ' +\n",
       "                'for more information on how to resolve this issue.' +\n",
       "                '</strong>'\n",
       "            );\n",
       "    }\n",
       "    </script>\n",
       "</div>\n"
      ]
     },
     "metadata": {},
     "execution_count": 9
    }
   ],
   "cell_type": "code",
   "source": [
    "plot_covid(Day(100), recent_us_cases, Day(5))"
   ],
   "metadata": {},
   "execution_count": 9
  },
  {
   "outputs": [],
   "cell_type": "markdown",
   "source": [
    "---\n",
    "\n",
    "*This notebook was generated using [Literate.jl](https://github.com/fredrikekre/Literate.jl).*"
   ],
   "metadata": {}
  }
 ],
 "nbformat_minor": 3,
 "metadata": {
  "language_info": {
   "file_extension": ".jl",
   "mimetype": "application/julia",
   "name": "julia",
   "version": "1.3.1"
  },
  "kernelspec": {
   "name": "julia-1.3",
   "display_name": "Julia 1.3.1",
   "language": "julia"
  }
 },
 "nbformat": 4
}
