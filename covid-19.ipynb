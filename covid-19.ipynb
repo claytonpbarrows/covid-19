{
 "cells": [
  {
   "outputs": [],
   "cell_type": "markdown",
   "source": [
    "# COVID-19 Analysis\n",
    "Checkout the [webpage with live plots](https://claytonpbarrows.github.io/covid-19/).\n",
    "And if you're intereested:\n",
    "- [the github repository](https://github.com/claytonpbarrows/covid-19/).\n",
    "- [the notebook](https://nbviewer.jupyter.org/github/claytonpbarrows/covid-19/blob/master/covid-19.ipynb).\n",
    "- And if you want to run the notebook interactively through binder (slow), you can do so [here](https://mybinder.org/v2/gh/claytonpbarrows/covid-19/master/).\n",
    "\n",
    "*This is a very simple estimate of COVID-19 impacts, and I don't claim to know anything other than how to produce a nice figure and do simple math. __So please don't misinterpret anything here__.*\n",
    "\n",
    "### Dependencies"
   ],
   "metadata": {}
  },
  {
   "outputs": [],
   "cell_type": "code",
   "source": [
    "using Dates\n",
    "using PlotlyJS\n",
    "using DataFrames\n",
    "using CSV"
   ],
   "metadata": {},
   "execution_count": 1
  },
  {
   "outputs": [],
   "cell_type": "markdown",
   "source": [
    "A simple model for calculating cases based on a constatnt doubling time:"
   ],
   "metadata": {}
  },
  {
   "outputs": [
    {
     "output_type": "execute_result",
     "data": {
      "text/plain": "cases (generic function with 1 method)"
     },
     "metadata": {},
     "execution_count": 2
    }
   ],
   "cell_type": "code",
   "source": [
    "function cases(days::Day, current_cases, doubling_time)\n",
    "    dbl_period = days/doubling_time\n",
    "    return current_cases * (2 ^ dbl_period)\n",
    "end"
   ],
   "metadata": {},
   "execution_count": 2
  },
  {
   "outputs": [],
   "cell_type": "markdown",
   "source": [
    "Here is a function to generate plotly figures based on the simple virus model parameters."
   ],
   "metadata": {}
  },
  {
   "outputs": [
    {
     "output_type": "execute_result",
     "data": {
      "text/plain": "plot_covid (generic function with 4 methods)"
     },
     "metadata": {},
     "execution_count": 3
    }
   ],
   "cell_type": "code",
   "source": [
    "function plot_covid(days, current_cases, doubling_time = Day(7), hosp_rate = 0.1, death_rate = 0.03)\n",
    "    td = today()\n",
    "    dates = td:doubling_time:(td+days)\n",
    "    case_count = [cases(d-td, current_cases, doubling_time) for d in dates]\n",
    "    total_cases = scatter(x = dates, y = case_count, name = \"Infections\")\n",
    "    hosp = scatter(x = dates, y = case_count.*hosp_rate, name = \"Hospitalizations\")\n",
    "    deaths = scatter(x = dates, y = case_count.*death_rate, name = \"Deaths\")\n",
    "    plot([total_cases, hosp, deaths])\n",
    "end"
   ],
   "metadata": {},
   "execution_count": 3
  },
  {
   "outputs": [],
   "cell_type": "markdown",
   "source": [
    "## COVID-19 parameters\n",
    "- According to [this article](https://www.jhsph.edu/news/news-releases/2020/new-study-on-COVID-19-estimates-5-days-for-incubation-period.html), the estimated doubling time of COVID-19 is ~5 days.\n",
    "- According to [the WHO](https://www.who.int/docs/default-source/coronaviruse/situation-reports/20200306-sitrep-46-covid-19.pdf?sfvrsn=96b04adf_2), the mortality rate of COVID-19 is ~3%.\n",
    "- The 10% hospitalization rate comes from [this article](https://www.statnews.com/2020/03/10/simple-math-alarming-answers-covid-19/), but the sources for that figure in the article are dubious at best."
   ],
   "metadata": {}
  },
  {
   "outputs": [],
   "cell_type": "markdown",
   "source": [
    "JHU has put together some more detailed data, and [HDX has put it in a useful format](https://data.humdata.org/dataset/novel-coronavirus-2019-ncov-cases)."
   ],
   "metadata": {}
  },
  {
   "outputs": [
    {
     "output_type": "execute_result",
     "data": {
      "text/plain": "421×56 DataFrame. Omitted printing of 51 columns\n│ Row │ Province/State   │ Country/Region      │ Lat      │ Long     │ 1/22/20 │\n│     │ \u001b[90mString⍰\u001b[39m          │ \u001b[90mString\u001b[39m              │ \u001b[90mFloat64\u001b[39m  │ \u001b[90mFloat64\u001b[39m  │ \u001b[90mInt64\u001b[39m   │\n├─────┼──────────────────┼─────────────────────┼──────────┼──────────┼─────────┤\n│ 1   │ \u001b[90mmissing\u001b[39m          │ Thailand            │ 15.0     │ 101.0    │ 2       │\n│ 2   │ \u001b[90mmissing\u001b[39m          │ Japan               │ 36.0     │ 138.0    │ 2       │\n│ 3   │ \u001b[90mmissing\u001b[39m          │ Singapore           │ 1.2833   │ 103.833  │ 0       │\n│ 4   │ \u001b[90mmissing\u001b[39m          │ Nepal               │ 28.1667  │ 84.25    │ 0       │\n│ 5   │ \u001b[90mmissing\u001b[39m          │ Malaysia            │ 2.5      │ 112.5    │ 0       │\n│ 6   │ British Columbia │ Canada              │ 49.2827  │ -123.121 │ 0       │\n│ 7   │ New South Wales  │ Australia           │ -33.8688 │ 151.209  │ 0       │\n⋮\n│ 414 │ \u001b[90mmissing\u001b[39m          │ Ethiopia            │ 9.145    │ 40.4897  │ 0       │\n│ 415 │ \u001b[90mmissing\u001b[39m          │ Sudan               │ 12.8628  │ 30.2176  │ 0       │\n│ 416 │ \u001b[90mmissing\u001b[39m          │ Guinea              │ 9.9456   │ -9.6966  │ 0       │\n│ 417 │ \u001b[90mmissing\u001b[39m          │ Aruba               │ 12.5211  │ -69.9683 │ 0       │\n│ 418 │ Grand Princess   │ Canada              │ 37.6489  │ -122.665 │ 0       │\n│ 419 │ \u001b[90mmissing\u001b[39m          │ Kenya               │ -0.0236  │ 37.9062  │ 0       │\n│ 420 │ \u001b[90mmissing\u001b[39m          │ Antigua and Barbuda │ 17.0608  │ -61.7964 │ 0       │\n│ 421 │ Alabama          │ US                  │ 32.3182  │ -86.9023 │ 0       │",
      "text/html": [
       "<table class=\"data-frame\"><thead><tr><th></th><th>Province/State</th><th>Country/Region</th><th>Lat</th><th>Long</th><th>1/22/20</th><th>1/23/20</th></tr><tr><th></th><th>String⍰</th><th>String</th><th>Float64</th><th>Float64</th><th>Int64</th><th>Int64</th></tr></thead><tbody><p>421 rows × 56 columns (omitted printing of 50 columns)</p><tr><th>1</th><td>missing</td><td>Thailand</td><td>15.0</td><td>101.0</td><td>2</td><td>3</td></tr><tr><th>2</th><td>missing</td><td>Japan</td><td>36.0</td><td>138.0</td><td>2</td><td>1</td></tr><tr><th>3</th><td>missing</td><td>Singapore</td><td>1.2833</td><td>103.833</td><td>0</td><td>1</td></tr><tr><th>4</th><td>missing</td><td>Nepal</td><td>28.1667</td><td>84.25</td><td>0</td><td>0</td></tr><tr><th>5</th><td>missing</td><td>Malaysia</td><td>2.5</td><td>112.5</td><td>0</td><td>0</td></tr><tr><th>6</th><td>British Columbia</td><td>Canada</td><td>49.2827</td><td>-123.121</td><td>0</td><td>0</td></tr><tr><th>7</th><td>New South Wales</td><td>Australia</td><td>-33.8688</td><td>151.209</td><td>0</td><td>0</td></tr><tr><th>8</th><td>Victoria</td><td>Australia</td><td>-37.8136</td><td>144.963</td><td>0</td><td>0</td></tr><tr><th>9</th><td>Queensland</td><td>Australia</td><td>-28.0167</td><td>153.4</td><td>0</td><td>0</td></tr><tr><th>10</th><td>missing</td><td>Cambodia</td><td>11.55</td><td>104.917</td><td>0</td><td>0</td></tr><tr><th>11</th><td>missing</td><td>Sri Lanka</td><td>7.0</td><td>81.0</td><td>0</td><td>0</td></tr><tr><th>12</th><td>missing</td><td>Germany</td><td>51.0</td><td>9.0</td><td>0</td><td>0</td></tr><tr><th>13</th><td>missing</td><td>Finland</td><td>64.0</td><td>26.0</td><td>0</td><td>0</td></tr><tr><th>14</th><td>missing</td><td>United Arab Emirates</td><td>24.0</td><td>54.0</td><td>0</td><td>0</td></tr><tr><th>15</th><td>missing</td><td>Philippines</td><td>13.0</td><td>122.0</td><td>0</td><td>0</td></tr><tr><th>16</th><td>missing</td><td>India</td><td>21.0</td><td>78.0</td><td>0</td><td>0</td></tr><tr><th>17</th><td>missing</td><td>Italy</td><td>43.0</td><td>12.0</td><td>0</td><td>0</td></tr><tr><th>18</th><td>missing</td><td>Sweden</td><td>63.0</td><td>16.0</td><td>0</td><td>0</td></tr><tr><th>19</th><td>missing</td><td>Spain</td><td>40.0</td><td>-4.0</td><td>0</td><td>0</td></tr><tr><th>20</th><td>South Australia</td><td>Australia</td><td>-34.9285</td><td>138.601</td><td>0</td><td>0</td></tr><tr><th>21</th><td>missing</td><td>Belgium</td><td>50.8333</td><td>4.0</td><td>0</td><td>0</td></tr><tr><th>22</th><td>missing</td><td>Egypt</td><td>26.0</td><td>30.0</td><td>0</td><td>0</td></tr><tr><th>23</th><td>From Diamond Princess</td><td>Australia</td><td>35.4437</td><td>139.638</td><td>0</td><td>0</td></tr><tr><th>24</th><td>missing</td><td>Lebanon</td><td>33.8547</td><td>35.8623</td><td>0</td><td>0</td></tr><tr><th>&vellip;</th><td>&vellip;</td><td>&vellip;</td><td>&vellip;</td><td>&vellip;</td><td>&vellip;</td><td>&vellip;</td></tr></tbody></table>"
      ]
     },
     "metadata": {},
     "execution_count": 4
    }
   ],
   "cell_type": "code",
   "source": [
    "jh_data = DataFrame(CSV.read(download(\"https://data.humdata.org/hxlproxy/api/data-preview.csv?url=https%3A%2F%2Fraw.githubusercontent.com%2FCSSEGISandData%2FCOVID-19%2Fmaster%2Fcsse_covid_19_data%2Fcsse_covid_19_time_series%2Ftime_series_19-covid-Confirmed.csv\")))"
   ],
   "metadata": {},
   "execution_count": 4
  },
  {
   "outputs": [],
   "cell_type": "markdown",
   "source": [
    "## Colorado\n",
    "data processing"
   ],
   "metadata": {}
  },
  {
   "outputs": [
    {
     "name": "stdout",
     "output_type": "stream",
     "text": [
      "┌ Warning: `melt(df::AbstractDataFrame, id_vars; variable_name::Symbol=:variable, value_name::Symbol=:value, view::Bool=false)` is deprecated, use `stack(df, Not(id_vars); variable_name=variable_name, value_name=value_name, view=view)` instead.\n",
      "│   caller = ip:0x0\n",
      "└ @ Core :-1\n"
     ]
    },
    {
     "output_type": "execute_result",
     "data": {
      "text/plain": "49"
     },
     "metadata": {},
     "execution_count": 5
    }
   ],
   "cell_type": "code",
   "source": [
    "co_data = jh_data[.!ismissing.(jh_data[!,Symbol(\"Province/State\")]) .& (jh_data[!,Symbol(\"Province/State\")].==\"Colorado\"),:]\n",
    "co_data = melt(co_data,names(co_data)[1:4],variable_name = :Date, value_name =:cases)\n",
    "co_data.Date = Date.(String.(co_data.Date),\"m/d/y\") + Year(2000)\n",
    "recent_cases = co_data[co_data.Date .== maximum(co_data.Date),:cases][1]"
   ],
   "metadata": {},
   "execution_count": 5
  },
  {
   "outputs": [],
   "cell_type": "markdown",
   "source": [
    "Plot the colorado projection using the most recent case count"
   ],
   "metadata": {}
  },
  {
   "outputs": [
    {
     "name": "stdout",
     "output_type": "stream",
     "text": [
      "┌ Warning: Accessing `scope.id` is deprecated, use `scopeid(scope)` instead.\n",
      "│   caller = ip:0x0\n",
      "└ @ Core :-1\n"
     ]
    },
    {
     "output_type": "execute_result",
     "data": {
      "text/plain": "data: [\n  \"scatter with fields name, type, x, and y\",\n  \"scatter with fields name, type, x, and y\",\n  \"scatter with fields name, type, x, and y\"\n]\n\nlayout: \"layout with field margin\"\n\n",
      "text/html": [
       "<div\n",
       "    class=\"webio-mountpoint\"\n",
       "    data-webio-mountpoint=\"6406995203220895857\"\n",
       ">\n",
       "    <script>\n",
       "    if (window.require && require.defined && require.defined(\"nbextensions/webio-jupyter-notebook\")) {\n",
       "        console.log(\"Jupyter WebIO extension detected, not mounting.\");\n",
       "    } else if (window.WebIO) {\n",
       "        WebIO.mount(\n",
       "            document.querySelector('[data-webio-mountpoint=\"6406995203220895857\"]'),\n",
       "            {\"props\":{},\"nodeType\":\"Scope\",\"type\":\"node\",\"instanceArgs\":{\"imports\":{\"data\":[{\"name\":\"Plotly\",\"type\":\"js\",\"url\":\"\\/assetserver\\/dd499eeafffc246529ce8ce9204890d7f4da8e7b-plotly-latest.min.js\"},{\"name\":null,\"type\":\"js\",\"url\":\"\\/assetserver\\/919d5bdad3adb46aadc35f1289d4eb0a5e295e6b-plotly_webio.bundle.js\"}],\"type\":\"async_block\"},\"id\":\"11486591188963782638\",\"handlers\":{\"_toImage\":[\"(function (options){return this.Plotly.toImage(this.plotElem,options).then((function (data){return WebIO.setval({\\\"name\\\":\\\"image\\\",\\\"scope\\\":\\\"11486591188963782638\\\",\\\"id\\\":\\\"7265891917797625787\\\",\\\"type\\\":\\\"observable\\\"},data)}))})\"],\"__get_gd_contents\":[\"(function (prop){prop==\\\"data\\\" ? (WebIO.setval({\\\"name\\\":\\\"__gd_contents\\\",\\\"scope\\\":\\\"11486591188963782638\\\",\\\"id\\\":\\\"11585882642316062468\\\",\\\"type\\\":\\\"observable\\\"},this.plotElem.data)) : undefined; return prop==\\\"layout\\\" ? (WebIO.setval({\\\"name\\\":\\\"__gd_contents\\\",\\\"scope\\\":\\\"11486591188963782638\\\",\\\"id\\\":\\\"11585882642316062468\\\",\\\"type\\\":\\\"observable\\\"},this.plotElem.layout)) : undefined})\"],\"_downloadImage\":[\"(function (options){return this.Plotly.downloadImage(this.plotElem,options)})\"],\"_commands\":[\"(function (args){var fn=args.shift(); var elem=this.plotElem; var Plotly=this.Plotly; args.unshift(elem); return Plotly[fn].apply(this,args)})\"]},\"systemjs_options\":null,\"mount_callbacks\":[\"function () {\\n    var handler = ((function (Plotly,PlotlyWebIO){PlotlyWebIO.init(WebIO); var gd=this.dom.querySelector(\\\"#plot-d64cd461-752b-4e1a-bd30-11a43627e09d\\\"); this.plotElem=gd; this.Plotly=Plotly; (window.Blink!==undefined) ? (gd.style.width=\\\"100%\\\", gd.style.height=\\\"100vh\\\", gd.style.marginLeft=\\\"0%\\\", gd.style.marginTop=\\\"0vh\\\") : undefined; window.onresize=(function (){return Plotly.Plots.resize(gd)}); Plotly.newPlot(gd,[{\\\"y\\\":[49.0,98.0,196.0,392.0,784.0,1568.0,3136.0,6272.0,12544.0,25088.0,50176.0,100352.0,200704.0],\\\"type\\\":\\\"scatter\\\",\\\"name\\\":\\\"Infections\\\",\\\"x\\\":[\\\"2020-03-14\\\",\\\"2020-03-19\\\",\\\"2020-03-24\\\",\\\"2020-03-29\\\",\\\"2020-04-03\\\",\\\"2020-04-08\\\",\\\"2020-04-13\\\",\\\"2020-04-18\\\",\\\"2020-04-23\\\",\\\"2020-04-28\\\",\\\"2020-05-03\\\",\\\"2020-05-08\\\",\\\"2020-05-13\\\"]},{\\\"y\\\":[4.9,9.8,19.6,39.2,78.4,156.8,313.6,627.2,1254.4,2508.8,5017.6,10035.2,20070.4],\\\"type\\\":\\\"scatter\\\",\\\"name\\\":\\\"Hospitalizations\\\",\\\"x\\\":[\\\"2020-03-14\\\",\\\"2020-03-19\\\",\\\"2020-03-24\\\",\\\"2020-03-29\\\",\\\"2020-04-03\\\",\\\"2020-04-08\\\",\\\"2020-04-13\\\",\\\"2020-04-18\\\",\\\"2020-04-23\\\",\\\"2020-04-28\\\",\\\"2020-05-03\\\",\\\"2020-05-08\\\",\\\"2020-05-13\\\"]},{\\\"y\\\":[1.47,2.94,5.88,11.76,23.52,47.04,94.08,188.16,376.32,752.64,1505.28,3010.56,6021.12],\\\"type\\\":\\\"scatter\\\",\\\"name\\\":\\\"Deaths\\\",\\\"x\\\":[\\\"2020-03-14\\\",\\\"2020-03-19\\\",\\\"2020-03-24\\\",\\\"2020-03-29\\\",\\\"2020-04-03\\\",\\\"2020-04-08\\\",\\\"2020-04-13\\\",\\\"2020-04-18\\\",\\\"2020-04-23\\\",\\\"2020-04-28\\\",\\\"2020-05-03\\\",\\\"2020-05-08\\\",\\\"2020-05-13\\\"]}],{\\\"margin\\\":{\\\"l\\\":50,\\\"b\\\":50,\\\"r\\\":50,\\\"t\\\":60}},{}); gd.on(\\\"plotly_hover\\\",(function (data){var filtered_data=WebIO.PlotlyCommands.filterEventData(gd,data,\\\"hover\\\"); return !(filtered_data.isnil) ? (WebIO.setval({\\\"name\\\":\\\"hover\\\",\\\"scope\\\":\\\"11486591188963782638\\\",\\\"id\\\":\\\"6756274091324375962\\\",\\\"type\\\":\\\"observable\\\"},filtered_data.out)) : undefined})); gd.on(\\\"plotly_unhover\\\",(function (){return WebIO.setval({\\\"name\\\":\\\"hover\\\",\\\"scope\\\":\\\"11486591188963782638\\\",\\\"id\\\":\\\"6756274091324375962\\\",\\\"type\\\":\\\"observable\\\"},{})})); gd.on(\\\"plotly_selected\\\",(function (data){var filtered_data=WebIO.PlotlyCommands.filterEventData(gd,data,\\\"selected\\\"); return !(filtered_data.isnil) ? (WebIO.setval({\\\"name\\\":\\\"selected\\\",\\\"scope\\\":\\\"11486591188963782638\\\",\\\"id\\\":\\\"17942348496481439667\\\",\\\"type\\\":\\\"observable\\\"},filtered_data.out)) : undefined})); gd.on(\\\"plotly_deselect\\\",(function (){return WebIO.setval({\\\"name\\\":\\\"selected\\\",\\\"scope\\\":\\\"11486591188963782638\\\",\\\"id\\\":\\\"17942348496481439667\\\",\\\"type\\\":\\\"observable\\\"},{})})); gd.on(\\\"plotly_relayout\\\",(function (data){var filtered_data=WebIO.PlotlyCommands.filterEventData(gd,data,\\\"relayout\\\"); return !(filtered_data.isnil) ? (WebIO.setval({\\\"name\\\":\\\"relayout\\\",\\\"scope\\\":\\\"11486591188963782638\\\",\\\"id\\\":\\\"9998186977042344269\\\",\\\"type\\\":\\\"observable\\\"},filtered_data.out)) : undefined})); return gd.on(\\\"plotly_click\\\",(function (data){var filtered_data=WebIO.PlotlyCommands.filterEventData(gd,data,\\\"click\\\"); return !(filtered_data.isnil) ? (WebIO.setval({\\\"name\\\":\\\"click\\\",\\\"scope\\\":\\\"11486591188963782638\\\",\\\"id\\\":\\\"17545124026404559129\\\",\\\"type\\\":\\\"observable\\\"},filtered_data.out)) : undefined}))}));\\n    (WebIO.importBlock({\\\"data\\\":[{\\\"name\\\":\\\"Plotly\\\",\\\"type\\\":\\\"js\\\",\\\"url\\\":\\\"\\/assetserver\\/dd499eeafffc246529ce8ce9204890d7f4da8e7b-plotly-latest.min.js\\\"},{\\\"name\\\":null,\\\"type\\\":\\\"js\\\",\\\"url\\\":\\\"\\/assetserver\\/919d5bdad3adb46aadc35f1289d4eb0a5e295e6b-plotly_webio.bundle.js\\\"}],\\\"type\\\":\\\"async_block\\\"})).then((imports) => handler.apply(this, imports));\\n}\\n\"],\"observables\":{\"_toImage\":{\"sync\":false,\"id\":\"4998560751842424294\",\"value\":{}},\"hover\":{\"sync\":false,\"id\":\"6756274091324375962\",\"value\":{}},\"selected\":{\"sync\":false,\"id\":\"17942348496481439667\",\"value\":{}},\"__gd_contents\":{\"sync\":false,\"id\":\"11585882642316062468\",\"value\":{}},\"click\":{\"sync\":false,\"id\":\"17545124026404559129\",\"value\":{}},\"image\":{\"sync\":true,\"id\":\"7265891917797625787\",\"value\":\"\"},\"__get_gd_contents\":{\"sync\":false,\"id\":\"15366874513036687881\",\"value\":\"\"},\"_downloadImage\":{\"sync\":false,\"id\":\"16202136620457881865\",\"value\":{}},\"relayout\":{\"sync\":false,\"id\":\"9998186977042344269\",\"value\":{}},\"_commands\":{\"sync\":false,\"id\":\"2397155553296195557\",\"value\":[]}}},\"children\":[{\"props\":{\"id\":\"plot-d64cd461-752b-4e1a-bd30-11a43627e09d\"},\"nodeType\":\"DOM\",\"type\":\"node\",\"instanceArgs\":{\"namespace\":\"html\",\"tag\":\"div\"},\"children\":[]}]},\n",
       "            window,\n",
       "        );\n",
       "    } else {\n",
       "        document\n",
       "            .querySelector('[data-webio-mountpoint=\"6406995203220895857\"]')\n",
       "            .innerHTML = (\n",
       "                '<strong>WebIO not detected. Please read ' +\n",
       "                '<a href=\"https://juliagizmos.github.io/WebIO.jl/latest/troubleshooting/not-detected/\">the troubleshooting guide</a> ' +\n",
       "                'for more information on how to resolve this issue.' +\n",
       "                '</strong>'\n",
       "            );\n",
       "    }\n",
       "    </script>\n",
       "</div>\n"
      ]
     },
     "metadata": {},
     "execution_count": 6
    }
   ],
   "cell_type": "code",
   "source": [
    "plot_covid(Day(60), recent_cases, Day(5))"
   ],
   "metadata": {},
   "execution_count": 6
  },
  {
   "outputs": [],
   "cell_type": "markdown",
   "source": [
    "## US\n",
    "data processing"
   ],
   "metadata": {}
  },
  {
   "outputs": [
    {
     "name": "stdout",
     "output_type": "stream",
     "text": [
      "┌ Warning: `melt(df::AbstractDataFrame, id_vars; variable_name::Symbol=:variable, value_name::Symbol=:value, view::Bool=false)` is deprecated, use `stack(df, Not(id_vars); variable_name=variable_name, value_name=value_name, view=view)` instead.\n",
      "│   caller = ip:0x0\n",
      "└ @ Core :-1\n"
     ]
    },
    {
     "output_type": "execute_result",
     "data": {
      "text/plain": "2179"
     },
     "metadata": {},
     "execution_count": 7
    }
   ],
   "cell_type": "code",
   "source": [
    "us_data = jh_data[.!ismissing.(jh_data[!,Symbol(\"Country/Region\")]) .& (jh_data[!,Symbol(\"Country/Region\")].==\"US\"),:]\n",
    "us_data = us_data[.!occursin.(\",\", us_data[!,Symbol(\"Province/State\")]), :]\n",
    "us_data = melt(us_data,names(us_data)[1:4],variable_name = :Date, value_name =:cases)\n",
    "us_data.Date = Date.(String.(us_data.Date),\"m/d/y\") + Year(2000)\n",
    "us_data = aggregate(us_data[!,[:Date,:cases]], :Date, sum)\n",
    "recent_us_cases = us_data[us_data.Date .== maximum(us_data.Date),:cases_sum][1]"
   ],
   "metadata": {},
   "execution_count": 7
  },
  {
   "outputs": [],
   "cell_type": "markdown",
   "source": [
    "Plot the US projection based on the most recent case  count"
   ],
   "metadata": {}
  },
  {
   "outputs": [
    {
     "name": "stdout",
     "output_type": "stream",
     "text": [
      "┌ Warning: Accessing `scope.id` is deprecated, use `scopeid(scope)` instead.\n",
      "│   caller = ip:0x0\n",
      "└ @ Core :-1\n"
     ]
    },
    {
     "output_type": "execute_result",
     "data": {
      "text/plain": "data: [\n  \"scatter with fields name, type, x, and y\",\n  \"scatter with fields name, type, x, and y\",\n  \"scatter with fields name, type, x, and y\"\n]\n\nlayout: \"layout with field margin\"\n\n",
      "text/html": [
       "<div\n",
       "    class=\"webio-mountpoint\"\n",
       "    data-webio-mountpoint=\"8225645711146423091\"\n",
       ">\n",
       "    <script>\n",
       "    if (window.require && require.defined && require.defined(\"nbextensions/webio-jupyter-notebook\")) {\n",
       "        console.log(\"Jupyter WebIO extension detected, not mounting.\");\n",
       "    } else if (window.WebIO) {\n",
       "        WebIO.mount(\n",
       "            document.querySelector('[data-webio-mountpoint=\"8225645711146423091\"]'),\n",
       "            {\"props\":{},\"nodeType\":\"Scope\",\"type\":\"node\",\"instanceArgs\":{\"imports\":{\"data\":[{\"name\":\"Plotly\",\"type\":\"js\",\"url\":\"\\/assetserver\\/dd499eeafffc246529ce8ce9204890d7f4da8e7b-plotly-latest.min.js\"},{\"name\":null,\"type\":\"js\",\"url\":\"\\/assetserver\\/919d5bdad3adb46aadc35f1289d4eb0a5e295e6b-plotly_webio.bundle.js\"}],\"type\":\"async_block\"},\"id\":\"14236175104310850887\",\"handlers\":{\"_toImage\":[\"(function (options){return this.Plotly.toImage(this.plotElem,options).then((function (data){return WebIO.setval({\\\"name\\\":\\\"image\\\",\\\"scope\\\":\\\"14236175104310850887\\\",\\\"id\\\":\\\"10705835959448241373\\\",\\\"type\\\":\\\"observable\\\"},data)}))})\"],\"__get_gd_contents\":[\"(function (prop){prop==\\\"data\\\" ? (WebIO.setval({\\\"name\\\":\\\"__gd_contents\\\",\\\"scope\\\":\\\"14236175104310850887\\\",\\\"id\\\":\\\"13581422651151498345\\\",\\\"type\\\":\\\"observable\\\"},this.plotElem.data)) : undefined; return prop==\\\"layout\\\" ? (WebIO.setval({\\\"name\\\":\\\"__gd_contents\\\",\\\"scope\\\":\\\"14236175104310850887\\\",\\\"id\\\":\\\"13581422651151498345\\\",\\\"type\\\":\\\"observable\\\"},this.plotElem.layout)) : undefined})\"],\"_downloadImage\":[\"(function (options){return this.Plotly.downloadImage(this.plotElem,options)})\"],\"_commands\":[\"(function (args){var fn=args.shift(); var elem=this.plotElem; var Plotly=this.Plotly; args.unshift(elem); return Plotly[fn].apply(this,args)})\"]},\"systemjs_options\":null,\"mount_callbacks\":[\"function () {\\n    var handler = ((function (Plotly,PlotlyWebIO){PlotlyWebIO.init(WebIO); var gd=this.dom.querySelector(\\\"#plot-03380cd2-4abe-40cc-b227-5d3165191333\\\"); this.plotElem=gd; this.Plotly=Plotly; (window.Blink!==undefined) ? (gd.style.width=\\\"100%\\\", gd.style.height=\\\"100vh\\\", gd.style.marginLeft=\\\"0%\\\", gd.style.marginTop=\\\"0vh\\\") : undefined; window.onresize=(function (){return Plotly.Plots.resize(gd)}); Plotly.newPlot(gd,[{\\\"y\\\":[2179.0,4358.0,8716.0,17432.0,34864.0,69728.0,139456.0,278912.0,557824.0,1.115648e6,2.231296e6,4.462592e6,8.925184e6,1.7850368e7,3.5700736e7,7.1401472e7,1.42802944e8,2.85605888e8,5.71211776e8,1.142423552e9,2.284847104e9],\\\"type\\\":\\\"scatter\\\",\\\"name\\\":\\\"Infections\\\",\\\"x\\\":[\\\"2020-03-14\\\",\\\"2020-03-19\\\",\\\"2020-03-24\\\",\\\"2020-03-29\\\",\\\"2020-04-03\\\",\\\"2020-04-08\\\",\\\"2020-04-13\\\",\\\"2020-04-18\\\",\\\"2020-04-23\\\",\\\"2020-04-28\\\",\\\"2020-05-03\\\",\\\"2020-05-08\\\",\\\"2020-05-13\\\",\\\"2020-05-18\\\",\\\"2020-05-23\\\",\\\"2020-05-28\\\",\\\"2020-06-02\\\",\\\"2020-06-07\\\",\\\"2020-06-12\\\",\\\"2020-06-17\\\",\\\"2020-06-22\\\"]},{\\\"y\\\":[217.9,435.8,871.6,1743.2,3486.4,6972.8,13945.6,27891.2,55782.4,111564.8,223129.6,446259.2,892518.4,1.7850368e6,3.5700736e6,7.1401472e6,1.42802944e7,2.85605888e7,5.71211776e7,1.142423552e8,2.284847104e8],\\\"type\\\":\\\"scatter\\\",\\\"name\\\":\\\"Hospitalizations\\\",\\\"x\\\":[\\\"2020-03-14\\\",\\\"2020-03-19\\\",\\\"2020-03-24\\\",\\\"2020-03-29\\\",\\\"2020-04-03\\\",\\\"2020-04-08\\\",\\\"2020-04-13\\\",\\\"2020-04-18\\\",\\\"2020-04-23\\\",\\\"2020-04-28\\\",\\\"2020-05-03\\\",\\\"2020-05-08\\\",\\\"2020-05-13\\\",\\\"2020-05-18\\\",\\\"2020-05-23\\\",\\\"2020-05-28\\\",\\\"2020-06-02\\\",\\\"2020-06-07\\\",\\\"2020-06-12\\\",\\\"2020-06-17\\\",\\\"2020-06-22\\\"]},{\\\"y\\\":[65.37,130.74,261.48,522.96,1045.92,2091.84,4183.68,8367.36,16734.72,33469.44,66938.88,133877.76,267755.52,535511.04,1.07102208e6,2.14204416e6,4.28408832e6,8.56817664e6,1.713635328e7,3.427270656e7,6.854541312e7],\\\"type\\\":\\\"scatter\\\",\\\"name\\\":\\\"Deaths\\\",\\\"x\\\":[\\\"2020-03-14\\\",\\\"2020-03-19\\\",\\\"2020-03-24\\\",\\\"2020-03-29\\\",\\\"2020-04-03\\\",\\\"2020-04-08\\\",\\\"2020-04-13\\\",\\\"2020-04-18\\\",\\\"2020-04-23\\\",\\\"2020-04-28\\\",\\\"2020-05-03\\\",\\\"2020-05-08\\\",\\\"2020-05-13\\\",\\\"2020-05-18\\\",\\\"2020-05-23\\\",\\\"2020-05-28\\\",\\\"2020-06-02\\\",\\\"2020-06-07\\\",\\\"2020-06-12\\\",\\\"2020-06-17\\\",\\\"2020-06-22\\\"]}],{\\\"margin\\\":{\\\"l\\\":50,\\\"b\\\":50,\\\"r\\\":50,\\\"t\\\":60}},{}); gd.on(\\\"plotly_hover\\\",(function (data){var filtered_data=WebIO.PlotlyCommands.filterEventData(gd,data,\\\"hover\\\"); return !(filtered_data.isnil) ? (WebIO.setval({\\\"name\\\":\\\"hover\\\",\\\"scope\\\":\\\"14236175104310850887\\\",\\\"id\\\":\\\"13666515099457747908\\\",\\\"type\\\":\\\"observable\\\"},filtered_data.out)) : undefined})); gd.on(\\\"plotly_unhover\\\",(function (){return WebIO.setval({\\\"name\\\":\\\"hover\\\",\\\"scope\\\":\\\"14236175104310850887\\\",\\\"id\\\":\\\"13666515099457747908\\\",\\\"type\\\":\\\"observable\\\"},{})})); gd.on(\\\"plotly_selected\\\",(function (data){var filtered_data=WebIO.PlotlyCommands.filterEventData(gd,data,\\\"selected\\\"); return !(filtered_data.isnil) ? (WebIO.setval({\\\"name\\\":\\\"selected\\\",\\\"scope\\\":\\\"14236175104310850887\\\",\\\"id\\\":\\\"16648572379063501247\\\",\\\"type\\\":\\\"observable\\\"},filtered_data.out)) : undefined})); gd.on(\\\"plotly_deselect\\\",(function (){return WebIO.setval({\\\"name\\\":\\\"selected\\\",\\\"scope\\\":\\\"14236175104310850887\\\",\\\"id\\\":\\\"16648572379063501247\\\",\\\"type\\\":\\\"observable\\\"},{})})); gd.on(\\\"plotly_relayout\\\",(function (data){var filtered_data=WebIO.PlotlyCommands.filterEventData(gd,data,\\\"relayout\\\"); return !(filtered_data.isnil) ? (WebIO.setval({\\\"name\\\":\\\"relayout\\\",\\\"scope\\\":\\\"14236175104310850887\\\",\\\"id\\\":\\\"10498463320414260819\\\",\\\"type\\\":\\\"observable\\\"},filtered_data.out)) : undefined})); return gd.on(\\\"plotly_click\\\",(function (data){var filtered_data=WebIO.PlotlyCommands.filterEventData(gd,data,\\\"click\\\"); return !(filtered_data.isnil) ? (WebIO.setval({\\\"name\\\":\\\"click\\\",\\\"scope\\\":\\\"14236175104310850887\\\",\\\"id\\\":\\\"8382934024100434000\\\",\\\"type\\\":\\\"observable\\\"},filtered_data.out)) : undefined}))}));\\n    (WebIO.importBlock({\\\"data\\\":[{\\\"name\\\":\\\"Plotly\\\",\\\"type\\\":\\\"js\\\",\\\"url\\\":\\\"\\/assetserver\\/dd499eeafffc246529ce8ce9204890d7f4da8e7b-plotly-latest.min.js\\\"},{\\\"name\\\":null,\\\"type\\\":\\\"js\\\",\\\"url\\\":\\\"\\/assetserver\\/919d5bdad3adb46aadc35f1289d4eb0a5e295e6b-plotly_webio.bundle.js\\\"}],\\\"type\\\":\\\"async_block\\\"})).then((imports) => handler.apply(this, imports));\\n}\\n\"],\"observables\":{\"_toImage\":{\"sync\":false,\"id\":\"15835241472030053250\",\"value\":{}},\"hover\":{\"sync\":false,\"id\":\"13666515099457747908\",\"value\":{}},\"selected\":{\"sync\":false,\"id\":\"16648572379063501247\",\"value\":{}},\"__gd_contents\":{\"sync\":false,\"id\":\"13581422651151498345\",\"value\":{}},\"click\":{\"sync\":false,\"id\":\"8382934024100434000\",\"value\":{}},\"image\":{\"sync\":true,\"id\":\"10705835959448241373\",\"value\":\"\"},\"__get_gd_contents\":{\"sync\":false,\"id\":\"8980000556594315626\",\"value\":\"\"},\"_downloadImage\":{\"sync\":false,\"id\":\"10704363719820418148\",\"value\":{}},\"relayout\":{\"sync\":false,\"id\":\"10498463320414260819\",\"value\":{}},\"_commands\":{\"sync\":false,\"id\":\"12921969953422608601\",\"value\":[]}}},\"children\":[{\"props\":{\"id\":\"plot-03380cd2-4abe-40cc-b227-5d3165191333\"},\"nodeType\":\"DOM\",\"type\":\"node\",\"instanceArgs\":{\"namespace\":\"html\",\"tag\":\"div\"},\"children\":[]}]},\n",
       "            window,\n",
       "        );\n",
       "    } else {\n",
       "        document\n",
       "            .querySelector('[data-webio-mountpoint=\"8225645711146423091\"]')\n",
       "            .innerHTML = (\n",
       "                '<strong>WebIO not detected. Please read ' +\n",
       "                '<a href=\"https://juliagizmos.github.io/WebIO.jl/latest/troubleshooting/not-detected/\">the troubleshooting guide</a> ' +\n",
       "                'for more information on how to resolve this issue.' +\n",
       "                '</strong>'\n",
       "            );\n",
       "    }\n",
       "    </script>\n",
       "</div>\n"
      ]
     },
     "metadata": {},
     "execution_count": 8
    }
   ],
   "cell_type": "code",
   "source": [
    "plot_covid(Day(100), recent_us_cases, Day(5))"
   ],
   "metadata": {},
   "execution_count": 8
  },
  {
   "outputs": [],
   "cell_type": "markdown",
   "source": [
    "---\n",
    "\n",
    "*This notebook was generated using [Literate.jl](https://github.com/fredrikekre/Literate.jl).*"
   ],
   "metadata": {}
  }
 ],
 "nbformat_minor": 3,
 "metadata": {
  "language_info": {
   "file_extension": ".jl",
   "mimetype": "application/julia",
   "name": "julia",
   "version": "1.3.1"
  },
  "kernelspec": {
   "name": "julia-1.3",
   "display_name": "Julia 1.3.1",
   "language": "julia"
  }
 },
 "nbformat": 4
}
