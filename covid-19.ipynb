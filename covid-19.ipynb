{
 "cells": [
  {
   "outputs": [],
   "cell_type": "markdown",
   "source": [
    "# COVID-19 Analysis\n",
    "Checkout the [webpage with live plots](https://claytonpbarrows.github.io/covid-19/).\n",
    "And if you're interested:\n",
    "- [the github repository](https://github.com/claytonpbarrows/covid-19/).\n",
    "- [the notebook](https://nbviewer.jupyter.org/github/claytonpbarrows/covid-19/blob/master/covid-19.ipynb).\n",
    "- And if you want to run the notebook interactively through binder (slow), you can do so [here](https://mybinder.org/v2/gh/claytonpbarrows/covid-19/master/).\n",
    "\n",
    "*This is a very simple estimate of COVID-19 impacts, and I don't claim to know anything other than how to produce a nice figure and do simple math. __So please don't misinterpret anything here__.*\n",
    "\n",
    "### Dependencies"
   ],
   "metadata": {}
  },
  {
   "outputs": [],
   "cell_type": "code",
   "source": [
    "using Dates\n",
    "using PlotlyJS\n",
    "using DataFrames\n",
    "using CSV"
   ],
   "metadata": {},
   "execution_count": 1
  },
  {
   "outputs": [],
   "cell_type": "markdown",
   "source": [
    "A simple model for calculating cases based on a constant doubling time:"
   ],
   "metadata": {}
  },
  {
   "outputs": [
    {
     "output_type": "execute_result",
     "data": {
      "text/plain": "cases (generic function with 1 method)"
     },
     "metadata": {},
     "execution_count": 2
    }
   ],
   "cell_type": "code",
   "source": [
    "function cases(days::Day, current_cases, doubling_time::Day)\n",
    "    dbl_period = days/doubling_time\n",
    "    return current_cases * (2 ^ dbl_period)\n",
    "end"
   ],
   "metadata": {},
   "execution_count": 2
  },
  {
   "outputs": [],
   "cell_type": "markdown",
   "source": [
    "A simple model for calculating instantaneous case load given a recovery time:\n",
    "*note that the instantaneous case calculation assumes that the death time is the same as the recovery time*"
   ],
   "metadata": {}
  },
  {
   "outputs": [
    {
     "output_type": "execute_result",
     "data": {
      "text/plain": "instantanious_cases (generic function with 1 method)"
     },
     "metadata": {},
     "execution_count": 3
    }
   ],
   "cell_type": "code",
   "source": [
    "function instantanious_cases(dates, cumulative_cases, hosp_rate, death_rate, recovery_time)\n",
    "    recovery_dates = dates .+ recovery_time\n",
    "    recovery_lag = length(dates[dates .< recovery_dates[1]])\n",
    "    recovered_cases = vcat(zeros(recovery_lag), cumulative_cases[1:end-recovery_lag])\n",
    "    instant_cases = cumulative_cases - recovered_cases - recovered_cases .* death_rate\n",
    "    instant_hosp = instant_cases .* hosp_rate\n",
    "    return instant_cases, instant_hosp\n",
    "end"
   ],
   "metadata": {},
   "execution_count": 3
  },
  {
   "outputs": [],
   "cell_type": "markdown",
   "source": [
    "Here is a function to generate plotly figures based on the simple virus model parameters."
   ],
   "metadata": {}
  },
  {
   "outputs": [
    {
     "output_type": "execute_result",
     "data": {
      "text/plain": "plot_covid (generic function with 5 methods)"
     },
     "metadata": {},
     "execution_count": 4
    }
   ],
   "cell_type": "code",
   "source": [
    "function plot_covid(days, current_cases, doubling_time = Day(7), hosp_rate = 0.1, death_rate = 0.03, recovery_time = Day(10))\n",
    "    td = today()\n",
    "    dates = td:doubling_time:(td+days)\n",
    "    cumulative_cases = [cases(d-td, current_cases, doubling_time) for d in dates]\n",
    "    instant_cases, instant_hosp = instantanious_cases(dates, cumulative_cases, hosp_rate, death_rate, recovery_time)\n",
    "    total_cases = scatter(x = dates, y = cumulative_cases, name = \"Cumulative Infections\")\n",
    "    #total_hosp = scatter(x = dates, y = cumulative_cases.*hosp_rate, name = \"Cumulative Hospitalizations\")\n",
    "    total_deaths = scatter(x = dates, y = cumulative_cases.*death_rate, name = \"Cumulative Deaths\")\n",
    "    inst_cases = scatter(x = dates, y = instant_cases, name = \"Instantaneous Infections\")\n",
    "    inst_hosp = scatter(x = dates, y= instant_hosp, name = \"Instantaneous Hospitalizations\")\n",
    "    plot([total_cases, total_deaths, inst_cases, inst_hosp])\n",
    "end"
   ],
   "metadata": {},
   "execution_count": 4
  },
  {
   "outputs": [],
   "cell_type": "markdown",
   "source": [
    "## COVID-19 parameters\n",
    "- According to [this article](https://www.jhsph.edu/news/news-releases/2020/new-study-on-COVID-19-estimates-5-days-for-incubation-period.html), the estimated doubling time of COVID-19 is ~5 days.\n",
    "- According to [the WHO](https://www.who.int/docs/default-source/coronaviruse/situation-reports/20200306-sitrep-46-covid-19.pdf?sfvrsn=96b04adf_2), the mortality rate of COVID-19 is ~3%.\n",
    "- The 10% hospitalization rate comes from [this article](https://www.statnews.com/2020/03/10/simple-math-alarming-answers-covid-19/), but the sources for that figure in the article are dubious at best."
   ],
   "metadata": {}
  },
  {
   "outputs": [],
   "cell_type": "markdown",
   "source": [
    "JHU has put together some more detailed data, and [HDX has put it in a useful format](https://data.humdata.org/dataset/novel-coronavirus-2019-ncov-cases)."
   ],
   "metadata": {}
  },
  {
   "outputs": [
    {
     "output_type": "execute_result",
     "data": {
      "text/plain": "450×58 DataFrame. Omitted printing of 55 columns\n│ Row │ Province/State            │ Country/Region           │ Lat      │\n│     │ \u001b[90mUnion{Missing, String}\u001b[39m    │ \u001b[90mString\u001b[39m                   │ \u001b[90mFloat64\u001b[39m  │\n├─────┼───────────────────────────┼──────────────────────────┼──────────┤\n│ 1   │ \u001b[90mmissing\u001b[39m                   │ Thailand                 │ 15.0     │\n│ 2   │ \u001b[90mmissing\u001b[39m                   │ Japan                    │ 36.0     │\n│ 3   │ \u001b[90mmissing\u001b[39m                   │ Singapore                │ 1.2833   │\n│ 4   │ \u001b[90mmissing\u001b[39m                   │ Nepal                    │ 28.1667  │\n│ 5   │ \u001b[90mmissing\u001b[39m                   │ Malaysia                 │ 2.5      │\n│ 6   │ British Columbia          │ Canada                   │ 49.2827  │\n│ 7   │ New South Wales           │ Australia                │ -33.8688 │\n⋮\n│ 443 │ \u001b[90mmissing\u001b[39m                   │ Kosovo                   │ 42.6026  │\n│ 444 │ Newfoundland and Labrador │ Canada                   │ 53.1355  │\n│ 445 │ Prince Edward Island      │ Canada                   │ 46.5107  │\n│ 446 │ \u001b[90mmissing\u001b[39m                   │ Central African Republic │ 6.6111   │\n│ 447 │ \u001b[90mmissing\u001b[39m                   │ Congo (Brazzaville)      │ -4.0383  │\n│ 448 │ \u001b[90mmissing\u001b[39m                   │ Equatorial Guinea        │ 1.5      │\n│ 449 │ Mayotte                   │ France                   │ -12.8275 │\n│ 450 │ \u001b[90mmissing\u001b[39m                   │ Uzbekistan               │ 41.3775  │",
      "text/html": [
       "<table class=\"data-frame\"><thead><tr><th></th><th>Province/State</th><th>Country/Region</th><th>Lat</th><th>Long</th><th>1/22/20</th><th>1/23/20</th></tr><tr><th></th><th>String⍰</th><th>String</th><th>Float64</th><th>Float64</th><th>Int64</th><th>Int64</th></tr></thead><tbody><p>450 rows × 58 columns (omitted printing of 52 columns)</p><tr><th>1</th><td>missing</td><td>Thailand</td><td>15.0</td><td>101.0</td><td>2</td><td>3</td></tr><tr><th>2</th><td>missing</td><td>Japan</td><td>36.0</td><td>138.0</td><td>2</td><td>1</td></tr><tr><th>3</th><td>missing</td><td>Singapore</td><td>1.2833</td><td>103.833</td><td>0</td><td>1</td></tr><tr><th>4</th><td>missing</td><td>Nepal</td><td>28.1667</td><td>84.25</td><td>0</td><td>0</td></tr><tr><th>5</th><td>missing</td><td>Malaysia</td><td>2.5</td><td>112.5</td><td>0</td><td>0</td></tr><tr><th>6</th><td>British Columbia</td><td>Canada</td><td>49.2827</td><td>-123.121</td><td>0</td><td>0</td></tr><tr><th>7</th><td>New South Wales</td><td>Australia</td><td>-33.8688</td><td>151.209</td><td>0</td><td>0</td></tr><tr><th>8</th><td>Victoria</td><td>Australia</td><td>-37.8136</td><td>144.963</td><td>0</td><td>0</td></tr><tr><th>9</th><td>Queensland</td><td>Australia</td><td>-28.0167</td><td>153.4</td><td>0</td><td>0</td></tr><tr><th>10</th><td>missing</td><td>Cambodia</td><td>11.55</td><td>104.917</td><td>0</td><td>0</td></tr><tr><th>11</th><td>missing</td><td>Sri Lanka</td><td>7.0</td><td>81.0</td><td>0</td><td>0</td></tr><tr><th>12</th><td>missing</td><td>Germany</td><td>51.0</td><td>9.0</td><td>0</td><td>0</td></tr><tr><th>13</th><td>missing</td><td>Finland</td><td>64.0</td><td>26.0</td><td>0</td><td>0</td></tr><tr><th>14</th><td>missing</td><td>United Arab Emirates</td><td>24.0</td><td>54.0</td><td>0</td><td>0</td></tr><tr><th>15</th><td>missing</td><td>Philippines</td><td>13.0</td><td>122.0</td><td>0</td><td>0</td></tr><tr><th>16</th><td>missing</td><td>India</td><td>21.0</td><td>78.0</td><td>0</td><td>0</td></tr><tr><th>17</th><td>missing</td><td>Italy</td><td>43.0</td><td>12.0</td><td>0</td><td>0</td></tr><tr><th>18</th><td>missing</td><td>Sweden</td><td>63.0</td><td>16.0</td><td>0</td><td>0</td></tr><tr><th>19</th><td>missing</td><td>Spain</td><td>40.0</td><td>-4.0</td><td>0</td><td>0</td></tr><tr><th>20</th><td>South Australia</td><td>Australia</td><td>-34.9285</td><td>138.601</td><td>0</td><td>0</td></tr><tr><th>21</th><td>missing</td><td>Belgium</td><td>50.8333</td><td>4.0</td><td>0</td><td>0</td></tr><tr><th>22</th><td>missing</td><td>Egypt</td><td>26.0</td><td>30.0</td><td>0</td><td>0</td></tr><tr><th>23</th><td>From Diamond Princess</td><td>Australia</td><td>35.4437</td><td>139.638</td><td>0</td><td>0</td></tr><tr><th>24</th><td>missing</td><td>Lebanon</td><td>33.8547</td><td>35.8623</td><td>0</td><td>0</td></tr><tr><th>&vellip;</th><td>&vellip;</td><td>&vellip;</td><td>&vellip;</td><td>&vellip;</td><td>&vellip;</td><td>&vellip;</td></tr></tbody></table>"
      ]
     },
     "metadata": {},
     "execution_count": 5
    }
   ],
   "cell_type": "code",
   "source": [
    "jh_data = DataFrame(CSV.read(download(\"https://data.humdata.org/hxlproxy/api/data-preview.csv?url=https%3A%2F%2Fraw.githubusercontent.com%2FCSSEGISandData%2FCOVID-19%2Fmaster%2Fcsse_covid_19_data%2Fcsse_covid_19_time_series%2Ftime_series_19-covid-Confirmed.csv\")))"
   ],
   "metadata": {},
   "execution_count": 5
  },
  {
   "outputs": [],
   "cell_type": "markdown",
   "source": [
    "## Colorado\n",
    "data processing"
   ],
   "metadata": {}
  },
  {
   "outputs": [
    {
     "name": "stdout",
     "output_type": "stream",
     "text": [
      "┌ Warning: `melt(df::AbstractDataFrame, id_vars; variable_name::Symbol=:variable, value_name::Symbol=:value, view::Bool=false)` is deprecated, use `stack(df, Not(id_vars); variable_name=variable_name, value_name=value_name, view=view)` instead.\n",
      "│   caller = ip:0x0\n",
      "└ @ Core :-1\n"
     ]
    },
    {
     "output_type": "execute_result",
     "data": {
      "text/plain": "131"
     },
     "metadata": {},
     "execution_count": 6
    }
   ],
   "cell_type": "code",
   "source": [
    "co_data = jh_data[.!ismissing.(jh_data[!,Symbol(\"Province/State\")]) .& (jh_data[!,Symbol(\"Province/State\")].==\"Colorado\"),:]\n",
    "co_data = melt(co_data,names(co_data)[1:4],variable_name = :Date, value_name =:cases)\n",
    "co_data.Date = Date.(String.(co_data.Date),\"m/d/y\") + Year(2000)\n",
    "recent_cases = co_data[co_data.Date .== maximum(co_data.Date),:cases][1]"
   ],
   "metadata": {},
   "execution_count": 6
  },
  {
   "outputs": [],
   "cell_type": "markdown",
   "source": [
    "Plot the colorado projection using the most recent case count:"
   ],
   "metadata": {}
  },
  {
   "outputs": [
    {
     "name": "stdout",
     "output_type": "stream",
     "text": [
      "┌ Warning: Accessing `scope.id` is deprecated, use `scopeid(scope)` instead.\n",
      "│   caller = ip:0x0\n",
      "└ @ Core :-1\n"
     ]
    },
    {
     "output_type": "execute_result",
     "data": {
      "text/plain": "data: [\n  \"scatter with fields name, type, x, and y\",\n  \"scatter with fields name, type, x, and y\",\n  \"scatter with fields name, type, x, and y\",\n  \"scatter with fields name, type, x, and y\"\n]\n\nlayout: \"layout with field margin\"\n\n",
      "text/html": [
       "<div\n",
       "    class=\"webio-mountpoint\"\n",
       "    data-webio-mountpoint=\"11429673340011058186\"\n",
       ">\n",
       "    <script>\n",
       "    if (window.require && require.defined && require.defined(\"nbextensions/webio-jupyter-notebook\")) {\n",
       "        console.log(\"Jupyter WebIO extension detected, not mounting.\");\n",
       "    } else if (window.WebIO) {\n",
       "        WebIO.mount(\n",
       "            document.querySelector('[data-webio-mountpoint=\"11429673340011058186\"]'),\n",
       "            {\"props\":{},\"nodeType\":\"Scope\",\"type\":\"node\",\"instanceArgs\":{\"imports\":{\"data\":[{\"name\":\"Plotly\",\"type\":\"js\",\"url\":\"\\/assetserver\\/dd499eeafffc246529ce8ce9204890d7f4da8e7b-plotly-latest.min.js\"},{\"name\":null,\"type\":\"js\",\"url\":\"\\/assetserver\\/919d5bdad3adb46aadc35f1289d4eb0a5e295e6b-plotly_webio.bundle.js\"}],\"type\":\"async_block\"},\"id\":\"2230294278659496857\",\"handlers\":{\"_toImage\":[\"(function (options){return this.Plotly.toImage(this.plotElem,options).then((function (data){return WebIO.setval({\\\"name\\\":\\\"image\\\",\\\"scope\\\":\\\"2230294278659496857\\\",\\\"id\\\":\\\"8798080787530438387\\\",\\\"type\\\":\\\"observable\\\"},data)}))})\"],\"__get_gd_contents\":[\"(function (prop){prop==\\\"data\\\" ? (WebIO.setval({\\\"name\\\":\\\"__gd_contents\\\",\\\"scope\\\":\\\"2230294278659496857\\\",\\\"id\\\":\\\"5835960750416899986\\\",\\\"type\\\":\\\"observable\\\"},this.plotElem.data)) : undefined; return prop==\\\"layout\\\" ? (WebIO.setval({\\\"name\\\":\\\"__gd_contents\\\",\\\"scope\\\":\\\"2230294278659496857\\\",\\\"id\\\":\\\"5835960750416899986\\\",\\\"type\\\":\\\"observable\\\"},this.plotElem.layout)) : undefined})\"],\"_downloadImage\":[\"(function (options){return this.Plotly.downloadImage(this.plotElem,options)})\"],\"_commands\":[\"(function (args){var fn=args.shift(); var elem=this.plotElem; var Plotly=this.Plotly; args.unshift(elem); return Plotly[fn].apply(this,args)})\"]},\"systemjs_options\":null,\"mount_callbacks\":[\"function () {\\n    var handler = ((function (Plotly,PlotlyWebIO){PlotlyWebIO.init(WebIO); var gd=this.dom.querySelector(\\\"#plot-0c37aa33-5a17-4472-ad9b-7870690dbf9d\\\"); this.plotElem=gd; this.Plotly=Plotly; (window.Blink!==undefined) ? (gd.style.width=\\\"100%\\\", gd.style.height=\\\"100vh\\\", gd.style.marginLeft=\\\"0%\\\", gd.style.marginTop=\\\"0vh\\\") : undefined; window.onresize=(function (){return Plotly.Plots.resize(gd)}); Plotly.newPlot(gd,[{\\\"y\\\":[131.0,262.0,524.0,1048.0,2096.0,4192.0,8384.0,16768.0,33536.0,67072.0,134144.0,268288.0,536576.0],\\\"type\\\":\\\"scatter\\\",\\\"name\\\":\\\"Cumulative Infections\\\",\\\"x\\\":[\\\"2020-03-16\\\",\\\"2020-03-21\\\",\\\"2020-03-26\\\",\\\"2020-03-31\\\",\\\"2020-04-05\\\",\\\"2020-04-10\\\",\\\"2020-04-15\\\",\\\"2020-04-20\\\",\\\"2020-04-25\\\",\\\"2020-04-30\\\",\\\"2020-05-05\\\",\\\"2020-05-10\\\",\\\"2020-05-15\\\"]},{\\\"y\\\":[3.9299999999999997,7.859999999999999,15.719999999999999,31.439999999999998,62.879999999999995,125.75999999999999,251.51999999999998,503.03999999999996,1006.0799999999999,2012.1599999999999,4024.3199999999997,8048.639999999999,16097.279999999999],\\\"type\\\":\\\"scatter\\\",\\\"name\\\":\\\"Cumulative Deaths\\\",\\\"x\\\":[\\\"2020-03-16\\\",\\\"2020-03-21\\\",\\\"2020-03-26\\\",\\\"2020-03-31\\\",\\\"2020-04-05\\\",\\\"2020-04-10\\\",\\\"2020-04-15\\\",\\\"2020-04-20\\\",\\\"2020-04-25\\\",\\\"2020-04-30\\\",\\\"2020-05-05\\\",\\\"2020-05-10\\\",\\\"2020-05-15\\\"]},{\\\"y\\\":[131.0,262.0,389.07,778.14,1556.28,3112.56,6225.12,12450.24,24900.48,49800.96,99601.92,199203.84,398407.68],\\\"type\\\":\\\"scatter\\\",\\\"name\\\":\\\"Instantaneous Infections\\\",\\\"x\\\":[\\\"2020-03-16\\\",\\\"2020-03-21\\\",\\\"2020-03-26\\\",\\\"2020-03-31\\\",\\\"2020-04-05\\\",\\\"2020-04-10\\\",\\\"2020-04-15\\\",\\\"2020-04-20\\\",\\\"2020-04-25\\\",\\\"2020-04-30\\\",\\\"2020-05-05\\\",\\\"2020-05-10\\\",\\\"2020-05-15\\\"]},{\\\"y\\\":[13.100000000000001,26.200000000000003,38.907000000000004,77.81400000000001,155.62800000000001,311.25600000000003,622.5120000000001,1245.0240000000001,2490.0480000000002,4980.0960000000005,9960.192000000001,19920.384000000002,39840.768000000004],\\\"type\\\":\\\"scatter\\\",\\\"name\\\":\\\"Instantaneous Hospitalizations\\\",\\\"x\\\":[\\\"2020-03-16\\\",\\\"2020-03-21\\\",\\\"2020-03-26\\\",\\\"2020-03-31\\\",\\\"2020-04-05\\\",\\\"2020-04-10\\\",\\\"2020-04-15\\\",\\\"2020-04-20\\\",\\\"2020-04-25\\\",\\\"2020-04-30\\\",\\\"2020-05-05\\\",\\\"2020-05-10\\\",\\\"2020-05-15\\\"]}],{\\\"margin\\\":{\\\"l\\\":50,\\\"b\\\":50,\\\"r\\\":50,\\\"t\\\":60}},{}); gd.on(\\\"plotly_hover\\\",(function (data){var filtered_data=WebIO.PlotlyCommands.filterEventData(gd,data,\\\"hover\\\"); return !(filtered_data.isnil) ? (WebIO.setval({\\\"name\\\":\\\"hover\\\",\\\"scope\\\":\\\"2230294278659496857\\\",\\\"id\\\":\\\"7688306283344190235\\\",\\\"type\\\":\\\"observable\\\"},filtered_data.out)) : undefined})); gd.on(\\\"plotly_unhover\\\",(function (){return WebIO.setval({\\\"name\\\":\\\"hover\\\",\\\"scope\\\":\\\"2230294278659496857\\\",\\\"id\\\":\\\"7688306283344190235\\\",\\\"type\\\":\\\"observable\\\"},{})})); gd.on(\\\"plotly_selected\\\",(function (data){var filtered_data=WebIO.PlotlyCommands.filterEventData(gd,data,\\\"selected\\\"); return !(filtered_data.isnil) ? (WebIO.setval({\\\"name\\\":\\\"selected\\\",\\\"scope\\\":\\\"2230294278659496857\\\",\\\"id\\\":\\\"11772379633914053548\\\",\\\"type\\\":\\\"observable\\\"},filtered_data.out)) : undefined})); gd.on(\\\"plotly_deselect\\\",(function (){return WebIO.setval({\\\"name\\\":\\\"selected\\\",\\\"scope\\\":\\\"2230294278659496857\\\",\\\"id\\\":\\\"11772379633914053548\\\",\\\"type\\\":\\\"observable\\\"},{})})); gd.on(\\\"plotly_relayout\\\",(function (data){var filtered_data=WebIO.PlotlyCommands.filterEventData(gd,data,\\\"relayout\\\"); return !(filtered_data.isnil) ? (WebIO.setval({\\\"name\\\":\\\"relayout\\\",\\\"scope\\\":\\\"2230294278659496857\\\",\\\"id\\\":\\\"3415215671859563061\\\",\\\"type\\\":\\\"observable\\\"},filtered_data.out)) : undefined})); return gd.on(\\\"plotly_click\\\",(function (data){var filtered_data=WebIO.PlotlyCommands.filterEventData(gd,data,\\\"click\\\"); return !(filtered_data.isnil) ? (WebIO.setval({\\\"name\\\":\\\"click\\\",\\\"scope\\\":\\\"2230294278659496857\\\",\\\"id\\\":\\\"1286144103136907202\\\",\\\"type\\\":\\\"observable\\\"},filtered_data.out)) : undefined}))}));\\n    (WebIO.importBlock({\\\"data\\\":[{\\\"name\\\":\\\"Plotly\\\",\\\"type\\\":\\\"js\\\",\\\"url\\\":\\\"\\/assetserver\\/dd499eeafffc246529ce8ce9204890d7f4da8e7b-plotly-latest.min.js\\\"},{\\\"name\\\":null,\\\"type\\\":\\\"js\\\",\\\"url\\\":\\\"\\/assetserver\\/919d5bdad3adb46aadc35f1289d4eb0a5e295e6b-plotly_webio.bundle.js\\\"}],\\\"type\\\":\\\"async_block\\\"})).then((imports) => handler.apply(this, imports));\\n}\\n\"],\"observables\":{\"_toImage\":{\"sync\":false,\"id\":\"1145043795206128151\",\"value\":{}},\"hover\":{\"sync\":false,\"id\":\"7688306283344190235\",\"value\":{}},\"selected\":{\"sync\":false,\"id\":\"11772379633914053548\",\"value\":{}},\"__gd_contents\":{\"sync\":false,\"id\":\"5835960750416899986\",\"value\":{}},\"click\":{\"sync\":false,\"id\":\"1286144103136907202\",\"value\":{}},\"image\":{\"sync\":true,\"id\":\"8798080787530438387\",\"value\":\"\"},\"__get_gd_contents\":{\"sync\":false,\"id\":\"11950733618456941318\",\"value\":\"\"},\"_downloadImage\":{\"sync\":false,\"id\":\"12333182937172233268\",\"value\":{}},\"relayout\":{\"sync\":false,\"id\":\"3415215671859563061\",\"value\":{}},\"_commands\":{\"sync\":false,\"id\":\"14334023844134133120\",\"value\":[]}}},\"children\":[{\"props\":{\"id\":\"plot-0c37aa33-5a17-4472-ad9b-7870690dbf9d\"},\"nodeType\":\"DOM\",\"type\":\"node\",\"instanceArgs\":{\"namespace\":\"html\",\"tag\":\"div\"},\"children\":[]}]},\n",
       "            window,\n",
       "        );\n",
       "    } else {\n",
       "        document\n",
       "            .querySelector('[data-webio-mountpoint=\"11429673340011058186\"]')\n",
       "            .innerHTML = (\n",
       "                '<strong>WebIO not detected. Please read ' +\n",
       "                '<a href=\"https://juliagizmos.github.io/WebIO.jl/latest/troubleshooting/not-detected/\">the troubleshooting guide</a> ' +\n",
       "                'for more information on how to resolve this issue.' +\n",
       "                '</strong>'\n",
       "            );\n",
       "    }\n",
       "    </script>\n",
       "</div>\n"
      ]
     },
     "metadata": {},
     "execution_count": 7
    }
   ],
   "cell_type": "code",
   "source": [
    "plot_covid(Day(60), recent_cases, Day(5))"
   ],
   "metadata": {},
   "execution_count": 7
  },
  {
   "outputs": [],
   "cell_type": "markdown",
   "source": [
    "## US\n",
    "data processing"
   ],
   "metadata": {}
  },
  {
   "outputs": [
    {
     "name": "stdout",
     "output_type": "stream",
     "text": [
      "┌ Warning: `melt(df::AbstractDataFrame, id_vars; variable_name::Symbol=:variable, value_name::Symbol=:value, view::Bool=false)` is deprecated, use `stack(df, Not(id_vars); variable_name=variable_name, value_name=value_name, view=view)` instead.\n",
      "│   caller = ip:0x0\n",
      "└ @ Core :-1\n"
     ]
    },
    {
     "output_type": "execute_result",
     "data": {
      "text/plain": "3498"
     },
     "metadata": {},
     "execution_count": 8
    }
   ],
   "cell_type": "code",
   "source": [
    "us_data = jh_data[.!ismissing.(jh_data[!,Symbol(\"Country/Region\")]) .& (jh_data[!,Symbol(\"Country/Region\")].==\"US\"),:]\n",
    "us_data = us_data[.!occursin.(\",\", us_data[!,Symbol(\"Province/State\")]), :]\n",
    "us_data = melt(us_data,names(us_data)[1:4],variable_name = :Date, value_name =:cases)\n",
    "us_data.Date = Date.(String.(us_data.Date),\"m/d/y\") + Year(2000)\n",
    "us_data = aggregate(us_data[!,[:Date,:cases]], :Date, sum)\n",
    "recent_us_cases = us_data[us_data.Date .== maximum(us_data.Date),:cases_sum][1]"
   ],
   "metadata": {},
   "execution_count": 8
  },
  {
   "outputs": [],
   "cell_type": "markdown",
   "source": [
    "Plot the US projection based on the most recent case  count:"
   ],
   "metadata": {}
  },
  {
   "outputs": [
    {
     "name": "stdout",
     "output_type": "stream",
     "text": [
      "┌ Warning: Accessing `scope.id` is deprecated, use `scopeid(scope)` instead.\n",
      "│   caller = ip:0x0\n",
      "└ @ Core :-1\n"
     ]
    },
    {
     "output_type": "execute_result",
     "data": {
      "text/plain": "data: [\n  \"scatter with fields name, type, x, and y\",\n  \"scatter with fields name, type, x, and y\",\n  \"scatter with fields name, type, x, and y\",\n  \"scatter with fields name, type, x, and y\"\n]\n\nlayout: \"layout with field margin\"\n\n",
      "text/html": [
       "<div\n",
       "    class=\"webio-mountpoint\"\n",
       "    data-webio-mountpoint=\"16060701276205382439\"\n",
       ">\n",
       "    <script>\n",
       "    if (window.require && require.defined && require.defined(\"nbextensions/webio-jupyter-notebook\")) {\n",
       "        console.log(\"Jupyter WebIO extension detected, not mounting.\");\n",
       "    } else if (window.WebIO) {\n",
       "        WebIO.mount(\n",
       "            document.querySelector('[data-webio-mountpoint=\"16060701276205382439\"]'),\n",
       "            {\"props\":{},\"nodeType\":\"Scope\",\"type\":\"node\",\"instanceArgs\":{\"imports\":{\"data\":[{\"name\":\"Plotly\",\"type\":\"js\",\"url\":\"\\/assetserver\\/dd499eeafffc246529ce8ce9204890d7f4da8e7b-plotly-latest.min.js\"},{\"name\":null,\"type\":\"js\",\"url\":\"\\/assetserver\\/919d5bdad3adb46aadc35f1289d4eb0a5e295e6b-plotly_webio.bundle.js\"}],\"type\":\"async_block\"},\"id\":\"11863270794727956792\",\"handlers\":{\"_toImage\":[\"(function (options){return this.Plotly.toImage(this.plotElem,options).then((function (data){return WebIO.setval({\\\"name\\\":\\\"image\\\",\\\"scope\\\":\\\"11863270794727956792\\\",\\\"id\\\":\\\"4798517558458674191\\\",\\\"type\\\":\\\"observable\\\"},data)}))})\"],\"__get_gd_contents\":[\"(function (prop){prop==\\\"data\\\" ? (WebIO.setval({\\\"name\\\":\\\"__gd_contents\\\",\\\"scope\\\":\\\"11863270794727956792\\\",\\\"id\\\":\\\"118993435649992321\\\",\\\"type\\\":\\\"observable\\\"},this.plotElem.data)) : undefined; return prop==\\\"layout\\\" ? (WebIO.setval({\\\"name\\\":\\\"__gd_contents\\\",\\\"scope\\\":\\\"11863270794727956792\\\",\\\"id\\\":\\\"118993435649992321\\\",\\\"type\\\":\\\"observable\\\"},this.plotElem.layout)) : undefined})\"],\"_downloadImage\":[\"(function (options){return this.Plotly.downloadImage(this.plotElem,options)})\"],\"_commands\":[\"(function (args){var fn=args.shift(); var elem=this.plotElem; var Plotly=this.Plotly; args.unshift(elem); return Plotly[fn].apply(this,args)})\"]},\"systemjs_options\":null,\"mount_callbacks\":[\"function () {\\n    var handler = ((function (Plotly,PlotlyWebIO){PlotlyWebIO.init(WebIO); var gd=this.dom.querySelector(\\\"#plot-2b757711-deee-4462-9ee3-12b7abe27b27\\\"); this.plotElem=gd; this.Plotly=Plotly; (window.Blink!==undefined) ? (gd.style.width=\\\"100%\\\", gd.style.height=\\\"100vh\\\", gd.style.marginLeft=\\\"0%\\\", gd.style.marginTop=\\\"0vh\\\") : undefined; window.onresize=(function (){return Plotly.Plots.resize(gd)}); Plotly.newPlot(gd,[{\\\"y\\\":[3498.0,6996.0,13992.0,27984.0,55968.0,111936.0,223872.0,447744.0,895488.0,1.790976e6,3.581952e6,7.163904e6,1.4327808e7,2.8655616e7,5.7311232e7,1.14622464e8,2.29244928e8,4.58489856e8,9.16979712e8,1.833959424e9,3.667918848e9],\\\"type\\\":\\\"scatter\\\",\\\"name\\\":\\\"Cumulative Infections\\\",\\\"x\\\":[\\\"2020-03-16\\\",\\\"2020-03-21\\\",\\\"2020-03-26\\\",\\\"2020-03-31\\\",\\\"2020-04-05\\\",\\\"2020-04-10\\\",\\\"2020-04-15\\\",\\\"2020-04-20\\\",\\\"2020-04-25\\\",\\\"2020-04-30\\\",\\\"2020-05-05\\\",\\\"2020-05-10\\\",\\\"2020-05-15\\\",\\\"2020-05-20\\\",\\\"2020-05-25\\\",\\\"2020-05-30\\\",\\\"2020-06-04\\\",\\\"2020-06-09\\\",\\\"2020-06-14\\\",\\\"2020-06-19\\\",\\\"2020-06-24\\\"]},{\\\"y\\\":[104.94,209.88,419.76,839.52,1679.04,3358.08,6716.16,13432.32,26864.64,53729.28,107458.56,214917.12,429834.24,859668.48,1.71933696e6,3.43867392e6,6.87734784e6,1.375469568e7,2.750939136e7,5.501878272e7,1.1003756544e8],\\\"type\\\":\\\"scatter\\\",\\\"name\\\":\\\"Cumulative Deaths\\\",\\\"x\\\":[\\\"2020-03-16\\\",\\\"2020-03-21\\\",\\\"2020-03-26\\\",\\\"2020-03-31\\\",\\\"2020-04-05\\\",\\\"2020-04-10\\\",\\\"2020-04-15\\\",\\\"2020-04-20\\\",\\\"2020-04-25\\\",\\\"2020-04-30\\\",\\\"2020-05-05\\\",\\\"2020-05-10\\\",\\\"2020-05-15\\\",\\\"2020-05-20\\\",\\\"2020-05-25\\\",\\\"2020-05-30\\\",\\\"2020-06-04\\\",\\\"2020-06-09\\\",\\\"2020-06-14\\\",\\\"2020-06-19\\\",\\\"2020-06-24\\\"]},{\\\"y\\\":[3498.0,6996.0,10389.06,20778.12,41556.24,83112.48,166224.96,332449.92,664899.84,1.32979968e6,2.65959936e6,5.31919872e6,1.063839744e7,2.127679488e7,4.255358976e7,8.510717952e7,1.7021435904e8,3.4042871808e8,6.8085743616e8,1.36171487232e9,2.72342974464e9],\\\"type\\\":\\\"scatter\\\",\\\"name\\\":\\\"Instantaneous Infections\\\",\\\"x\\\":[\\\"2020-03-16\\\",\\\"2020-03-21\\\",\\\"2020-03-26\\\",\\\"2020-03-31\\\",\\\"2020-04-05\\\",\\\"2020-04-10\\\",\\\"2020-04-15\\\",\\\"2020-04-20\\\",\\\"2020-04-25\\\",\\\"2020-04-30\\\",\\\"2020-05-05\\\",\\\"2020-05-10\\\",\\\"2020-05-15\\\",\\\"2020-05-20\\\",\\\"2020-05-25\\\",\\\"2020-05-30\\\",\\\"2020-06-04\\\",\\\"2020-06-09\\\",\\\"2020-06-14\\\",\\\"2020-06-19\\\",\\\"2020-06-24\\\"]},{\\\"y\\\":[349.8,699.6,1038.906,2077.812,4155.624,8311.248,16622.496,33244.992,66489.984,132979.968,265959.936,531919.872,1.063839744e6,2.127679488e6,4.255358976e6,8.510717952e6,1.7021435904e7,3.4042871808e7,6.8085743616e7,1.36171487232e8,2.72342974464e8],\\\"type\\\":\\\"scatter\\\",\\\"name\\\":\\\"Instantaneous Hospitalizations\\\",\\\"x\\\":[\\\"2020-03-16\\\",\\\"2020-03-21\\\",\\\"2020-03-26\\\",\\\"2020-03-31\\\",\\\"2020-04-05\\\",\\\"2020-04-10\\\",\\\"2020-04-15\\\",\\\"2020-04-20\\\",\\\"2020-04-25\\\",\\\"2020-04-30\\\",\\\"2020-05-05\\\",\\\"2020-05-10\\\",\\\"2020-05-15\\\",\\\"2020-05-20\\\",\\\"2020-05-25\\\",\\\"2020-05-30\\\",\\\"2020-06-04\\\",\\\"2020-06-09\\\",\\\"2020-06-14\\\",\\\"2020-06-19\\\",\\\"2020-06-24\\\"]}],{\\\"margin\\\":{\\\"l\\\":50,\\\"b\\\":50,\\\"r\\\":50,\\\"t\\\":60}},{}); gd.on(\\\"plotly_hover\\\",(function (data){var filtered_data=WebIO.PlotlyCommands.filterEventData(gd,data,\\\"hover\\\"); return !(filtered_data.isnil) ? (WebIO.setval({\\\"name\\\":\\\"hover\\\",\\\"scope\\\":\\\"11863270794727956792\\\",\\\"id\\\":\\\"13780153034597186395\\\",\\\"type\\\":\\\"observable\\\"},filtered_data.out)) : undefined})); gd.on(\\\"plotly_unhover\\\",(function (){return WebIO.setval({\\\"name\\\":\\\"hover\\\",\\\"scope\\\":\\\"11863270794727956792\\\",\\\"id\\\":\\\"13780153034597186395\\\",\\\"type\\\":\\\"observable\\\"},{})})); gd.on(\\\"plotly_selected\\\",(function (data){var filtered_data=WebIO.PlotlyCommands.filterEventData(gd,data,\\\"selected\\\"); return !(filtered_data.isnil) ? (WebIO.setval({\\\"name\\\":\\\"selected\\\",\\\"scope\\\":\\\"11863270794727956792\\\",\\\"id\\\":\\\"3169674450760089925\\\",\\\"type\\\":\\\"observable\\\"},filtered_data.out)) : undefined})); gd.on(\\\"plotly_deselect\\\",(function (){return WebIO.setval({\\\"name\\\":\\\"selected\\\",\\\"scope\\\":\\\"11863270794727956792\\\",\\\"id\\\":\\\"3169674450760089925\\\",\\\"type\\\":\\\"observable\\\"},{})})); gd.on(\\\"plotly_relayout\\\",(function (data){var filtered_data=WebIO.PlotlyCommands.filterEventData(gd,data,\\\"relayout\\\"); return !(filtered_data.isnil) ? (WebIO.setval({\\\"name\\\":\\\"relayout\\\",\\\"scope\\\":\\\"11863270794727956792\\\",\\\"id\\\":\\\"677092636087219573\\\",\\\"type\\\":\\\"observable\\\"},filtered_data.out)) : undefined})); return gd.on(\\\"plotly_click\\\",(function (data){var filtered_data=WebIO.PlotlyCommands.filterEventData(gd,data,\\\"click\\\"); return !(filtered_data.isnil) ? (WebIO.setval({\\\"name\\\":\\\"click\\\",\\\"scope\\\":\\\"11863270794727956792\\\",\\\"id\\\":\\\"16069719761650192032\\\",\\\"type\\\":\\\"observable\\\"},filtered_data.out)) : undefined}))}));\\n    (WebIO.importBlock({\\\"data\\\":[{\\\"name\\\":\\\"Plotly\\\",\\\"type\\\":\\\"js\\\",\\\"url\\\":\\\"\\/assetserver\\/dd499eeafffc246529ce8ce9204890d7f4da8e7b-plotly-latest.min.js\\\"},{\\\"name\\\":null,\\\"type\\\":\\\"js\\\",\\\"url\\\":\\\"\\/assetserver\\/919d5bdad3adb46aadc35f1289d4eb0a5e295e6b-plotly_webio.bundle.js\\\"}],\\\"type\\\":\\\"async_block\\\"})).then((imports) => handler.apply(this, imports));\\n}\\n\"],\"observables\":{\"_toImage\":{\"sync\":false,\"id\":\"5436527642689580352\",\"value\":{}},\"hover\":{\"sync\":false,\"id\":\"13780153034597186395\",\"value\":{}},\"selected\":{\"sync\":false,\"id\":\"3169674450760089925\",\"value\":{}},\"__gd_contents\":{\"sync\":false,\"id\":\"118993435649992321\",\"value\":{}},\"click\":{\"sync\":false,\"id\":\"16069719761650192032\",\"value\":{}},\"image\":{\"sync\":true,\"id\":\"4798517558458674191\",\"value\":\"\"},\"__get_gd_contents\":{\"sync\":false,\"id\":\"10720858898510130494\",\"value\":\"\"},\"_downloadImage\":{\"sync\":false,\"id\":\"3990172556554913461\",\"value\":{}},\"relayout\":{\"sync\":false,\"id\":\"677092636087219573\",\"value\":{}},\"_commands\":{\"sync\":false,\"id\":\"14579525589969901132\",\"value\":[]}}},\"children\":[{\"props\":{\"id\":\"plot-2b757711-deee-4462-9ee3-12b7abe27b27\"},\"nodeType\":\"DOM\",\"type\":\"node\",\"instanceArgs\":{\"namespace\":\"html\",\"tag\":\"div\"},\"children\":[]}]},\n",
       "            window,\n",
       "        );\n",
       "    } else {\n",
       "        document\n",
       "            .querySelector('[data-webio-mountpoint=\"16060701276205382439\"]')\n",
       "            .innerHTML = (\n",
       "                '<strong>WebIO not detected. Please read ' +\n",
       "                '<a href=\"https://juliagizmos.github.io/WebIO.jl/latest/troubleshooting/not-detected/\">the troubleshooting guide</a> ' +\n",
       "                'for more information on how to resolve this issue.' +\n",
       "                '</strong>'\n",
       "            );\n",
       "    }\n",
       "    </script>\n",
       "</div>\n"
      ]
     },
     "metadata": {},
     "execution_count": 9
    }
   ],
   "cell_type": "code",
   "source": [
    "plot_covid(Day(100), recent_us_cases, Day(5))"
   ],
   "metadata": {},
   "execution_count": 9
  },
  {
   "outputs": [],
   "cell_type": "markdown",
   "source": [
    "---\n",
    "\n",
    "*This notebook was generated using [Literate.jl](https://github.com/fredrikekre/Literate.jl).*"
   ],
   "metadata": {}
  }
 ],
 "nbformat_minor": 3,
 "metadata": {
  "language_info": {
   "file_extension": ".jl",
   "mimetype": "application/julia",
   "name": "julia",
   "version": "1.3.1"
  },
  "kernelspec": {
   "name": "julia-1.3",
   "display_name": "Julia 1.3.1",
   "language": "julia"
  }
 },
 "nbformat": 4
}
