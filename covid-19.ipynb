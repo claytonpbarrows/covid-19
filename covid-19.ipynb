{
 "cells": [
  {
   "outputs": [],
   "cell_type": "markdown",
   "source": [
    "# COVID-19 Analysis\n",
    "*This is a very simple estimate of COVID-19 impacts, and I don't claim to know anything other than how to produce a nice figure and do simple math*"
   ],
   "metadata": {}
  },
  {
   "outputs": [],
   "cell_type": "code",
   "source": [
    "using Dates\n",
    "using PlotlyJS\n",
    "using DataFrames\n",
    "using CSV"
   ],
   "metadata": {},
   "execution_count": null
  },
  {
   "outputs": [],
   "cell_type": "code",
   "source": [
    "function cases(days::Day, current_cases, doubling_time)\n",
    "    dbl_period = days/doubling_time\n",
    "    return current_cases * (2 ^ dbl_period)\n",
    "end"
   ],
   "metadata": {},
   "execution_count": null
  },
  {
   "outputs": [],
   "cell_type": "code",
   "source": [
    "function plot_covid(days, current_cases, doubling_time = Day(7), hosp_rate = 0.1, death_rate = 0.03)\n",
    "    td = today()\n",
    "    dates = td:doubling_time:(td+days)\n",
    "    case_count = [cases(d-td, current_cases, doubling_time) for d in dates]\n",
    "    total_cases = scatter(x = dates, y = case_count, name = \"Infections\")\n",
    "    hosp = scatter(x = dates, y = case_count.*hosp_rate, name = \"Hospitalizations\")\n",
    "    deaths = scatter(x = dates, y = case_count.*death_rate, name = \"Deaths\")\n",
    "    plot([total_cases, hosp, deaths])\n",
    "end"
   ],
   "metadata": {},
   "execution_count": null
  },
  {
   "outputs": [],
   "cell_type": "markdown",
   "source": [
    "## COVID-19 parameters\n",
    "- According to [this article](https://www.jhsph.edu/news/news-releases/2020/new-study-on-COVID-19-estimates-5-days-for-incubation-period.html), the estimated doubling time of COVID-19 is ~5 days.\n",
    "- According to [the WHO](https://www.who.int/docs/default-source/coronaviruse/situation-reports/20200306-sitrep-46-covid-19.pdf?sfvrsn=96b04adf_2), the mortality rate of COVID-19 is ~3%.\n",
    "- I don't know where the 10% hospitalization rate comes from.\n",
    "\n",
    "Let's use data from the [WHO](\"http://cowid.netlify.com/data/full_data.csv\") to get data for the whole world (including the U.S.)."
   ],
   "metadata": {}
  },
  {
   "outputs": [],
   "cell_type": "code",
   "source": [
    "who_data_url = \"http://cowid.netlify.com/data/full_data.csv\"\n",
    "who_data_file = download(who_data_url)\n",
    "who_data = DataFrame(CSV.read(who_data_file))"
   ],
   "metadata": {},
   "execution_count": null
  },
  {
   "outputs": [],
   "cell_type": "markdown",
   "source": [
    "Also, JHU has put together some more detailed data"
   ],
   "metadata": {}
  },
  {
   "outputs": [],
   "cell_type": "code",
   "source": [
    "jh_data_url = \"https://data.humdata.org/hxlproxy/api/data-preview.csv?url=https%3A%2F%2Fraw.githubusercontent.com%2FCSSEGISandData%2FCOVID-19%2Fmaster%2Fcsse_covid_19_data%2Fcsse_covid_19_time_series%2Ftime_series_19-covid-Confirmed.csv\"\n",
    "jh_data_file = download(jh_data_url)\n",
    "jh_data = DataFrame(CSV.read(jh_data_file))"
   ],
   "metadata": {},
   "execution_count": null
  },
  {
   "outputs": [],
   "cell_type": "markdown",
   "source": [
    "## Colorado\n",
    "data processing"
   ],
   "metadata": {}
  },
  {
   "outputs": [],
   "cell_type": "code",
   "source": [
    "co_data = jh_data[.!ismissing.(jh_data[!,Symbol(\"Province/State\")]) .& (jh_data[!,Symbol(\"Province/State\")].==\"Colorado\"),:]\n",
    "co_data = melt(co_data,names(co_data)[1:4],variable_name = :Date, value_name =:cases)\n",
    "co_data.Date = Date.(String.(co_data.Date),\"m/d/y\") + Year(2000)\n",
    "recent_cases = co_data[co_data.Date .== maximum(co_data.Date),:cases]"
   ],
   "metadata": {},
   "execution_count": null
  },
  {
   "outputs": [],
   "cell_type": "markdown",
   "source": [
    "Plot the colorado projection using the most recent case count"
   ],
   "metadata": {}
  },
  {
   "outputs": [],
   "cell_type": "code",
   "source": [
    "co plot_covid(Day(60), recent_cases, Day(5))"
   ],
   "metadata": {},
   "execution_count": null
  },
  {
   "outputs": [],
   "cell_type": "markdown",
   "source": [
    "## US\n",
    "data processing"
   ],
   "metadata": {}
  },
  {
   "outputs": [],
   "cell_type": "code",
   "source": [
    "us_data = jh_data[.!ismissing.(jh_data[!,Symbol(\"Country/Region\")]) .& (jh_data[!,Symbol(\"Country/Region\")].==\"US\"),:]\n",
    "us_data = us_data[.!occursin.(\",\", us_data[!,Symbol(\"Province/State\")]), :]\n",
    "us_data = melt(us_data,names(us_data)[1:4],variable_name = :Date, value_name =:cases)\n",
    "us_data.Date = Date.(String.(us_data.Date),\"m/d/y\") + Year(2000)\n",
    "us_data = aggregate(us_data[!,[:Date,:cases]], :Date, sum)\n",
    "recent_us_cases = us_data[us_data.Date .== maximum(us_data.Date),:cases_sum]"
   ],
   "metadata": {},
   "execution_count": null
  },
  {
   "outputs": [],
   "cell_type": "markdown",
   "source": [
    "Plot the US projection based on the most recent case  count"
   ],
   "metadata": {}
  },
  {
   "outputs": [],
   "cell_type": "code",
   "source": [
    "plot_covid(Day(100), recent_us_cases, Day(5))"
   ],
   "metadata": {},
   "execution_count": null
  },
  {
   "outputs": [],
   "cell_type": "markdown",
   "source": [
    "---\n",
    "\n",
    "*This notebook was generated using [Literate.jl](https://github.com/fredrikekre/Literate.jl).*"
   ],
   "metadata": {}
  }
 ],
 "nbformat_minor": 3,
 "metadata": {
  "language_info": {
   "file_extension": ".jl",
   "mimetype": "application/julia",
   "name": "julia",
   "version": "1.3.1"
  },
  "kernelspec": {
   "name": "julia-1.3",
   "display_name": "Julia 1.3.1",
   "language": "julia"
  }
 },
 "nbformat": 4
}
