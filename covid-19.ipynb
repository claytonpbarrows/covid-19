{
 "cells": [
  {
   "cell_type": "markdown",
   "metadata": {},
   "source": [
    "#  *This is a very simple estimate of COVID-19 impacts, and I don't claim to know anything other than how to produce a nice figure and do simple math*"
   ]
  },
  {
   "cell_type": "code",
   "execution_count": 1,
   "metadata": {},
   "outputs": [
    {
     "data": {
      "text/html": [
       "<script>\n",
       "// Immediately-invoked-function-expression to avoid global variables.\n",
       "(function() {\n",
       "    var warning_div = document.getElementById(\"webio-warning-17772316287167429344\");\n",
       "    var hide = function () {\n",
       "        var script = document.getElementById(\"webio-setup-3920177953639290476\");\n",
       "        var parent = script && script.parentElement;\n",
       "        var grandparent = parent && parent.parentElement;\n",
       "        if (grandparent) {\n",
       "            grandparent.style.display = \"none\";\n",
       "        }\n",
       "        warning_div.style.display = \"none\";\n",
       "    };\n",
       "    if (typeof Jupyter !== \"undefined\") {\n",
       "        console.log(\"WebIO detected Jupyter notebook environment.\");\n",
       "        // Jupyter notebook.\n",
       "        var extensions = (\n",
       "            Jupyter\n",
       "            && Jupyter.notebook.config.data\n",
       "            && Jupyter.notebook.config.data.load_extensions\n",
       "        );\n",
       "        if (extensions && extensions[\"webio-jupyter-notebook\"]) {\n",
       "            // Extension already loaded.\n",
       "            console.log(\"Jupyter WebIO nbextension detected; not loading ad-hoc.\");\n",
       "            hide();\n",
       "            return;\n",
       "        }\n",
       "    } else if (window.location.pathname.includes(\"/lab\")) {\n",
       "        // Guessing JupyterLa\n",
       "        console.log(\"Jupyter Lab detected; make sure the @webio/jupyter-lab-provider labextension is installed.\");\n",
       "        hide();\n",
       "        return;\n",
       "    }\n",
       "})();\n",
       "\n",
       "</script>\n",
       "<p\n",
       "    id=\"webio-warning-17772316287167429344\"\n",
       "    class=\"output_text output_stderr\"\n",
       "    style=\"padding: 1em; font-weight: bold;\"\n",
       ">\n",
       "    Unable to load WebIO. Please make sure WebIO works for your Jupyter client.\n",
       "    For troubleshooting, please see <a href=\"https://juliagizmos.github.io/WebIO.jl/latest/providers/ijulia/\">\n",
       "    the WebIO/IJulia documentation</a>.\n",
       "    <!-- TODO: link to installation docs. -->\n",
       "</p>\n"
      ],
      "text/plain": [
       "HTML{String}(\"<script>\\n// Immediately-invoked-function-expression to avoid global variables.\\n(function() {\\n    var warning_div = document.getElementById(\\\"webio-warning-17772316287167429344\\\");\\n    var hide = function () {\\n        var script = document.getElementById(\\\"webio-setup-3920177953639290476\\\");\\n        var parent = script && script.parentElement;\\n        var grandparent = parent && parent.parentElement;\\n        if (grandparent) {\\n            grandparent.style.display = \\\"none\\\";\\n        }\\n        warning_div.style.display = \\\"none\\\";\\n    };\\n    if (typeof Jupyter !== \\\"undefined\\\") {\\n        console.log(\\\"WebIO detected Jupyter notebook environment.\\\");\\n        // Jupyter notebook.\\n        var extensions = (\\n            Jupyter\\n            && Jupyter.notebook.config.data\\n            && Jupyter.notebook.config.data.load_extensions\\n        );\\n        if (extensions && extensions[\\\"webio-jupyter-notebook\\\"]) {\\n            // Extension already loaded.\\n            console.log(\\\"Jupyter WebIO nbextension detected; not loading ad-hoc.\\\");\\n            hide();\\n            return;\\n        }\\n    } else if (window.location.pathname.includes(\\\"/lab\\\")) {\\n        // Guessing JupyterLa\\n        console.log(\\\"Jupyter Lab detected; make sure the @webio/jupyter-lab-provider labextension is installed.\\\");\\n        hide();\\n        return;\\n    }\\n})();\\n\\n</script>\\n<p\\n    id=\\\"webio-warning-17772316287167429344\\\"\\n    class=\\\"output_text output_stderr\\\"\\n    style=\\\"padding: 1em; font-weight: bold;\\\"\\n>\\n    Unable to load WebIO. Please make sure WebIO works for your Jupyter client.\\n    For troubleshooting, please see <a href=\\\"https://juliagizmos.github.io/WebIO.jl/latest/providers/ijulia/\\\">\\n    the WebIO/IJulia documentation</a>.\\n    <!-- TODO: link to installation docs. -->\\n</p>\\n\")"
      ]
     },
     "metadata": {},
     "output_type": "display_data"
    }
   ],
   "source": [
    "using Dates\n",
    "using PlotlyJS"
   ]
  },
  {
   "cell_type": "code",
   "execution_count": 2,
   "metadata": {},
   "outputs": [
    {
     "data": {
      "text/plain": [
       "cases (generic function with 1 method)"
      ]
     },
     "execution_count": 2,
     "metadata": {},
     "output_type": "execute_result"
    }
   ],
   "source": [
    "function cases(days::Day, current_cases, doubling_time)\n",
    "    dbl_period = days/doubling_time\n",
    "    return current_cases * (2 ^ dbl_period)\n",
    "end"
   ]
  },
  {
   "cell_type": "code",
   "execution_count": 18,
   "metadata": {},
   "outputs": [
    {
     "data": {
      "text/plain": [
       "plot_covid (generic function with 4 methods)"
      ]
     },
     "execution_count": 18,
     "metadata": {},
     "output_type": "execute_result"
    }
   ],
   "source": [
    "function plot_covid(days, current_cases, doubling_time = Day(7), hosp_rate = 0.1, death_rate = 0.03)\n",
    "    td = today()\n",
    "    dates = td:doubling_time:(td+days)\n",
    "    case_count = [cases(d-td, current_cases, doubling_time) for d in dates]\n",
    "    total_cases = scatter(x = dates, y = case_count, name = \"Infections\")\n",
    "    hosp = scatter(x = dates, y = case_count.*hosp_rate, name = \"Hospitalizations\")\n",
    "    deaths = scatter(x = dates, y = case_count.*death_rate, name = \"Deaths\")\n",
    "    plot([total_cases, hosp, deaths])\n",
    "end"
   ]
  },
  {
   "cell_type": "markdown",
   "metadata": {},
   "source": [
    "## COVID-19 parameters\n",
    " - According to [this article](https://wwwnc.cdc.gov/eid/article/26/5/20-0146_article), the estimated doubling time of COVID-19 is ~7 days.\n",
    " - According to [the WHO](https://www.who.int/docs/default-source/coronaviruse/situation-reports/20200306-sitrep-46-covid-19.pdf?sfvrsn=96b04adf_2), the mortality rate of COVID-19 is ~3%.\n",
    " - I don't know where the 10% hospitalization rate comes from.\n"
   ]
  },
  {
   "cell_type": "markdown",
   "metadata": {},
   "source": [
    "## Colorado\n",
    "According to [CDPHE](https://docs.google.com/document/d/e/2PACX-1vRSxDeeJEaDxir0cCd9Sfji8ZPKzNaCPZnvRCbG63Oa1ztz4B4r7xG_wsoC9ucd_ei3--Pz7UD50yQD/pub) there are currently 44 positive cases in Colorado"
   ]
  },
  {
   "cell_type": "code",
   "execution_count": 26,
   "metadata": {},
   "outputs": [
    {
     "data": {
      "application/vnd.plotly.v1+json": {
       "data": [
        {
         "name": "Infections",
         "type": "scatter",
         "x": [
          "2020-03-12",
          "2020-03-19",
          "2020-03-26",
          "2020-04-02",
          "2020-04-09",
          "2020-04-16",
          "2020-04-23",
          "2020-04-30",
          "2020-05-07"
         ],
         "y": [
          44,
          88,
          176,
          352,
          704,
          1408,
          2816,
          5632,
          11264
         ]
        },
        {
         "name": "Hospitalizations",
         "type": "scatter",
         "x": [
          "2020-03-12",
          "2020-03-19",
          "2020-03-26",
          "2020-04-02",
          "2020-04-09",
          "2020-04-16",
          "2020-04-23",
          "2020-04-30",
          "2020-05-07"
         ],
         "y": [
          4.4,
          8.8,
          17.6,
          35.2,
          70.4,
          140.8,
          281.6,
          563.2,
          1126.4
         ]
        },
        {
         "name": "Deaths",
         "type": "scatter",
         "x": [
          "2020-03-12",
          "2020-03-19",
          "2020-03-26",
          "2020-04-02",
          "2020-04-09",
          "2020-04-16",
          "2020-04-23",
          "2020-04-30",
          "2020-05-07"
         ],
         "y": [
          1.3199999999999998,
          2.6399999999999997,
          5.279999999999999,
          10.559999999999999,
          21.119999999999997,
          42.239999999999995,
          84.47999999999999,
          168.95999999999998,
          337.91999999999996
         ]
        }
       ],
       "layout": {
        "margin": {
         "b": 50,
         "l": 50,
         "r": 50,
         "t": 60
        }
       }
      },
      "application/vnd.webio.node+json": {
       "children": [
        {
         "children": [],
         "instanceArgs": {
          "namespace": "html",
          "tag": "div"
         },
         "nodeType": "DOM",
         "props": {
          "id": "plot-6b979c5a-3e6a-44d8-bff8-dfe7b473ac49"
         },
         "type": "node"
        }
       ],
       "instanceArgs": {
        "handlers": {
         "__get_gd_contents": [
          "(function (prop){prop==\"data\" ? (WebIO.setval({\"name\":\"__gd_contents\",\"scope\":\"3716806478187256680\",\"id\":\"6100062773616941158\",\"type\":\"observable\"},this.plotElem.data)) : undefined; return prop==\"layout\" ? (WebIO.setval({\"name\":\"__gd_contents\",\"scope\":\"3716806478187256680\",\"id\":\"6100062773616941158\",\"type\":\"observable\"},this.plotElem.layout)) : undefined})"
         ],
         "_commands": [
          "(function (args){var fn=args.shift(); var elem=this.plotElem; var Plotly=this.Plotly; args.unshift(elem); return Plotly[fn].apply(this,args)})"
         ],
         "_downloadImage": [
          "(function (options){return this.Plotly.downloadImage(this.plotElem,options)})"
         ],
         "_toImage": [
          "(function (options){return this.Plotly.toImage(this.plotElem,options).then((function (data){return WebIO.setval({\"name\":\"image\",\"scope\":\"3716806478187256680\",\"id\":\"13911563829941478354\",\"type\":\"observable\"},data)}))})"
         ]
        },
        "id": "3716806478187256680",
        "imports": {
         "data": [
          {
           "name": "Plotly",
           "type": "js",
           "url": "/assetserver/dd499eeafffc246529ce8ce9204890d7f4da8e7b-plotly-latest.min.js"
          },
          {
           "name": null,
           "type": "js",
           "url": "/assetserver/919d5bdad3adb46aadc35f1289d4eb0a5e295e6b-plotly_webio.bundle.js"
          }
         ],
         "type": "async_block"
        },
        "mount_callbacks": [
         "function () {\n    var handler = ((function (Plotly,PlotlyWebIO){PlotlyWebIO.init(WebIO); var gd=this.dom.querySelector(\"#plot-6b979c5a-3e6a-44d8-bff8-dfe7b473ac49\"); this.plotElem=gd; this.Plotly=Plotly; (window.Blink!==undefined) ? (gd.style.width=\"100%\", gd.style.height=\"100vh\", gd.style.marginLeft=\"0%\", gd.style.marginTop=\"0vh\") : undefined; window.onresize=(function (){return Plotly.Plots.resize(gd)}); Plotly.newPlot(gd,[{\"y\":[44.0,88.0,176.0,352.0,704.0,1408.0,2816.0,5632.0,11264.0],\"type\":\"scatter\",\"name\":\"Infections\",\"x\":[\"2020-03-12\",\"2020-03-19\",\"2020-03-26\",\"2020-04-02\",\"2020-04-09\",\"2020-04-16\",\"2020-04-23\",\"2020-04-30\",\"2020-05-07\"]},{\"y\":[4.4,8.8,17.6,35.2,70.4,140.8,281.6,563.2,1126.4],\"type\":\"scatter\",\"name\":\"Hospitalizations\",\"x\":[\"2020-03-12\",\"2020-03-19\",\"2020-03-26\",\"2020-04-02\",\"2020-04-09\",\"2020-04-16\",\"2020-04-23\",\"2020-04-30\",\"2020-05-07\"]},{\"y\":[1.3199999999999998,2.6399999999999997,5.279999999999999,10.559999999999999,21.119999999999997,42.239999999999995,84.47999999999999,168.95999999999998,337.91999999999996],\"type\":\"scatter\",\"name\":\"Deaths\",\"x\":[\"2020-03-12\",\"2020-03-19\",\"2020-03-26\",\"2020-04-02\",\"2020-04-09\",\"2020-04-16\",\"2020-04-23\",\"2020-04-30\",\"2020-05-07\"]}],{\"margin\":{\"l\":50,\"b\":50,\"r\":50,\"t\":60}},{}); gd.on(\"plotly_hover\",(function (data){var filtered_data=WebIO.PlotlyCommands.filterEventData(gd,data,\"hover\"); return !(filtered_data.isnil) ? (WebIO.setval({\"name\":\"hover\",\"scope\":\"3716806478187256680\",\"id\":\"68330553515678545\",\"type\":\"observable\"},filtered_data.out)) : undefined})); gd.on(\"plotly_unhover\",(function (){return WebIO.setval({\"name\":\"hover\",\"scope\":\"3716806478187256680\",\"id\":\"68330553515678545\",\"type\":\"observable\"},{})})); gd.on(\"plotly_selected\",(function (data){var filtered_data=WebIO.PlotlyCommands.filterEventData(gd,data,\"selected\"); return !(filtered_data.isnil) ? (WebIO.setval({\"name\":\"selected\",\"scope\":\"3716806478187256680\",\"id\":\"9984473153316189907\",\"type\":\"observable\"},filtered_data.out)) : undefined})); gd.on(\"plotly_deselect\",(function (){return WebIO.setval({\"name\":\"selected\",\"scope\":\"3716806478187256680\",\"id\":\"9984473153316189907\",\"type\":\"observable\"},{})})); gd.on(\"plotly_relayout\",(function (data){var filtered_data=WebIO.PlotlyCommands.filterEventData(gd,data,\"relayout\"); return !(filtered_data.isnil) ? (WebIO.setval({\"name\":\"relayout\",\"scope\":\"3716806478187256680\",\"id\":\"514905617333263324\",\"type\":\"observable\"},filtered_data.out)) : undefined})); return gd.on(\"plotly_click\",(function (data){var filtered_data=WebIO.PlotlyCommands.filterEventData(gd,data,\"click\"); return !(filtered_data.isnil) ? (WebIO.setval({\"name\":\"click\",\"scope\":\"3716806478187256680\",\"id\":\"8405283462470245875\",\"type\":\"observable\"},filtered_data.out)) : undefined}))}));\n    (WebIO.importBlock({\"data\":[{\"name\":\"Plotly\",\"type\":\"js\",\"url\":\"/assetserver/dd499eeafffc246529ce8ce9204890d7f4da8e7b-plotly-latest.min.js\"},{\"name\":null,\"type\":\"js\",\"url\":\"/assetserver/919d5bdad3adb46aadc35f1289d4eb0a5e295e6b-plotly_webio.bundle.js\"}],\"type\":\"async_block\"})).then((imports) => handler.apply(this, imports));\n}\n"
        ],
        "observables": {
         "__gd_contents": {
          "id": "6100062773616941158",
          "sync": false,
          "value": {}
         },
         "__get_gd_contents": {
          "id": "10467491300272635163",
          "sync": false,
          "value": ""
         },
         "_commands": {
          "id": "16219733735399366207",
          "sync": false,
          "value": []
         },
         "_downloadImage": {
          "id": "6963688469266955403",
          "sync": false,
          "value": {}
         },
         "_toImage": {
          "id": "17462521944435503148",
          "sync": false,
          "value": {}
         },
         "click": {
          "id": "8405283462470245875",
          "sync": false,
          "value": {}
         },
         "hover": {
          "id": "68330553515678545",
          "sync": false,
          "value": {}
         },
         "image": {
          "id": "13911563829941478354",
          "sync": true,
          "value": ""
         },
         "relayout": {
          "id": "514905617333263324",
          "sync": false,
          "value": {}
         },
         "selected": {
          "id": "9984473153316189907",
          "sync": false,
          "value": {}
         }
        },
        "systemjs_options": null
       },
       "nodeType": "Scope",
       "props": {},
       "type": "node"
      },
      "text/html": [
       "<div\n",
       "    class=\"webio-mountpoint\"\n",
       "    data-webio-mountpoint=\"9305598581103698891\"\n",
       ">\n",
       "    <script>\n",
       "    if (window.require && require.defined && require.defined(\"nbextensions/webio-jupyter-notebook\")) {\n",
       "        console.log(\"Jupyter WebIO extension detected, not mounting.\");\n",
       "    } else if (window.WebIO) {\n",
       "        WebIO.mount(\n",
       "            document.querySelector('[data-webio-mountpoint=\"9305598581103698891\"]'),\n",
       "            {\"props\":{},\"nodeType\":\"Scope\",\"type\":\"node\",\"instanceArgs\":{\"imports\":{\"data\":[{\"name\":\"Plotly\",\"type\":\"js\",\"url\":\"\\/assetserver\\/dd499eeafffc246529ce8ce9204890d7f4da8e7b-plotly-latest.min.js\"},{\"name\":null,\"type\":\"js\",\"url\":\"\\/assetserver\\/919d5bdad3adb46aadc35f1289d4eb0a5e295e6b-plotly_webio.bundle.js\"}],\"type\":\"async_block\"},\"id\":\"3716806478187256680\",\"handlers\":{\"_toImage\":[\"(function (options){return this.Plotly.toImage(this.plotElem,options).then((function (data){return WebIO.setval({\\\"name\\\":\\\"image\\\",\\\"scope\\\":\\\"3716806478187256680\\\",\\\"id\\\":\\\"13911563829941478354\\\",\\\"type\\\":\\\"observable\\\"},data)}))})\"],\"__get_gd_contents\":[\"(function (prop){prop==\\\"data\\\" ? (WebIO.setval({\\\"name\\\":\\\"__gd_contents\\\",\\\"scope\\\":\\\"3716806478187256680\\\",\\\"id\\\":\\\"6100062773616941158\\\",\\\"type\\\":\\\"observable\\\"},this.plotElem.data)) : undefined; return prop==\\\"layout\\\" ? (WebIO.setval({\\\"name\\\":\\\"__gd_contents\\\",\\\"scope\\\":\\\"3716806478187256680\\\",\\\"id\\\":\\\"6100062773616941158\\\",\\\"type\\\":\\\"observable\\\"},this.plotElem.layout)) : undefined})\"],\"_downloadImage\":[\"(function (options){return this.Plotly.downloadImage(this.plotElem,options)})\"],\"_commands\":[\"(function (args){var fn=args.shift(); var elem=this.plotElem; var Plotly=this.Plotly; args.unshift(elem); return Plotly[fn].apply(this,args)})\"]},\"systemjs_options\":null,\"mount_callbacks\":[\"function () {\\n    var handler = ((function (Plotly,PlotlyWebIO){PlotlyWebIO.init(WebIO); var gd=this.dom.querySelector(\\\"#plot-6b979c5a-3e6a-44d8-bff8-dfe7b473ac49\\\"); this.plotElem=gd; this.Plotly=Plotly; (window.Blink!==undefined) ? (gd.style.width=\\\"100%\\\", gd.style.height=\\\"100vh\\\", gd.style.marginLeft=\\\"0%\\\", gd.style.marginTop=\\\"0vh\\\") : undefined; window.onresize=(function (){return Plotly.Plots.resize(gd)}); Plotly.newPlot(gd,[{\\\"y\\\":[44.0,88.0,176.0,352.0,704.0,1408.0,2816.0,5632.0,11264.0],\\\"type\\\":\\\"scatter\\\",\\\"name\\\":\\\"Infections\\\",\\\"x\\\":[\\\"2020-03-12\\\",\\\"2020-03-19\\\",\\\"2020-03-26\\\",\\\"2020-04-02\\\",\\\"2020-04-09\\\",\\\"2020-04-16\\\",\\\"2020-04-23\\\",\\\"2020-04-30\\\",\\\"2020-05-07\\\"]},{\\\"y\\\":[4.4,8.8,17.6,35.2,70.4,140.8,281.6,563.2,1126.4],\\\"type\\\":\\\"scatter\\\",\\\"name\\\":\\\"Hospitalizations\\\",\\\"x\\\":[\\\"2020-03-12\\\",\\\"2020-03-19\\\",\\\"2020-03-26\\\",\\\"2020-04-02\\\",\\\"2020-04-09\\\",\\\"2020-04-16\\\",\\\"2020-04-23\\\",\\\"2020-04-30\\\",\\\"2020-05-07\\\"]},{\\\"y\\\":[1.3199999999999998,2.6399999999999997,5.279999999999999,10.559999999999999,21.119999999999997,42.239999999999995,84.47999999999999,168.95999999999998,337.91999999999996],\\\"type\\\":\\\"scatter\\\",\\\"name\\\":\\\"Deaths\\\",\\\"x\\\":[\\\"2020-03-12\\\",\\\"2020-03-19\\\",\\\"2020-03-26\\\",\\\"2020-04-02\\\",\\\"2020-04-09\\\",\\\"2020-04-16\\\",\\\"2020-04-23\\\",\\\"2020-04-30\\\",\\\"2020-05-07\\\"]}],{\\\"margin\\\":{\\\"l\\\":50,\\\"b\\\":50,\\\"r\\\":50,\\\"t\\\":60}},{}); gd.on(\\\"plotly_hover\\\",(function (data){var filtered_data=WebIO.PlotlyCommands.filterEventData(gd,data,\\\"hover\\\"); return !(filtered_data.isnil) ? (WebIO.setval({\\\"name\\\":\\\"hover\\\",\\\"scope\\\":\\\"3716806478187256680\\\",\\\"id\\\":\\\"68330553515678545\\\",\\\"type\\\":\\\"observable\\\"},filtered_data.out)) : undefined})); gd.on(\\\"plotly_unhover\\\",(function (){return WebIO.setval({\\\"name\\\":\\\"hover\\\",\\\"scope\\\":\\\"3716806478187256680\\\",\\\"id\\\":\\\"68330553515678545\\\",\\\"type\\\":\\\"observable\\\"},{})})); gd.on(\\\"plotly_selected\\\",(function (data){var filtered_data=WebIO.PlotlyCommands.filterEventData(gd,data,\\\"selected\\\"); return !(filtered_data.isnil) ? (WebIO.setval({\\\"name\\\":\\\"selected\\\",\\\"scope\\\":\\\"3716806478187256680\\\",\\\"id\\\":\\\"9984473153316189907\\\",\\\"type\\\":\\\"observable\\\"},filtered_data.out)) : undefined})); gd.on(\\\"plotly_deselect\\\",(function (){return WebIO.setval({\\\"name\\\":\\\"selected\\\",\\\"scope\\\":\\\"3716806478187256680\\\",\\\"id\\\":\\\"9984473153316189907\\\",\\\"type\\\":\\\"observable\\\"},{})})); gd.on(\\\"plotly_relayout\\\",(function (data){var filtered_data=WebIO.PlotlyCommands.filterEventData(gd,data,\\\"relayout\\\"); return !(filtered_data.isnil) ? (WebIO.setval({\\\"name\\\":\\\"relayout\\\",\\\"scope\\\":\\\"3716806478187256680\\\",\\\"id\\\":\\\"514905617333263324\\\",\\\"type\\\":\\\"observable\\\"},filtered_data.out)) : undefined})); return gd.on(\\\"plotly_click\\\",(function (data){var filtered_data=WebIO.PlotlyCommands.filterEventData(gd,data,\\\"click\\\"); return !(filtered_data.isnil) ? (WebIO.setval({\\\"name\\\":\\\"click\\\",\\\"scope\\\":\\\"3716806478187256680\\\",\\\"id\\\":\\\"8405283462470245875\\\",\\\"type\\\":\\\"observable\\\"},filtered_data.out)) : undefined}))}));\\n    (WebIO.importBlock({\\\"data\\\":[{\\\"name\\\":\\\"Plotly\\\",\\\"type\\\":\\\"js\\\",\\\"url\\\":\\\"\\/assetserver\\/dd499eeafffc246529ce8ce9204890d7f4da8e7b-plotly-latest.min.js\\\"},{\\\"name\\\":null,\\\"type\\\":\\\"js\\\",\\\"url\\\":\\\"\\/assetserver\\/919d5bdad3adb46aadc35f1289d4eb0a5e295e6b-plotly_webio.bundle.js\\\"}],\\\"type\\\":\\\"async_block\\\"})).then((imports) => handler.apply(this, imports));\\n}\\n\"],\"observables\":{\"_toImage\":{\"sync\":false,\"id\":\"17462521944435503148\",\"value\":{}},\"hover\":{\"sync\":false,\"id\":\"68330553515678545\",\"value\":{}},\"selected\":{\"sync\":false,\"id\":\"9984473153316189907\",\"value\":{}},\"__gd_contents\":{\"sync\":false,\"id\":\"6100062773616941158\",\"value\":{}},\"click\":{\"sync\":false,\"id\":\"8405283462470245875\",\"value\":{}},\"image\":{\"sync\":true,\"id\":\"13911563829941478354\",\"value\":\"\"},\"__get_gd_contents\":{\"sync\":false,\"id\":\"10467491300272635163\",\"value\":\"\"},\"_downloadImage\":{\"sync\":false,\"id\":\"6963688469266955403\",\"value\":{}},\"relayout\":{\"sync\":false,\"id\":\"514905617333263324\",\"value\":{}},\"_commands\":{\"sync\":false,\"id\":\"16219733735399366207\",\"value\":[]}}},\"children\":[{\"props\":{\"id\":\"plot-6b979c5a-3e6a-44d8-bff8-dfe7b473ac49\"},\"nodeType\":\"DOM\",\"type\":\"node\",\"instanceArgs\":{\"namespace\":\"html\",\"tag\":\"div\"},\"children\":[]}]},\n",
       "            window,\n",
       "        );\n",
       "    } else {\n",
       "        document\n",
       "            .querySelector('[data-webio-mountpoint=\"9305598581103698891\"]')\n",
       "            .innerHTML = (\n",
       "                '<strong>WebIO not detected. Please read ' +\n",
       "                '<a href=\"https://juliagizmos.github.io/WebIO.jl/latest/troubleshooting/not-detected/\">the troubleshooting guide</a> ' +\n",
       "                'for more information on how to resolve this issue.' +\n",
       "                '</strong>'\n",
       "            );\n",
       "    }\n",
       "    </script>\n",
       "</div>\n"
      ],
      "text/plain": [
       "data: [\n",
       "  \"scatter with fields name, type, x, and y\",\n",
       "  \"scatter with fields name, type, x, and y\",\n",
       "  \"scatter with fields name, type, x, and y\"\n",
       "]\n",
       "\n",
       "layout: \"layout with field margin\"\n",
       "\n"
      ]
     },
     "execution_count": 26,
     "metadata": {
      "application/vnd.webio.node+json": {
       "kernelId": "6477c83b-daeb-4041-abad-b0dd9f047179"
      }
     },
     "output_type": "execute_result"
    }
   ],
   "source": [
    "co = plot_covid(Day(60), 44)"
   ]
  },
  {
   "cell_type": "code",
   "execution_count": 27,
   "metadata": {},
   "outputs": [],
   "source": [
    "savefig(co, \"CO.html\")"
   ]
  },
  {
   "cell_type": "markdown",
   "metadata": {},
   "source": [
    "## US\n",
    "According to the [CDC](https://www.cdc.gov/coronavirus/2019-ncov/cases-in-us.html) there are currently 1219 cases in the US."
   ]
  },
  {
   "cell_type": "code",
   "execution_count": 28,
   "metadata": {},
   "outputs": [
    {
     "data": {
      "application/vnd.plotly.v1+json": {
       "data": [
        {
         "name": "Infections",
         "type": "scatter",
         "x": [
          "2020-03-12",
          "2020-03-19",
          "2020-03-26",
          "2020-04-02",
          "2020-04-09",
          "2020-04-16",
          "2020-04-23",
          "2020-04-30",
          "2020-05-07",
          "2020-05-14",
          "2020-05-21",
          "2020-05-28",
          "2020-06-04",
          "2020-06-11",
          "2020-06-18"
         ],
         "y": [
          1219,
          2438,
          4876,
          9752,
          19504,
          39008,
          78016,
          156032,
          312064,
          624128,
          1248256,
          2496512,
          4993024,
          9986048,
          19972096
         ]
        },
        {
         "name": "Hospitalizations",
         "type": "scatter",
         "x": [
          "2020-03-12",
          "2020-03-19",
          "2020-03-26",
          "2020-04-02",
          "2020-04-09",
          "2020-04-16",
          "2020-04-23",
          "2020-04-30",
          "2020-05-07",
          "2020-05-14",
          "2020-05-21",
          "2020-05-28",
          "2020-06-04",
          "2020-06-11",
          "2020-06-18"
         ],
         "y": [
          121.9,
          243.8,
          487.6,
          975.2,
          1950.4,
          3900.8,
          7801.6,
          15603.2,
          31206.4,
          62412.8,
          124825.6,
          249651.2,
          499302.4,
          998604.8,
          1997209.6
         ]
        },
        {
         "name": "Deaths",
         "type": "scatter",
         "x": [
          "2020-03-12",
          "2020-03-19",
          "2020-03-26",
          "2020-04-02",
          "2020-04-09",
          "2020-04-16",
          "2020-04-23",
          "2020-04-30",
          "2020-05-07",
          "2020-05-14",
          "2020-05-21",
          "2020-05-28",
          "2020-06-04",
          "2020-06-11",
          "2020-06-18"
         ],
         "y": [
          36.57,
          73.14,
          146.28,
          292.56,
          585.12,
          1170.24,
          2340.48,
          4680.96,
          9361.92,
          18723.84,
          37447.68,
          74895.36,
          149790.72,
          299581.44,
          599162.88
         ]
        }
       ],
       "layout": {
        "margin": {
         "b": 50,
         "l": 50,
         "r": 50,
         "t": 60
        }
       }
      },
      "application/vnd.webio.node+json": {
       "children": [
        {
         "children": [],
         "instanceArgs": {
          "namespace": "html",
          "tag": "div"
         },
         "nodeType": "DOM",
         "props": {
          "id": "plot-d8a6b0c2-eb90-4648-acdc-032929121403"
         },
         "type": "node"
        }
       ],
       "instanceArgs": {
        "handlers": {
         "__get_gd_contents": [
          "(function (prop){prop==\"data\" ? (WebIO.setval({\"name\":\"__gd_contents\",\"scope\":\"15555429352416284997\",\"id\":\"11375369873642913560\",\"type\":\"observable\"},this.plotElem.data)) : undefined; return prop==\"layout\" ? (WebIO.setval({\"name\":\"__gd_contents\",\"scope\":\"15555429352416284997\",\"id\":\"11375369873642913560\",\"type\":\"observable\"},this.plotElem.layout)) : undefined})"
         ],
         "_commands": [
          "(function (args){var fn=args.shift(); var elem=this.plotElem; var Plotly=this.Plotly; args.unshift(elem); return Plotly[fn].apply(this,args)})"
         ],
         "_downloadImage": [
          "(function (options){return this.Plotly.downloadImage(this.plotElem,options)})"
         ],
         "_toImage": [
          "(function (options){return this.Plotly.toImage(this.plotElem,options).then((function (data){return WebIO.setval({\"name\":\"image\",\"scope\":\"15555429352416284997\",\"id\":\"5908046489504638616\",\"type\":\"observable\"},data)}))})"
         ]
        },
        "id": "15555429352416284997",
        "imports": {
         "data": [
          {
           "name": "Plotly",
           "type": "js",
           "url": "/assetserver/dd499eeafffc246529ce8ce9204890d7f4da8e7b-plotly-latest.min.js"
          },
          {
           "name": null,
           "type": "js",
           "url": "/assetserver/919d5bdad3adb46aadc35f1289d4eb0a5e295e6b-plotly_webio.bundle.js"
          }
         ],
         "type": "async_block"
        },
        "mount_callbacks": [
         "function () {\n    var handler = ((function (Plotly,PlotlyWebIO){PlotlyWebIO.init(WebIO); var gd=this.dom.querySelector(\"#plot-d8a6b0c2-eb90-4648-acdc-032929121403\"); this.plotElem=gd; this.Plotly=Plotly; (window.Blink!==undefined) ? (gd.style.width=\"100%\", gd.style.height=\"100vh\", gd.style.marginLeft=\"0%\", gd.style.marginTop=\"0vh\") : undefined; window.onresize=(function (){return Plotly.Plots.resize(gd)}); Plotly.newPlot(gd,[{\"y\":[1219.0,2438.0,4876.0,9752.0,19504.0,39008.0,78016.0,156032.0,312064.0,624128.0,1.248256e6,2.496512e6,4.993024e6,9.986048e6,1.9972096e7],\"type\":\"scatter\",\"name\":\"Infections\",\"x\":[\"2020-03-12\",\"2020-03-19\",\"2020-03-26\",\"2020-04-02\",\"2020-04-09\",\"2020-04-16\",\"2020-04-23\",\"2020-04-30\",\"2020-05-07\",\"2020-05-14\",\"2020-05-21\",\"2020-05-28\",\"2020-06-04\",\"2020-06-11\",\"2020-06-18\"]},{\"y\":[121.9,243.8,487.6,975.2,1950.4,3900.8,7801.6,15603.2,31206.4,62412.8,124825.6,249651.2,499302.4,998604.8,1.9972096e6],\"type\":\"scatter\",\"name\":\"Hospitalizations\",\"x\":[\"2020-03-12\",\"2020-03-19\",\"2020-03-26\",\"2020-04-02\",\"2020-04-09\",\"2020-04-16\",\"2020-04-23\",\"2020-04-30\",\"2020-05-07\",\"2020-05-14\",\"2020-05-21\",\"2020-05-28\",\"2020-06-04\",\"2020-06-11\",\"2020-06-18\"]},{\"y\":[36.57,73.14,146.28,292.56,585.12,1170.24,2340.48,4680.96,9361.92,18723.84,37447.68,74895.36,149790.72,299581.44,599162.88],\"type\":\"scatter\",\"name\":\"Deaths\",\"x\":[\"2020-03-12\",\"2020-03-19\",\"2020-03-26\",\"2020-04-02\",\"2020-04-09\",\"2020-04-16\",\"2020-04-23\",\"2020-04-30\",\"2020-05-07\",\"2020-05-14\",\"2020-05-21\",\"2020-05-28\",\"2020-06-04\",\"2020-06-11\",\"2020-06-18\"]}],{\"margin\":{\"l\":50,\"b\":50,\"r\":50,\"t\":60}},{}); gd.on(\"plotly_hover\",(function (data){var filtered_data=WebIO.PlotlyCommands.filterEventData(gd,data,\"hover\"); return !(filtered_data.isnil) ? (WebIO.setval({\"name\":\"hover\",\"scope\":\"15555429352416284997\",\"id\":\"5631471554953850588\",\"type\":\"observable\"},filtered_data.out)) : undefined})); gd.on(\"plotly_unhover\",(function (){return WebIO.setval({\"name\":\"hover\",\"scope\":\"15555429352416284997\",\"id\":\"5631471554953850588\",\"type\":\"observable\"},{})})); gd.on(\"plotly_selected\",(function (data){var filtered_data=WebIO.PlotlyCommands.filterEventData(gd,data,\"selected\"); return !(filtered_data.isnil) ? (WebIO.setval({\"name\":\"selected\",\"scope\":\"15555429352416284997\",\"id\":\"10593096749167159478\",\"type\":\"observable\"},filtered_data.out)) : undefined})); gd.on(\"plotly_deselect\",(function (){return WebIO.setval({\"name\":\"selected\",\"scope\":\"15555429352416284997\",\"id\":\"10593096749167159478\",\"type\":\"observable\"},{})})); gd.on(\"plotly_relayout\",(function (data){var filtered_data=WebIO.PlotlyCommands.filterEventData(gd,data,\"relayout\"); return !(filtered_data.isnil) ? (WebIO.setval({\"name\":\"relayout\",\"scope\":\"15555429352416284997\",\"id\":\"3463493518156186101\",\"type\":\"observable\"},filtered_data.out)) : undefined})); return gd.on(\"plotly_click\",(function (data){var filtered_data=WebIO.PlotlyCommands.filterEventData(gd,data,\"click\"); return !(filtered_data.isnil) ? (WebIO.setval({\"name\":\"click\",\"scope\":\"15555429352416284997\",\"id\":\"17562689019281018725\",\"type\":\"observable\"},filtered_data.out)) : undefined}))}));\n    (WebIO.importBlock({\"data\":[{\"name\":\"Plotly\",\"type\":\"js\",\"url\":\"/assetserver/dd499eeafffc246529ce8ce9204890d7f4da8e7b-plotly-latest.min.js\"},{\"name\":null,\"type\":\"js\",\"url\":\"/assetserver/919d5bdad3adb46aadc35f1289d4eb0a5e295e6b-plotly_webio.bundle.js\"}],\"type\":\"async_block\"})).then((imports) => handler.apply(this, imports));\n}\n"
        ],
        "observables": {
         "__gd_contents": {
          "id": "11375369873642913560",
          "sync": false,
          "value": {}
         },
         "__get_gd_contents": {
          "id": "5560465592215215056",
          "sync": false,
          "value": ""
         },
         "_commands": {
          "id": "16366154902217435580",
          "sync": false,
          "value": []
         },
         "_downloadImage": {
          "id": "921950512952539158",
          "sync": false,
          "value": {}
         },
         "_toImage": {
          "id": "9987345511476360837",
          "sync": false,
          "value": {}
         },
         "click": {
          "id": "17562689019281018725",
          "sync": false,
          "value": {}
         },
         "hover": {
          "id": "5631471554953850588",
          "sync": false,
          "value": {}
         },
         "image": {
          "id": "5908046489504638616",
          "sync": true,
          "value": ""
         },
         "relayout": {
          "id": "3463493518156186101",
          "sync": false,
          "value": {}
         },
         "selected": {
          "id": "10593096749167159478",
          "sync": false,
          "value": {}
         }
        },
        "systemjs_options": null
       },
       "nodeType": "Scope",
       "props": {},
       "type": "node"
      },
      "text/html": [
       "<div\n",
       "    class=\"webio-mountpoint\"\n",
       "    data-webio-mountpoint=\"12455834144717542403\"\n",
       ">\n",
       "    <script>\n",
       "    if (window.require && require.defined && require.defined(\"nbextensions/webio-jupyter-notebook\")) {\n",
       "        console.log(\"Jupyter WebIO extension detected, not mounting.\");\n",
       "    } else if (window.WebIO) {\n",
       "        WebIO.mount(\n",
       "            document.querySelector('[data-webio-mountpoint=\"12455834144717542403\"]'),\n",
       "            {\"props\":{},\"nodeType\":\"Scope\",\"type\":\"node\",\"instanceArgs\":{\"imports\":{\"data\":[{\"name\":\"Plotly\",\"type\":\"js\",\"url\":\"\\/assetserver\\/dd499eeafffc246529ce8ce9204890d7f4da8e7b-plotly-latest.min.js\"},{\"name\":null,\"type\":\"js\",\"url\":\"\\/assetserver\\/919d5bdad3adb46aadc35f1289d4eb0a5e295e6b-plotly_webio.bundle.js\"}],\"type\":\"async_block\"},\"id\":\"15555429352416284997\",\"handlers\":{\"_toImage\":[\"(function (options){return this.Plotly.toImage(this.plotElem,options).then((function (data){return WebIO.setval({\\\"name\\\":\\\"image\\\",\\\"scope\\\":\\\"15555429352416284997\\\",\\\"id\\\":\\\"5908046489504638616\\\",\\\"type\\\":\\\"observable\\\"},data)}))})\"],\"__get_gd_contents\":[\"(function (prop){prop==\\\"data\\\" ? (WebIO.setval({\\\"name\\\":\\\"__gd_contents\\\",\\\"scope\\\":\\\"15555429352416284997\\\",\\\"id\\\":\\\"11375369873642913560\\\",\\\"type\\\":\\\"observable\\\"},this.plotElem.data)) : undefined; return prop==\\\"layout\\\" ? (WebIO.setval({\\\"name\\\":\\\"__gd_contents\\\",\\\"scope\\\":\\\"15555429352416284997\\\",\\\"id\\\":\\\"11375369873642913560\\\",\\\"type\\\":\\\"observable\\\"},this.plotElem.layout)) : undefined})\"],\"_downloadImage\":[\"(function (options){return this.Plotly.downloadImage(this.plotElem,options)})\"],\"_commands\":[\"(function (args){var fn=args.shift(); var elem=this.plotElem; var Plotly=this.Plotly; args.unshift(elem); return Plotly[fn].apply(this,args)})\"]},\"systemjs_options\":null,\"mount_callbacks\":[\"function () {\\n    var handler = ((function (Plotly,PlotlyWebIO){PlotlyWebIO.init(WebIO); var gd=this.dom.querySelector(\\\"#plot-d8a6b0c2-eb90-4648-acdc-032929121403\\\"); this.plotElem=gd; this.Plotly=Plotly; (window.Blink!==undefined) ? (gd.style.width=\\\"100%\\\", gd.style.height=\\\"100vh\\\", gd.style.marginLeft=\\\"0%\\\", gd.style.marginTop=\\\"0vh\\\") : undefined; window.onresize=(function (){return Plotly.Plots.resize(gd)}); Plotly.newPlot(gd,[{\\\"y\\\":[1219.0,2438.0,4876.0,9752.0,19504.0,39008.0,78016.0,156032.0,312064.0,624128.0,1.248256e6,2.496512e6,4.993024e6,9.986048e6,1.9972096e7],\\\"type\\\":\\\"scatter\\\",\\\"name\\\":\\\"Infections\\\",\\\"x\\\":[\\\"2020-03-12\\\",\\\"2020-03-19\\\",\\\"2020-03-26\\\",\\\"2020-04-02\\\",\\\"2020-04-09\\\",\\\"2020-04-16\\\",\\\"2020-04-23\\\",\\\"2020-04-30\\\",\\\"2020-05-07\\\",\\\"2020-05-14\\\",\\\"2020-05-21\\\",\\\"2020-05-28\\\",\\\"2020-06-04\\\",\\\"2020-06-11\\\",\\\"2020-06-18\\\"]},{\\\"y\\\":[121.9,243.8,487.6,975.2,1950.4,3900.8,7801.6,15603.2,31206.4,62412.8,124825.6,249651.2,499302.4,998604.8,1.9972096e6],\\\"type\\\":\\\"scatter\\\",\\\"name\\\":\\\"Hospitalizations\\\",\\\"x\\\":[\\\"2020-03-12\\\",\\\"2020-03-19\\\",\\\"2020-03-26\\\",\\\"2020-04-02\\\",\\\"2020-04-09\\\",\\\"2020-04-16\\\",\\\"2020-04-23\\\",\\\"2020-04-30\\\",\\\"2020-05-07\\\",\\\"2020-05-14\\\",\\\"2020-05-21\\\",\\\"2020-05-28\\\",\\\"2020-06-04\\\",\\\"2020-06-11\\\",\\\"2020-06-18\\\"]},{\\\"y\\\":[36.57,73.14,146.28,292.56,585.12,1170.24,2340.48,4680.96,9361.92,18723.84,37447.68,74895.36,149790.72,299581.44,599162.88],\\\"type\\\":\\\"scatter\\\",\\\"name\\\":\\\"Deaths\\\",\\\"x\\\":[\\\"2020-03-12\\\",\\\"2020-03-19\\\",\\\"2020-03-26\\\",\\\"2020-04-02\\\",\\\"2020-04-09\\\",\\\"2020-04-16\\\",\\\"2020-04-23\\\",\\\"2020-04-30\\\",\\\"2020-05-07\\\",\\\"2020-05-14\\\",\\\"2020-05-21\\\",\\\"2020-05-28\\\",\\\"2020-06-04\\\",\\\"2020-06-11\\\",\\\"2020-06-18\\\"]}],{\\\"margin\\\":{\\\"l\\\":50,\\\"b\\\":50,\\\"r\\\":50,\\\"t\\\":60}},{}); gd.on(\\\"plotly_hover\\\",(function (data){var filtered_data=WebIO.PlotlyCommands.filterEventData(gd,data,\\\"hover\\\"); return !(filtered_data.isnil) ? (WebIO.setval({\\\"name\\\":\\\"hover\\\",\\\"scope\\\":\\\"15555429352416284997\\\",\\\"id\\\":\\\"5631471554953850588\\\",\\\"type\\\":\\\"observable\\\"},filtered_data.out)) : undefined})); gd.on(\\\"plotly_unhover\\\",(function (){return WebIO.setval({\\\"name\\\":\\\"hover\\\",\\\"scope\\\":\\\"15555429352416284997\\\",\\\"id\\\":\\\"5631471554953850588\\\",\\\"type\\\":\\\"observable\\\"},{})})); gd.on(\\\"plotly_selected\\\",(function (data){var filtered_data=WebIO.PlotlyCommands.filterEventData(gd,data,\\\"selected\\\"); return !(filtered_data.isnil) ? (WebIO.setval({\\\"name\\\":\\\"selected\\\",\\\"scope\\\":\\\"15555429352416284997\\\",\\\"id\\\":\\\"10593096749167159478\\\",\\\"type\\\":\\\"observable\\\"},filtered_data.out)) : undefined})); gd.on(\\\"plotly_deselect\\\",(function (){return WebIO.setval({\\\"name\\\":\\\"selected\\\",\\\"scope\\\":\\\"15555429352416284997\\\",\\\"id\\\":\\\"10593096749167159478\\\",\\\"type\\\":\\\"observable\\\"},{})})); gd.on(\\\"plotly_relayout\\\",(function (data){var filtered_data=WebIO.PlotlyCommands.filterEventData(gd,data,\\\"relayout\\\"); return !(filtered_data.isnil) ? (WebIO.setval({\\\"name\\\":\\\"relayout\\\",\\\"scope\\\":\\\"15555429352416284997\\\",\\\"id\\\":\\\"3463493518156186101\\\",\\\"type\\\":\\\"observable\\\"},filtered_data.out)) : undefined})); return gd.on(\\\"plotly_click\\\",(function (data){var filtered_data=WebIO.PlotlyCommands.filterEventData(gd,data,\\\"click\\\"); return !(filtered_data.isnil) ? (WebIO.setval({\\\"name\\\":\\\"click\\\",\\\"scope\\\":\\\"15555429352416284997\\\",\\\"id\\\":\\\"17562689019281018725\\\",\\\"type\\\":\\\"observable\\\"},filtered_data.out)) : undefined}))}));\\n    (WebIO.importBlock({\\\"data\\\":[{\\\"name\\\":\\\"Plotly\\\",\\\"type\\\":\\\"js\\\",\\\"url\\\":\\\"\\/assetserver\\/dd499eeafffc246529ce8ce9204890d7f4da8e7b-plotly-latest.min.js\\\"},{\\\"name\\\":null,\\\"type\\\":\\\"js\\\",\\\"url\\\":\\\"\\/assetserver\\/919d5bdad3adb46aadc35f1289d4eb0a5e295e6b-plotly_webio.bundle.js\\\"}],\\\"type\\\":\\\"async_block\\\"})).then((imports) => handler.apply(this, imports));\\n}\\n\"],\"observables\":{\"_toImage\":{\"sync\":false,\"id\":\"9987345511476360837\",\"value\":{}},\"hover\":{\"sync\":false,\"id\":\"5631471554953850588\",\"value\":{}},\"selected\":{\"sync\":false,\"id\":\"10593096749167159478\",\"value\":{}},\"__gd_contents\":{\"sync\":false,\"id\":\"11375369873642913560\",\"value\":{}},\"click\":{\"sync\":false,\"id\":\"17562689019281018725\",\"value\":{}},\"image\":{\"sync\":true,\"id\":\"5908046489504638616\",\"value\":\"\"},\"__get_gd_contents\":{\"sync\":false,\"id\":\"5560465592215215056\",\"value\":\"\"},\"_downloadImage\":{\"sync\":false,\"id\":\"921950512952539158\",\"value\":{}},\"relayout\":{\"sync\":false,\"id\":\"3463493518156186101\",\"value\":{}},\"_commands\":{\"sync\":false,\"id\":\"16366154902217435580\",\"value\":[]}}},\"children\":[{\"props\":{\"id\":\"plot-d8a6b0c2-eb90-4648-acdc-032929121403\"},\"nodeType\":\"DOM\",\"type\":\"node\",\"instanceArgs\":{\"namespace\":\"html\",\"tag\":\"div\"},\"children\":[]}]},\n",
       "            window,\n",
       "        );\n",
       "    } else {\n",
       "        document\n",
       "            .querySelector('[data-webio-mountpoint=\"12455834144717542403\"]')\n",
       "            .innerHTML = (\n",
       "                '<strong>WebIO not detected. Please read ' +\n",
       "                '<a href=\"https://juliagizmos.github.io/WebIO.jl/latest/troubleshooting/not-detected/\">the troubleshooting guide</a> ' +\n",
       "                'for more information on how to resolve this issue.' +\n",
       "                '</strong>'\n",
       "            );\n",
       "    }\n",
       "    </script>\n",
       "</div>\n"
      ],
      "text/plain": [
       "data: [\n",
       "  \"scatter with fields name, type, x, and y\",\n",
       "  \"scatter with fields name, type, x, and y\",\n",
       "  \"scatter with fields name, type, x, and y\"\n",
       "]\n",
       "\n",
       "layout: \"layout with field margin\"\n",
       "\n"
      ]
     },
     "execution_count": 28,
     "metadata": {
      "application/vnd.webio.node+json": {
       "kernelId": "6477c83b-daeb-4041-abad-b0dd9f047179"
      }
     },
     "output_type": "execute_result"
    }
   ],
   "source": [
    "us = plot_covid(Day(100), 1219)"
   ]
  },
  {
   "cell_type": "code",
   "execution_count": 29,
   "metadata": {},
   "outputs": [],
   "source": [
    "savefig(p::Union{PlotlyJS.SyncPlot, Plot}, fn::AbstractString, args...) in PlotlyJS at /Users/cbarrows/.julia/packages/PlotlyJS/AhkM5/src/PlotlyJS.jl:49(us, \"US.html\",)"
   ]
  },
  {
   "cell_type": "code",
   "execution_count": null,
   "metadata": {},
   "outputs": [],
   "source": []
  }
 ],
 "metadata": {
  "@webio": {
   "lastCommId": "adc3b23ba2404e5f907789e23dda44e0",
   "lastKernelId": "6477c83b-daeb-4041-abad-b0dd9f047179"
  },
  "kernelspec": {
   "display_name": "Julia 1.3.1",
   "language": "julia",
   "name": "julia-1.3"
  },
  "language_info": {
   "file_extension": ".jl",
   "mimetype": "application/julia",
   "name": "julia",
   "version": "1.3.1"
  }
 },
 "nbformat": 4,
 "nbformat_minor": 4
}
